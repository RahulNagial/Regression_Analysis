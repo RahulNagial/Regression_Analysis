{
 "cells": [
  {
   "cell_type": "markdown",
   "metadata": {
    "toc": true
   },
   "source": [
    "<h1>Table of Contents<span class=\"tocSkip\"></span></h1>\n",
    "<div class=\"toc\"><ul class=\"toc-item\"><li><span><a href=\"#Project-Overview\" data-toc-modified-id=\"Project-Overview-1\"><span class=\"toc-item-num\">1&nbsp;&nbsp;</span>Project Overview</a></span></li><li><span><a href=\"#Data-Scraping-Specifics\" data-toc-modified-id=\"Data-Scraping-Specifics-2\"><span class=\"toc-item-num\">2&nbsp;&nbsp;</span>Data Scraping Specifics</a></span></li><li><span><a href=\"#Objectives\" data-toc-modified-id=\"Objectives-3\"><span class=\"toc-item-num\">3&nbsp;&nbsp;</span>Objectives</a></span></li><li><span><a href=\"#Initial-Extraction-of-Data\" data-toc-modified-id=\"Initial-Extraction-of-Data-4\"><span class=\"toc-item-num\">4&nbsp;&nbsp;</span>Initial Extraction of Data</a></span><ul class=\"toc-item\"><li><span><a href=\"#Imports-and-Settings\" data-toc-modified-id=\"Imports-and-Settings-4.1\"><span class=\"toc-item-num\">4.1&nbsp;&nbsp;</span>Imports and Settings</a></span></li><li><span><a href=\"#Quick-Overview\" data-toc-modified-id=\"Quick-Overview-4.2\"><span class=\"toc-item-num\">4.2&nbsp;&nbsp;</span>Quick Overview</a></span></li><li><span><a href=\"#Data-Extraction-from-FlexTable_info\" data-toc-modified-id=\"Data-Extraction-from-FlexTable_info-4.3\"><span class=\"toc-item-num\">4.3&nbsp;&nbsp;</span>Data Extraction from FlexTable_info</a></span></li><li><span><a href=\"#Data-Extraction-from-FeaturesTable_info\" data-toc-modified-id=\"Data-Extraction-from-FeaturesTable_info-4.4\"><span class=\"toc-item-num\">4.4&nbsp;&nbsp;</span>Data Extraction from FeaturesTable_info</a></span></li><li><span><a href=\"#Data-Extraction-from-MainTable_info\" data-toc-modified-id=\"Data-Extraction-from-MainTable_info-4.5\"><span class=\"toc-item-num\">4.5&nbsp;&nbsp;</span>Data Extraction from MainTable_info</a></span></li><li><span><a href=\"#Exploding-Data-Frame-Entries-to-Get-Sub-Listings\" data-toc-modified-id=\"Exploding-Data-Frame-Entries-to-Get-Sub-Listings-4.6\"><span class=\"toc-item-num\">4.6&nbsp;&nbsp;</span>Exploding Data Frame Entries to Get Sub-Listings</a></span></li></ul></li><li><span><a href=\"#Cleaning-Data-in-Sub-Categories\" data-toc-modified-id=\"Cleaning-Data-in-Sub-Categories-5\"><span class=\"toc-item-num\">5&nbsp;&nbsp;</span>Cleaning Data in Sub-Categories</a></span><ul class=\"toc-item\"><li><span><a href=\"#Cleaning-Data-in-MainTable_info\" data-toc-modified-id=\"Cleaning-Data-in-MainTable_info-5.1\"><span class=\"toc-item-num\">5.1&nbsp;&nbsp;</span>Cleaning Data in MainTable_info</a></span><ul class=\"toc-item\"><li><span><a href=\"#Cleaning-Listing_Type-Column\" data-toc-modified-id=\"Cleaning-Listing_Type-Column-5.1.1\"><span class=\"toc-item-num\">5.1.1&nbsp;&nbsp;</span>Cleaning Listing_Type Column</a></span></li><li><span><a href=\"#Cleaning-Sq_Feet-Column\" data-toc-modified-id=\"Cleaning-Sq_Feet-Column-5.1.2\"><span class=\"toc-item-num\">5.1.2&nbsp;&nbsp;</span>Cleaning Sq_Feet Column</a></span></li><li><span><a href=\"#Cleaning-Furnishing-Column\" data-toc-modified-id=\"Cleaning-Furnishing-Column-5.1.3\"><span class=\"toc-item-num\">5.1.3&nbsp;&nbsp;</span>Cleaning Furnishing Column</a></span></li><li><span><a href=\"#Cleaning-Baths-Column\" data-toc-modified-id=\"Cleaning-Baths-Column-5.1.4\"><span class=\"toc-item-num\">5.1.4&nbsp;&nbsp;</span>Cleaning Baths Column</a></span></li><li><span><a href=\"#Cleaning-Beds-Column\" data-toc-modified-id=\"Cleaning-Beds-Column-5.1.5\"><span class=\"toc-item-num\">5.1.5&nbsp;&nbsp;</span>Cleaning Beds Column</a></span></li><li><span><a href=\"#Cleaning-Rent_Monthly-Column\" data-toc-modified-id=\"Cleaning-Rent_Monthly-Column-5.1.6\"><span class=\"toc-item-num\">5.1.6&nbsp;&nbsp;</span>Cleaning Rent_Monthly Column</a></span></li><li><span><a href=\"#Cleaning-Utilities_info-Column\" data-toc-modified-id=\"Cleaning-Utilities_info-Column-5.1.7\"><span class=\"toc-item-num\">5.1.7&nbsp;&nbsp;</span>Cleaning Utilities_info Column</a></span></li></ul></li><li><span><a href=\"#Cleaning-Data-in-FlexTable_info\" data-toc-modified-id=\"Cleaning-Data-in-FlexTable_info-5.2\"><span class=\"toc-item-num\">5.2&nbsp;&nbsp;</span>Cleaning Data in FlexTable_info</a></span><ul class=\"toc-item\"><li><span><a href=\"#Cleaning-Neighbourhood-Column\" data-toc-modified-id=\"Cleaning-Neighbourhood-Column-5.2.1\"><span class=\"toc-item-num\">5.2.1&nbsp;&nbsp;</span>Cleaning Neighbourhood Column</a></span></li><li><span><a href=\"#Cleaning-Smoking-Column\" data-toc-modified-id=\"Cleaning-Smoking-Column-5.2.2\"><span class=\"toc-item-num\">5.2.2&nbsp;&nbsp;</span>Cleaning Smoking Column</a></span></li><li><span><a href=\"#Cleaning-Landlord_On_Rentfaster_Since-Column\" data-toc-modified-id=\"Cleaning-Landlord_On_Rentfaster_Since-Column-5.2.3\"><span class=\"toc-item-num\">5.2.3&nbsp;&nbsp;</span>Cleaning Landlord_On_Rentfaster_Since Column</a></span></li><li><span><a href=\"#Cleaning-Year_Built-Column\" data-toc-modified-id=\"Cleaning-Year_Built-Column-5.2.4\"><span class=\"toc-item-num\">5.2.4&nbsp;&nbsp;</span>Cleaning Year_Built Column</a></span></li><li><span><a href=\"#Cleaning-Pets-Column\" data-toc-modified-id=\"Cleaning-Pets-Column-5.2.5\"><span class=\"toc-item-num\">5.2.5&nbsp;&nbsp;</span>Cleaning Pets Column</a></span></li><li><span><a href=\"#Cleaning-Tenant_Parking-Column\" data-toc-modified-id=\"Cleaning-Tenant_Parking-Column-5.2.6\"><span class=\"toc-item-num\">5.2.6&nbsp;&nbsp;</span>Cleaning Tenant_Parking Column</a></span></li></ul></li><li><span><a href=\"#Cleaning-Data-in-FeaturesTable_info\" data-toc-modified-id=\"Cleaning-Data-in-FeaturesTable_info-5.3\"><span class=\"toc-item-num\">5.3&nbsp;&nbsp;</span>Cleaning Data in FeaturesTable_info</a></span><ul class=\"toc-item\"><li><span><a href=\"#Cleaning-Building_features-Column\" data-toc-modified-id=\"Cleaning-Building_features-Column-5.3.1\"><span class=\"toc-item-num\">5.3.1&nbsp;&nbsp;</span>Cleaning Building_features Column</a></span></li><li><span><a href=\"#Cleaning-Community_features-Column\" data-toc-modified-id=\"Cleaning-Community_features-Column-5.3.2\"><span class=\"toc-item-num\">5.3.2&nbsp;&nbsp;</span>Cleaning Community_features Column</a></span></li><li><span><a href=\"#Cleaning-Property_features-Column\" data-toc-modified-id=\"Cleaning-Property_features-Column-5.3.3\"><span class=\"toc-item-num\">5.3.3&nbsp;&nbsp;</span>Cleaning Property_features Column</a></span></li></ul></li></ul></li><li><span><a href=\"#Removing-Repeated-Listings\" data-toc-modified-id=\"Removing-Repeated-Listings-6\"><span class=\"toc-item-num\">6&nbsp;&nbsp;</span>Removing Repeated Listings</a></span><ul class=\"toc-item\"><li><span><a href=\"#Understanding-the-Issue\" data-toc-modified-id=\"Understanding-the-Issue-6.1\"><span class=\"toc-item-num\">6.1&nbsp;&nbsp;</span>Understanding the Issue</a></span></li><li><span><a href=\"#Getting-Number-of-Sub-Listings-per-Listing\" data-toc-modified-id=\"Getting-Number-of-Sub-Listings-per-Listing-6.2\"><span class=\"toc-item-num\">6.2&nbsp;&nbsp;</span>Getting Number of Sub-Listings per Listing</a></span></li><li><span><a href=\"#Getting-Index-at-Repetitions-and-Cleaning\" data-toc-modified-id=\"Getting-Index-at-Repetitions-and-Cleaning-6.3\"><span class=\"toc-item-num\">6.3&nbsp;&nbsp;</span>Getting Index at Repetitions and Cleaning</a></span></li></ul></li><li><span><a href=\"#Saving-Final-Dataframe\" data-toc-modified-id=\"Saving-Final-Dataframe-7\"><span class=\"toc-item-num\">7&nbsp;&nbsp;</span>Saving Final Dataframe</a></span></li><li><span><a href=\"#Next-Steps\" data-toc-modified-id=\"Next-Steps-8\"><span class=\"toc-item-num\">8&nbsp;&nbsp;</span>Next Steps</a></span></li></ul></div>"
   ]
  },
  {
   "cell_type": "markdown",
   "metadata": {
    "heading_collapsed": true
   },
   "source": [
    "# Project Overview\n"
   ]
  },
  {
   "cell_type": "markdown",
   "metadata": {
    "hidden": true
   },
   "source": [
    "I wanted to leverage data science to build a tool that would predict the montlhy rent of rental listings in Calgary depending on the different features of the property. Such a tool would be benifical for many people like:\n",
    "\n",
    "> 1. __New Immigrants__ : Many immigrants are settling in Calgary and they would be interested in calculating their monthly expenditure here so that they can better manage their finances. \n",
    "> 2. __International Students__ : There are many international students studying at places like University of Calgary and they would want a baseline to negotiate their rent against.\n",
    "> 3. __Landlords__ : Landlords can gauge what is the general asking price for a similar listing as theirs and then put up a more competitive monthly rent to attract renters.\n",
    "\n"
   ]
  },
  {
   "cell_type": "markdown",
   "metadata": {
    "hidden": true
   },
   "source": [
    "In order to gather data for analysis, I scraped the rental listings from <a href=\"https://www.rentfaster.ca/\" target=\"_blank\">RentFaster</a>, which is one of the most popular rental listings platform in Canada. I used Selenium library to scrape ~1500 listings from the website for listings in Calgary and stored the raw data in CSV format (<a href=\"https://github.com/RahulNagial/Regression_Analysis\" target=\"_blank\">refer \"rentfaster_scraped_data.csv\"</a>). For the scraping script used, please <a href=\"https://github.com/RahulNagial/Regression_Analysis/blob/main/rentfasterscraping.py\" target=\"_blank\">refer \"rentfasterscraping.py\"</a>."
   ]
  },
  {
   "cell_type": "markdown",
   "metadata": {
    "hidden": true
   },
   "source": [
    "In the present and subsequent notebooks, I cleaned the scraped data, performed exploratory data analysis on it and used the insights gained to build machine learning models on it (i.e. regression models) to predict montlhy rent. I tuned the model and got the best model with a mean absolute error as $160. Finally, I productionized the best model using Flask API and rendered a client-facing UI using HTML. Finally, I hosted it on a local webserver. <a href=\"https://github.com/RahulNagial/Regression_Analysis\" target=\"_blank\">For more on this project refer my GitHub repository</a>.\n"
   ]
  },
  {
   "cell_type": "markdown",
   "metadata": {
    "heading_collapsed": true
   },
   "source": [
    "# Data Scraping Specifics"
   ]
  },
  {
   "cell_type": "markdown",
   "metadata": {
    "hidden": true
   },
   "source": [
    "It is important to understand the structure of the website from where data was scraped. This understanding would help in guiding the workflow for cleaning scraped data in this notebook. \n",
    "\n",
    "The geckodriver for Mozilla Firefox used in Selenium scraping script followed the following protocol. First, it openend the browser window and went to the <a href=\"https://www.rentfaster.ca/ab/calgary/rentals/#dialog-listview\" target=\"_blank\">url</a> containing all listing for rentals in Calgary. The landing page looked as shown below. There were multiple listings on each page and there were ~120 pages comprising all the rental listings in Calgary. The geckodriver clicked on each individual listing (highlighted in red) on the page, scraped the data, closed the individual listing and then went on to next one. \n",
    "\n",
    "Once the end of the page was reached, the gecko driver clicked on the 'Next' button (highlighted in red) to go to next page and this process continued till ~1500 listings were scraped. "
   ]
  },
  {
   "cell_type": "markdown",
   "metadata": {
    "hidden": true
   },
   "source": [
    " ![landingpage](images/landingpage.png)"
   ]
  },
  {
   "cell_type": "markdown",
   "metadata": {
    "hidden": true
   },
   "source": [
    "When each of the the individual listing on a page was clicked on, the window shown below popped up and it contained all the required information for scraping purposes. The information was contained in the following sub-categories of the pop-up (as highlighted in red):\n",
    "\n",
    "> 1. __Flex Table__ \n",
    "> 2. __Main Info__\n",
    "> 3. __Full Description__\n",
    "> 4. __Features Table__\n"
   ]
  },
  {
   "cell_type": "markdown",
   "metadata": {
    "hidden": true
   },
   "source": [
    " ![Rentfaster Image](images/broadstructure.png)"
   ]
  },
  {
   "cell_type": "markdown",
   "metadata": {
    "hidden": true
   },
   "source": [
    "An important thing to notice in Main Info section is that each individual listing can have many sub-listings and thus we have to handle these sub-listings by expanding them (i.e. *exploding* them latter)."
   ]
  },
  {
   "cell_type": "markdown",
   "metadata": {
    "hidden": true
   },
   "source": [
    "Given the structure of rentfaster website, the data is extracted and grouped in the above mentioned four major sub-categories in the raw scraped file. The aim next is to unpack the raw data and extract information from it."
   ]
  },
  {
   "cell_type": "markdown",
   "metadata": {
    "heading_collapsed": true
   },
   "source": [
    "# Objectives"
   ]
  },
  {
   "cell_type": "markdown",
   "metadata": {
    "hidden": true
   },
   "source": [
    " The objectives of this notebook are to extract the following information from raw data:\n",
    " \n",
    "> 1. __Listing type (from Main Info)__\n",
    "> 2. __Size of listing in sq. feet (from Main Info)__\n",
    "> 3. __Whether it is furnished or not (from Main Info)__\n",
    "> 4. __Number of bathrooms (from Main Info)__\n",
    "> 5. __Number of bedrooms (from Main Info)__\n",
    "> 6. __Monthly rent amount (from Main Info)__\n",
    "> 7. __How many utilities are included (from Main Info)__\n",
    "> 8. __Neighbourhood name for listing (from Flex Table)__\n",
    "> 9. __Is smoking allowed in listing? (from Flex Table)__\n",
    "> 10. __Number of years landlord has been on Rentfaster (from Flex Table)__\n",
    "> 11. __Year when property was built (from Flex Table)__\n",
    "> 12. __Whether pets are allowed or not? (from Flex Table)__\n",
    "> 13. __Is tenant parking covered and protected? (from Flex Table)__\n",
    "> 14. __What are the features meantioned for building, property and community? Also, ranking their features and using the building/property/community score for subsequent analysis. (from Features Table)__\n"
   ]
  },
  {
   "cell_type": "markdown",
   "metadata": {
    "hidden": true
   },
   "source": [
    "In more general terms, the objective of this notebook is to provide a walk-through of the data cleaning process for the raw scraped data. "
   ]
  },
  {
   "cell_type": "markdown",
   "metadata": {
    "heading_collapsed": true
   },
   "source": [
    "# Initial Extraction of Data"
   ]
  },
  {
   "cell_type": "markdown",
   "metadata": {
    "hidden": true
   },
   "source": [
    "The data cleaning work starts in this sub-section. "
   ]
  },
  {
   "cell_type": "markdown",
   "metadata": {
    "heading_collapsed": true,
    "hidden": true
   },
   "source": [
    "## Imports and Settings"
   ]
  },
  {
   "cell_type": "markdown",
   "metadata": {
    "hidden": true
   },
   "source": [
    "First, I import the required libraries and setup the notebook enviornment. I also load the raw data in *df*."
   ]
  },
  {
   "cell_type": "code",
   "execution_count": 1,
   "metadata": {
    "hidden": true
   },
   "outputs": [],
   "source": [
    "# importing necessary libraries\n",
    "import itertools\n",
    "import pandas as pd\n",
    "import numpy as np\n",
    "\n",
    "# turning off warnings for the notebook\n",
    "import warnings\n",
    "warnings.filterwarnings('ignore')\n",
    "\n",
    "# displaying all the columns and row throughout the notebook\n",
    "pd.set_option('display.max_columns', None)\n",
    "pd.set_option('display.max_rows', None)\n",
    "\n"
   ]
  },
  {
   "cell_type": "code",
   "execution_count": 2,
   "metadata": {
    "hidden": true
   },
   "outputs": [],
   "source": [
    "# reading in the raw data and creating a copy of it to work on\n",
    "df_rentfaster = pd.read_csv(\"rentfaster_scraped_data.csv\")\n",
    "df = df_rentfaster.copy()"
   ]
  },
  {
   "cell_type": "markdown",
   "metadata": {
    "heading_collapsed": true,
    "hidden": true
   },
   "source": [
    "## Quick Overview"
   ]
  },
  {
   "cell_type": "markdown",
   "metadata": {
    "hidden": true
   },
   "source": [
    "I checked a few enteries and shape of the dataframe."
   ]
  },
  {
   "cell_type": "code",
   "execution_count": 3,
   "metadata": {
    "hidden": true
   },
   "outputs": [
    {
     "data": {
      "text/html": [
       "<div>\n",
       "<style scoped>\n",
       "    .dataframe tbody tr th:only-of-type {\n",
       "        vertical-align: middle;\n",
       "    }\n",
       "\n",
       "    .dataframe tbody tr th {\n",
       "        vertical-align: top;\n",
       "    }\n",
       "\n",
       "    .dataframe thead th {\n",
       "        text-align: right;\n",
       "    }\n",
       "</style>\n",
       "<table border=\"1\" class=\"dataframe\">\n",
       "  <thead>\n",
       "    <tr style=\"text-align: right;\">\n",
       "      <th></th>\n",
       "      <th>Listings_Title</th>\n",
       "      <th>Location</th>\n",
       "      <th>Neighbourhood</th>\n",
       "      <th>Fulldescription</th>\n",
       "      <th>FlexTable_info</th>\n",
       "      <th>MainTable_info</th>\n",
       "      <th>FeaturesTable_info</th>\n",
       "    </tr>\n",
       "  </thead>\n",
       "  <tbody>\n",
       "    <tr>\n",
       "      <th>0</th>\n",
       "      <td>VISTA PHASE 1</td>\n",
       "      <td>60 Skyview Ranch Drive NE</td>\n",
       "      <td>Skyview</td>\n",
       "      <td>Join Us for Our Virtual Open House on Monday a...</td>\n",
       "      <td>LISTING ID\\n430647\\nPETS\\nCats &amp; dogs negotiab...</td>\n",
       "      <td>['Apartment $1433 $1433 2 bd 1 ba 873 ft2 Unfu...</td>\n",
       "      <td>BUILDING FEATURES Fitness Area\\nPROPERTY FEATU...</td>\n",
       "    </tr>\n",
       "    <tr>\n",
       "      <th>1</th>\n",
       "      <td>LARGE 2 BEDROOMS WITH DEN CONDO AT TARALAKE WA...</td>\n",
       "      <td>211- 355 Taralake Way NE</td>\n",
       "      <td>Taradale</td>\n",
       "      <td>Large 2 bedroom condo with den ideal for small...</td>\n",
       "      <td>LISTING ID\\n124512\\nPETS\\nNo pets\\nSMOKING\\nNo...</td>\n",
       "      <td>['Condo $1350 $1350 2 bd + den 2 ba 960 ft2 Un...</td>\n",
       "      <td>BUILDING FEATURES Elevator Secure Entry\\nPROPE...</td>\n",
       "    </tr>\n",
       "    <tr>\n",
       "      <th>2</th>\n",
       "      <td>COZY 2 BEDROOM COTTAGE HOUSE WITH HUGE FENCED ...</td>\n",
       "      <td>West Hillhurst Calgary, AB</td>\n",
       "      <td>West Hillhurst</td>\n",
       "      <td>Entire Cozy 2 Bedroom Cottage Bungalow in West...</td>\n",
       "      <td>LISTING ID\\n437801\\nPETS\\nNo cats Dogs negotia...</td>\n",
       "      <td>['House $1750 $1750 2 bd 1 ba 800 ft2 Unfurnis...</td>\n",
       "      <td>PROPERTY FEATURES Dishwasher Oven/Stove Fridge...</td>\n",
       "    </tr>\n",
       "    <tr>\n",
       "      <th>3</th>\n",
       "      <td>VARSITY TOWERS NORTH WEST</td>\n",
       "      <td>301 - 4603 Varsity Dr NW</td>\n",
       "      <td>Varsity</td>\n",
       "      <td>Luxurious condo living in 8 story concrete bui...</td>\n",
       "      <td>LISTING ID\\n407306\\nPETS\\nNo pets\\nSMOKING\\nNo...</td>\n",
       "      <td>['Condo $1500 $1500 1 bd + den 1.5 ba 1100 ft2...</td>\n",
       "      <td>BUILDING FEATURES Bike room Common Terrace Con...</td>\n",
       "    </tr>\n",
       "    <tr>\n",
       "      <th>4</th>\n",
       "      <td>VISTA PHASE 2</td>\n",
       "      <td>20 &amp; 40 Skyview Ranch Landing NE</td>\n",
       "      <td>Skyview</td>\n",
       "      <td>Join Us for Our Virtual Open House on Monday a...</td>\n",
       "      <td>LISTING ID\\n430648\\nPETS\\nCats &amp; dogs negotiab...</td>\n",
       "      <td>['Apartment $1199 $1199 1 bd 1 ba 678 ft2 Unfu...</td>\n",
       "      <td>BUILDING FEATURES Fitness Area\\nPROPERTY FEATU...</td>\n",
       "    </tr>\n",
       "    <tr>\n",
       "      <th>5</th>\n",
       "      <td>VISTA PHASE 2</td>\n",
       "      <td>20 &amp; 40 Skyview Ranch Landing NE</td>\n",
       "      <td>Skyview</td>\n",
       "      <td>Join Us for Our Virtual Open House on Monday a...</td>\n",
       "      <td>LISTING ID\\n430648\\nPETS\\nCats &amp; dogs negotiab...</td>\n",
       "      <td>['Apartment $1199 $1199 1 bd 1 ba 678 ft2 Unfu...</td>\n",
       "      <td>BUILDING FEATURES Fitness Area\\nPROPERTY FEATU...</td>\n",
       "    </tr>\n",
       "    <tr>\n",
       "      <th>6</th>\n",
       "      <td>VISTA PHASE 1</td>\n",
       "      <td>60 Skyview Ranch Drive NE</td>\n",
       "      <td>Skyview</td>\n",
       "      <td>Join Us for Our Virtual Open House on Monday a...</td>\n",
       "      <td>LISTING ID\\n430647\\nPETS\\nCats &amp; dogs negotiab...</td>\n",
       "      <td>['Apartment $1433 $1433 2 bd 1 ba 873 ft2 Unfu...</td>\n",
       "      <td>BUILDING FEATURES Fitness Area\\nPROPERTY FEATU...</td>\n",
       "    </tr>\n",
       "    <tr>\n",
       "      <th>7</th>\n",
       "      <td>6 BED,LIVING ROOM,FAMILY ROOM,3.5 BATH</td>\n",
       "      <td>216 Arbour Summit Place NW</td>\n",
       "      <td>Arbour Lake</td>\n",
       "      <td>6 Bedrooms, 3.5 Bathrooms, 1 Living Room, 1 Fa...</td>\n",
       "      <td>LISTING ID\\n444203\\nPETS\\nCats &amp; dogs negotiab...</td>\n",
       "      <td>['House $2500 $2500 6 bd 3.5 ba 3000 ft2 Unfur...</td>\n",
       "      <td>PROPERTY FEATURES Dishwasher Oven/Stove Microw...</td>\n",
       "    </tr>\n",
       "    <tr>\n",
       "      <th>8</th>\n",
       "      <td>2 BED/2 BATH CONTEMPORARY CONDO IN PARKHILL</td>\n",
       "      <td>24 Mission Road Southwest</td>\n",
       "      <td>Parkhill-Stanley Park</td>\n",
       "      <td>Contemporary 2 bedroom / 2 bathroom corner uni...</td>\n",
       "      <td>LISTING ID\\n439237\\nPETS\\nCats &amp; dogs negotiab...</td>\n",
       "      <td>['Condo $1750 $1750 2 bd 2 ba 1000 ft2 Unfurni...</td>\n",
       "      <td>BUILDING FEATURES Elevator\\nPROPERTY FEATURES ...</td>\n",
       "    </tr>\n",
       "    <tr>\n",
       "      <th>9</th>\n",
       "      <td>MOVE IN NOW AND DON'T PAY UNTIL MAY 1 + GET AP...</td>\n",
       "      <td>1528 16 Ave NW</td>\n",
       "      <td>Capitol Hill</td>\n",
       "      <td>Take a virtual tour of ONE6 Residential and re...</td>\n",
       "      <td>LISTING ID\\n307606\\nPETS\\nCats &amp; dogs negotiab...</td>\n",
       "      <td>['Apartment $1010 $1010 1 bd 1 ba 426 ft2 Unfu...</td>\n",
       "      <td>BUILDING FEATURES Courtyard Elevator Secure En...</td>\n",
       "    </tr>\n",
       "    <tr>\n",
       "      <th>10</th>\n",
       "      <td>APARTMENT</td>\n",
       "      <td>3704 20 St SW</td>\n",
       "      <td>Altadore</td>\n",
       "      <td>The apartment is within walking distance to Ma...</td>\n",
       "      <td>LISTING ID\\n151506\\nPETS\\nNo pets\\nSMOKING\\nNo...</td>\n",
       "      <td>['Apartment $925 $925 2 bd 1 ba 1000 ft2 Unfur...</td>\n",
       "      <td>BUILDING FEATURES Secure Entry Courtyard\\nPROP...</td>\n",
       "    </tr>\n",
       "    <tr>\n",
       "      <th>11</th>\n",
       "      <td>5 BEDROOM INNERCITY HOME ON 17 AVE SW</td>\n",
       "      <td>1922 17 ave sw</td>\n",
       "      <td>Scarboro</td>\n",
       "      <td>Renting on approved credit only. Available imm...</td>\n",
       "      <td>LISTING ID\\n57781\\nPETS\\nCats &amp; dogs negotiabl...</td>\n",
       "      <td>['House $2050 $2050 5 bd 2 ba 1200 ft2 Unfurni...</td>\n",
       "      <td>PROPERTY FEATURES Dishwasher Oven/Stove Fridge...</td>\n",
       "    </tr>\n",
       "    <tr>\n",
       "      <th>12</th>\n",
       "      <td>SPRUCE RIDGE ESTATES (104-19A HEMLOCK CRES. SW )</td>\n",
       "      <td>104-19A Hemlock Cres. SW</td>\n",
       "      <td>Spruce Cliff</td>\n",
       "      <td>Rent today and save up to 2 months on rent wit...</td>\n",
       "      <td>LISTING ID\\n29347\\nPETS\\nCats &amp; dogs negotiabl...</td>\n",
       "      <td>['Apartment $1324 $399 2 bd 1 ba 945 ft2 Unfur...</td>\n",
       "      <td>BUILDING FEATURES On-Site Management\\nPROPERTY...</td>\n",
       "    </tr>\n",
       "    <tr>\n",
       "      <th>13</th>\n",
       "      <td>PATRICIAN VILLAGE (L208, 1919 UNIVERSITY DR. NW)</td>\n",
       "      <td>L208, 1919 University Dr. NW</td>\n",
       "      <td>University Heights</td>\n",
       "      <td>Rent today and save up to 2 months on rent wit...</td>\n",
       "      <td>LISTING ID\\n20548\\nPETS\\nCats &amp; dogs negotiabl...</td>\n",
       "      <td>['Apartment $1179 $399 1 bd 1 ba 650 ft2 Unfur...</td>\n",
       "      <td>BUILDING FEATURES On-Site Management\\nPROPERTY...</td>\n",
       "    </tr>\n",
       "    <tr>\n",
       "      <th>14</th>\n",
       "      <td>LOFTS ON FIRST</td>\n",
       "      <td>1010 First Street South West</td>\n",
       "      <td>Beltline</td>\n",
       "      <td>Lofts on First offers brand new, loft-style re...</td>\n",
       "      <td>LISTING ID\\n303992\\nPETS\\nCats &amp; dogs allowed\\...</td>\n",
       "      <td>['Apartment $1375 Other 1 bd 1 ba 700 ft2 Unfu...</td>\n",
       "      <td>PROPERTY FEATURES Balcony Laundry - In Suite E...</td>\n",
       "    </tr>\n",
       "    <tr>\n",
       "      <th>15</th>\n",
       "      <td>BEAUTIFUL 2 BDRM BUNGALOW TOWNHOUSE - STEPS FR...</td>\n",
       "      <td>2511 38 Street Northeast</td>\n",
       "      <td>Rundle</td>\n",
       "      <td>BEAUTIFUL 2 BEDROOM BUNGALOW TOWNHOUSE - STEPS...</td>\n",
       "      <td>LISTING ID\\n365453\\nPETS\\nNo pets\\nSMOKING\\nNo...</td>\n",
       "      <td>['Townhouse $1000 $1000 2 bd 1 ba Unfurnished ...</td>\n",
       "      <td>PROPERTY FEATURES Fridge Laundry - In Suite Ov...</td>\n",
       "    </tr>\n",
       "    <tr>\n",
       "      <th>16</th>\n",
       "      <td>BRIGHT AND COZY 1 BEDROOM SUITE</td>\n",
       "      <td>1536 45 street s.e,</td>\n",
       "      <td>Forest Lawn</td>\n",
       "      <td>Renovated 4 yrs ago, new windows cut in for na...</td>\n",
       "      <td>LISTING ID\\n22127\\nPETS\\nNo pets\\nSMOKING\\nNon...</td>\n",
       "      <td>['Basement $950 $950 1 bd 1 ba 600 ft2 Unfurni...</td>\n",
       "      <td>PROPERTY FEATURES Oven/Stove Fridge Laundry - ...</td>\n",
       "    </tr>\n",
       "    <tr>\n",
       "      <th>17</th>\n",
       "      <td>WESTBROOK MANOR</td>\n",
       "      <td>937 37 Street SW</td>\n",
       "      <td>Rosscarrock</td>\n",
       "      <td>Westbrook Manor is professionally managed by M...</td>\n",
       "      <td>LISTING ID\\n51405\\nPETS\\nCats &amp; dogs negotiabl...</td>\n",
       "      <td>['Apartment $999 $350 1 bd 1 ba 600 ft2 Unfurn...</td>\n",
       "      <td>PROPERTY FEATURES Fridge Window Coverings Balc...</td>\n",
       "    </tr>\n",
       "    <tr>\n",
       "      <th>18</th>\n",
       "      <td>BEAUTIFUL 3 BEDROOM SUITE NEAR UOFC AND LRT</td>\n",
       "      <td>Banff Trail Calgary, AB</td>\n",
       "      <td>Banff Trail</td>\n",
       "      <td>Very beautiful &amp; bright newly renovated 3 bedr...</td>\n",
       "      <td>LISTING ID\\n30419\\nPETS\\nNo pets\\nSMOKING\\nNon...</td>\n",
       "      <td>['Basement $1200 $1200 3 bd 1 ba 1150 ft2 Unfu...</td>\n",
       "      <td>PROPERTY FEATURES Dishwasher Oven/Stove Fridge...</td>\n",
       "    </tr>\n",
       "    <tr>\n",
       "      <th>19</th>\n",
       "      <td>MAINSTREET ON ELBOW</td>\n",
       "      <td>7107 Elbow Drive SW</td>\n",
       "      <td>Kelvin Grove</td>\n",
       "      <td>Mainstreet on Elbow is professionally managed ...</td>\n",
       "      <td>LISTING ID\\n342680\\nPETS\\nCats &amp; dogs negotiab...</td>\n",
       "      <td>['Apartment $1125 $350 1 bd 1 ba 620 ft2 Unfur...</td>\n",
       "      <td>PROPERTY FEATURES In-suite Storage Fridge Balc...</td>\n",
       "    </tr>\n",
       "  </tbody>\n",
       "</table>\n",
       "</div>"
      ],
      "text/plain": [
       "                                       Listings_Title  \\\n",
       "0                                       VISTA PHASE 1   \n",
       "1   LARGE 2 BEDROOMS WITH DEN CONDO AT TARALAKE WA...   \n",
       "2   COZY 2 BEDROOM COTTAGE HOUSE WITH HUGE FENCED ...   \n",
       "3                           VARSITY TOWERS NORTH WEST   \n",
       "4                                       VISTA PHASE 2   \n",
       "5                                       VISTA PHASE 2   \n",
       "6                                       VISTA PHASE 1   \n",
       "7              6 BED,LIVING ROOM,FAMILY ROOM,3.5 BATH   \n",
       "8         2 BED/2 BATH CONTEMPORARY CONDO IN PARKHILL   \n",
       "9   MOVE IN NOW AND DON'T PAY UNTIL MAY 1 + GET AP...   \n",
       "10                                          APARTMENT   \n",
       "11              5 BEDROOM INNERCITY HOME ON 17 AVE SW   \n",
       "12   SPRUCE RIDGE ESTATES (104-19A HEMLOCK CRES. SW )   \n",
       "13   PATRICIAN VILLAGE (L208, 1919 UNIVERSITY DR. NW)   \n",
       "14                                     LOFTS ON FIRST   \n",
       "15  BEAUTIFUL 2 BDRM BUNGALOW TOWNHOUSE - STEPS FR...   \n",
       "16                    BRIGHT AND COZY 1 BEDROOM SUITE   \n",
       "17                                    WESTBROOK MANOR   \n",
       "18        BEAUTIFUL 3 BEDROOM SUITE NEAR UOFC AND LRT   \n",
       "19                                MAINSTREET ON ELBOW   \n",
       "\n",
       "                            Location          Neighbourhood  \\\n",
       "0          60 Skyview Ranch Drive NE                Skyview   \n",
       "1           211- 355 Taralake Way NE               Taradale   \n",
       "2         West Hillhurst Calgary, AB         West Hillhurst   \n",
       "3           301 - 4603 Varsity Dr NW                Varsity   \n",
       "4   20 & 40 Skyview Ranch Landing NE                Skyview   \n",
       "5   20 & 40 Skyview Ranch Landing NE                Skyview   \n",
       "6          60 Skyview Ranch Drive NE                Skyview   \n",
       "7         216 Arbour Summit Place NW            Arbour Lake   \n",
       "8          24 Mission Road Southwest  Parkhill-Stanley Park   \n",
       "9                     1528 16 Ave NW           Capitol Hill   \n",
       "10                     3704 20 St SW               Altadore   \n",
       "11                    1922 17 ave sw               Scarboro   \n",
       "12          104-19A Hemlock Cres. SW           Spruce Cliff   \n",
       "13      L208, 1919 University Dr. NW     University Heights   \n",
       "14      1010 First Street South West               Beltline   \n",
       "15          2511 38 Street Northeast                 Rundle   \n",
       "16               1536 45 street s.e,            Forest Lawn   \n",
       "17                  937 37 Street SW            Rosscarrock   \n",
       "18           Banff Trail Calgary, AB            Banff Trail   \n",
       "19               7107 Elbow Drive SW           Kelvin Grove   \n",
       "\n",
       "                                      Fulldescription  \\\n",
       "0   Join Us for Our Virtual Open House on Monday a...   \n",
       "1   Large 2 bedroom condo with den ideal for small...   \n",
       "2   Entire Cozy 2 Bedroom Cottage Bungalow in West...   \n",
       "3   Luxurious condo living in 8 story concrete bui...   \n",
       "4   Join Us for Our Virtual Open House on Monday a...   \n",
       "5   Join Us for Our Virtual Open House on Monday a...   \n",
       "6   Join Us for Our Virtual Open House on Monday a...   \n",
       "7   6 Bedrooms, 3.5 Bathrooms, 1 Living Room, 1 Fa...   \n",
       "8   Contemporary 2 bedroom / 2 bathroom corner uni...   \n",
       "9   Take a virtual tour of ONE6 Residential and re...   \n",
       "10  The apartment is within walking distance to Ma...   \n",
       "11  Renting on approved credit only. Available imm...   \n",
       "12  Rent today and save up to 2 months on rent wit...   \n",
       "13  Rent today and save up to 2 months on rent wit...   \n",
       "14  Lofts on First offers brand new, loft-style re...   \n",
       "15  BEAUTIFUL 2 BEDROOM BUNGALOW TOWNHOUSE - STEPS...   \n",
       "16  Renovated 4 yrs ago, new windows cut in for na...   \n",
       "17  Westbrook Manor is professionally managed by M...   \n",
       "18  Very beautiful & bright newly renovated 3 bedr...   \n",
       "19  Mainstreet on Elbow is professionally managed ...   \n",
       "\n",
       "                                       FlexTable_info  \\\n",
       "0   LISTING ID\\n430647\\nPETS\\nCats & dogs negotiab...   \n",
       "1   LISTING ID\\n124512\\nPETS\\nNo pets\\nSMOKING\\nNo...   \n",
       "2   LISTING ID\\n437801\\nPETS\\nNo cats Dogs negotia...   \n",
       "3   LISTING ID\\n407306\\nPETS\\nNo pets\\nSMOKING\\nNo...   \n",
       "4   LISTING ID\\n430648\\nPETS\\nCats & dogs negotiab...   \n",
       "5   LISTING ID\\n430648\\nPETS\\nCats & dogs negotiab...   \n",
       "6   LISTING ID\\n430647\\nPETS\\nCats & dogs negotiab...   \n",
       "7   LISTING ID\\n444203\\nPETS\\nCats & dogs negotiab...   \n",
       "8   LISTING ID\\n439237\\nPETS\\nCats & dogs negotiab...   \n",
       "9   LISTING ID\\n307606\\nPETS\\nCats & dogs negotiab...   \n",
       "10  LISTING ID\\n151506\\nPETS\\nNo pets\\nSMOKING\\nNo...   \n",
       "11  LISTING ID\\n57781\\nPETS\\nCats & dogs negotiabl...   \n",
       "12  LISTING ID\\n29347\\nPETS\\nCats & dogs negotiabl...   \n",
       "13  LISTING ID\\n20548\\nPETS\\nCats & dogs negotiabl...   \n",
       "14  LISTING ID\\n303992\\nPETS\\nCats & dogs allowed\\...   \n",
       "15  LISTING ID\\n365453\\nPETS\\nNo pets\\nSMOKING\\nNo...   \n",
       "16  LISTING ID\\n22127\\nPETS\\nNo pets\\nSMOKING\\nNon...   \n",
       "17  LISTING ID\\n51405\\nPETS\\nCats & dogs negotiabl...   \n",
       "18  LISTING ID\\n30419\\nPETS\\nNo pets\\nSMOKING\\nNon...   \n",
       "19  LISTING ID\\n342680\\nPETS\\nCats & dogs negotiab...   \n",
       "\n",
       "                                       MainTable_info  \\\n",
       "0   ['Apartment $1433 $1433 2 bd 1 ba 873 ft2 Unfu...   \n",
       "1   ['Condo $1350 $1350 2 bd + den 2 ba 960 ft2 Un...   \n",
       "2   ['House $1750 $1750 2 bd 1 ba 800 ft2 Unfurnis...   \n",
       "3   ['Condo $1500 $1500 1 bd + den 1.5 ba 1100 ft2...   \n",
       "4   ['Apartment $1199 $1199 1 bd 1 ba 678 ft2 Unfu...   \n",
       "5   ['Apartment $1199 $1199 1 bd 1 ba 678 ft2 Unfu...   \n",
       "6   ['Apartment $1433 $1433 2 bd 1 ba 873 ft2 Unfu...   \n",
       "7   ['House $2500 $2500 6 bd 3.5 ba 3000 ft2 Unfur...   \n",
       "8   ['Condo $1750 $1750 2 bd 2 ba 1000 ft2 Unfurni...   \n",
       "9   ['Apartment $1010 $1010 1 bd 1 ba 426 ft2 Unfu...   \n",
       "10  ['Apartment $925 $925 2 bd 1 ba 1000 ft2 Unfur...   \n",
       "11  ['House $2050 $2050 5 bd 2 ba 1200 ft2 Unfurni...   \n",
       "12  ['Apartment $1324 $399 2 bd 1 ba 945 ft2 Unfur...   \n",
       "13  ['Apartment $1179 $399 1 bd 1 ba 650 ft2 Unfur...   \n",
       "14  ['Apartment $1375 Other 1 bd 1 ba 700 ft2 Unfu...   \n",
       "15  ['Townhouse $1000 $1000 2 bd 1 ba Unfurnished ...   \n",
       "16  ['Basement $950 $950 1 bd 1 ba 600 ft2 Unfurni...   \n",
       "17  ['Apartment $999 $350 1 bd 1 ba 600 ft2 Unfurn...   \n",
       "18  ['Basement $1200 $1200 3 bd 1 ba 1150 ft2 Unfu...   \n",
       "19  ['Apartment $1125 $350 1 bd 1 ba 620 ft2 Unfur...   \n",
       "\n",
       "                                   FeaturesTable_info  \n",
       "0   BUILDING FEATURES Fitness Area\\nPROPERTY FEATU...  \n",
       "1   BUILDING FEATURES Elevator Secure Entry\\nPROPE...  \n",
       "2   PROPERTY FEATURES Dishwasher Oven/Stove Fridge...  \n",
       "3   BUILDING FEATURES Bike room Common Terrace Con...  \n",
       "4   BUILDING FEATURES Fitness Area\\nPROPERTY FEATU...  \n",
       "5   BUILDING FEATURES Fitness Area\\nPROPERTY FEATU...  \n",
       "6   BUILDING FEATURES Fitness Area\\nPROPERTY FEATU...  \n",
       "7   PROPERTY FEATURES Dishwasher Oven/Stove Microw...  \n",
       "8   BUILDING FEATURES Elevator\\nPROPERTY FEATURES ...  \n",
       "9   BUILDING FEATURES Courtyard Elevator Secure En...  \n",
       "10  BUILDING FEATURES Secure Entry Courtyard\\nPROP...  \n",
       "11  PROPERTY FEATURES Dishwasher Oven/Stove Fridge...  \n",
       "12  BUILDING FEATURES On-Site Management\\nPROPERTY...  \n",
       "13  BUILDING FEATURES On-Site Management\\nPROPERTY...  \n",
       "14  PROPERTY FEATURES Balcony Laundry - In Suite E...  \n",
       "15  PROPERTY FEATURES Fridge Laundry - In Suite Ov...  \n",
       "16  PROPERTY FEATURES Oven/Stove Fridge Laundry - ...  \n",
       "17  PROPERTY FEATURES Fridge Window Coverings Balc...  \n",
       "18  PROPERTY FEATURES Dishwasher Oven/Stove Fridge...  \n",
       "19  PROPERTY FEATURES In-suite Storage Fridge Balc...  "
      ]
     },
     "execution_count": 3,
     "metadata": {},
     "output_type": "execute_result"
    }
   ],
   "source": [
    "# quick look at the data\n",
    "df_rentfaster[:20]\n",
    "# df.tail()"
   ]
  },
  {
   "cell_type": "code",
   "execution_count": 4,
   "metadata": {
    "code_folding": [],
    "hidden": true
   },
   "outputs": [
    {
     "data": {
      "text/plain": [
       "(1488, 7)"
      ]
     },
     "execution_count": 4,
     "metadata": {},
     "output_type": "execute_result"
    }
   ],
   "source": [
    "# initial dimensions\n",
    "df_rentfaster.shape"
   ]
  },
  {
   "cell_type": "markdown",
   "metadata": {
    "hidden": true
   },
   "source": [
    "~1500 scraped entries are present in the raw data."
   ]
  },
  {
   "cell_type": "markdown",
   "metadata": {
    "heading_collapsed": true,
    "hidden": true
   },
   "source": [
    "## Data Extraction from FlexTable_info"
   ]
  },
  {
   "cell_type": "markdown",
   "metadata": {
    "hidden": true
   },
   "source": [
    "I defined a function for crude information extraction from Flex Table in the cell below."
   ]
  },
  {
   "cell_type": "code",
   "execution_count": 5,
   "metadata": {
    "code_folding": [
     0
    ],
    "hidden": true
   },
   "outputs": [],
   "source": [
    "def FlexTable_info_cleaning(Column, Keyword):\n",
    "    \"\"\"\n",
    "    This function cleans the info in Flex Table. It takes\n",
    "    a keyword and checks every row of pandas series for a match.\n",
    "    The first word after the match and a space character is \n",
    "    stored in the column to be returned.\n",
    "    \"\"\"\n",
    "    Cleaned_column = Column.apply(lambda x: x.partition(Keyword+'\\n')[2].partition('\\n')[0])\n",
    "    return Cleaned_column"
   ]
  },
  {
   "cell_type": "markdown",
   "metadata": {
    "hidden": true
   },
   "source": [
    "Storing the information extracted from Flex Table in new columns"
   ]
  },
  {
   "cell_type": "code",
   "execution_count": 6,
   "metadata": {
    "hidden": true
   },
   "outputs": [],
   "source": [
    "# extracting the information from Flex Table and storing it in different columns\n",
    "df['Listing_ID'] = FlexTable_info_cleaning(df['FlexTable_info'], 'LISTING ID')\n",
    "df['Pets'] = FlexTable_info_cleaning(df['FlexTable_info'], 'PETS')\n",
    "df['Smoking'] = FlexTable_info_cleaning(df['FlexTable_info'], 'SMOKING')\n",
    "df['Tenant_Parking'] = FlexTable_info_cleaning(df['FlexTable_info'], 'TENANT PARKING')\n",
    "df['Year_Built'] = FlexTable_info_cleaning(df['FlexTable_info'], 'YEAR BUILT')\n",
    "df['Landlord_On_Rentfaster_Since'] = FlexTable_info_cleaning(df['FlexTable_info'], 'LANDLORD ON RENTFASTER SINCE')"
   ]
  },
  {
   "cell_type": "markdown",
   "metadata": {
    "heading_collapsed": true,
    "hidden": true
   },
   "source": [
    "## Data Extraction from FeaturesTable_info"
   ]
  },
  {
   "cell_type": "markdown",
   "metadata": {
    "hidden": true
   },
   "source": [
    "Next, I defined a function for crude information extraction from Features Table."
   ]
  },
  {
   "cell_type": "code",
   "execution_count": 7,
   "metadata": {
    "code_folding": [
     0
    ],
    "hidden": true
   },
   "outputs": [],
   "source": [
    "def FeaturesTable_info_cleaning(Column, Keyword):\n",
    "    \"\"\"\n",
    "    This function cleans the info in Features Table. It takes\n",
    "    a keyword and checks every row of pandas series for a match.\n",
    "    The first word after the match is \n",
    "    stored in the column to be returned.\n",
    "    \"\"\"\n",
    "    Cleaned_column = Column.apply(lambda x: str(x).partition(Keyword)[2].partition('\\n')[0])\n",
    "    return Cleaned_column"
   ]
  },
  {
   "cell_type": "markdown",
   "metadata": {
    "hidden": true
   },
   "source": [
    "Storing the information extracted from Features Table in new columns"
   ]
  },
  {
   "cell_type": "code",
   "execution_count": 8,
   "metadata": {
    "hidden": true
   },
   "outputs": [],
   "source": [
    "# extracting the information from Features Table and storing it in different columns\n",
    "df['Building_features'] = FeaturesTable_info_cleaning(df['FeaturesTable_info'], 'BUILDING FEATURES')\n",
    "df['Property_features'] = FeaturesTable_info_cleaning(df['FeaturesTable_info'], 'PROPERTY FEATURES')\n",
    "df['Community_features'] = FeaturesTable_info_cleaning(df['FeaturesTable_info'], 'COMMUNITY FEATURES')\n"
   ]
  },
  {
   "cell_type": "code",
   "execution_count": 9,
   "metadata": {
    "code_folding": [],
    "hidden": true
   },
   "outputs": [
    {
     "data": {
      "text/plain": [
       "(1488, 16)"
      ]
     },
     "execution_count": 9,
     "metadata": {},
     "output_type": "execute_result"
    }
   ],
   "source": [
    "# checking the dimensions of dataframe after adding columns \n",
    "df.shape"
   ]
  },
  {
   "cell_type": "markdown",
   "metadata": {
    "heading_collapsed": true,
    "hidden": true
   },
   "source": [
    "## Data Extraction from MainTable_info"
   ]
  },
  {
   "cell_type": "markdown",
   "metadata": {
    "hidden": true
   },
   "source": [
    "Then I defined a function for crude information extraction from Main Info below."
   ]
  },
  {
   "cell_type": "code",
   "execution_count": 10,
   "metadata": {
    "code_folding": [
     0
    ],
    "hidden": true
   },
   "outputs": [],
   "source": [
    "def MainTable_info_cleaning(Column, Start_position):\n",
    "    \"\"\"\n",
    "    This function cleans the info in Main Table. It takes\n",
    "    a starting position and goes to every 6th position from\n",
    "    there along the string obtained after splitting row at \"'\" \n",
    "    and append the value there to a list. For Main the starting \n",
    "    position is at 1 and for utilities info, it is at 5.\n",
    "    \"\"\"\n",
    "    Cleaned_column = []\n",
    "    for i in range(0, len(Column)):\n",
    "        temp = []\n",
    "        for j in range(Start_position, len(Column.apply(lambda x: str(x).split(\"'\"))[i]), 6):\n",
    "            temp.append((Column.apply(lambda x: str(x).split(\"'\"))[i])[j])\n",
    "        Cleaned_column.append(temp)\n",
    "    return Cleaned_column"
   ]
  },
  {
   "cell_type": "markdown",
   "metadata": {
    "hidden": true
   },
   "source": [
    "Storing the information extracted from Main Info in new columns"
   ]
  },
  {
   "cell_type": "code",
   "execution_count": 11,
   "metadata": {
    "hidden": true
   },
   "outputs": [],
   "source": [
    "# extracting the information from Main Table and storing it in different columns\n",
    "df['Main_info'] = MainTable_info_cleaning(df['MainTable_info'], 1)\n",
    "df['Utilities_info'] = MainTable_info_cleaning(df['MainTable_info'], 5)"
   ]
  },
  {
   "cell_type": "code",
   "execution_count": 12,
   "metadata": {
    "hidden": true
   },
   "outputs": [
    {
     "data": {
      "text/plain": [
       "['Apartment $1433 $1433 2 bd 1 ba 873 ft2 Unfurnished Long Term Immediate  ',\n",
       " 'Apartment $1499 $1499 2 bd 2 ba 1015 ft2 Unfurnished Long Term Immediate  ',\n",
       " 'Apartment $1348 $1348 1 bd 2 ba 946 ft2 Unfurnished Long Term Apr 01, 2021  ',\n",
       " 'Apartment $1435 $1435 2 bd 1 ba 878 ft2 Unfurnished Long Term Apr 01, 2021  ']"
      ]
     },
     "execution_count": 12,
     "metadata": {},
     "output_type": "execute_result"
    }
   ],
   "source": [
    "# checking the format of an entry\n",
    "df['Main_info'][0]"
   ]
  },
  {
   "cell_type": "markdown",
   "metadata": {
    "hidden": true
   },
   "source": [
    "This shows there are multiple sub-listings within a listing sometimes and thus, this column needs to be *exploded* (i.e. unpacked into different entries later) (<a href=\"https://pandas.pydata.org/docs/reference/api/pandas.DataFrame.explode.html\" target=\"_blank\">refer this link for more on exploding columns</a>). Refer the image below for similar listing example (from original website) with multiple sub-listings."
   ]
  },
  {
   "cell_type": "markdown",
   "metadata": {
    "hidden": true
   },
   "source": [
    " ![explode_example](images/explode_example.png)"
   ]
  },
  {
   "cell_type": "code",
   "execution_count": 13,
   "metadata": {
    "hidden": true
   },
   "outputs": [
    {
     "data": {
      "text/plain": [
       "['Unit Number: 100-310    Unit Description: Two Bedroom\\\\nUtilities Included: Heat Water',\n",
       " 'Unit Number: 60-403    Unit Description: Two Bedroom\\\\nUtilities Included: Heat Water',\n",
       " 'Unit Number: 100-222    Unit Description: One Bedroom\\\\nUtilities Included: Heat Water',\n",
       " 'Unit Number: 60-410    Unit Description: Two Bedroom\\\\nUtilities Included: Heat Water']"
      ]
     },
     "execution_count": 13,
     "metadata": {},
     "output_type": "execute_result"
    }
   ],
   "source": [
    "# checking the format of an entry\n",
    "df['Utilities_info'][0]"
   ]
  },
  {
   "cell_type": "code",
   "execution_count": 14,
   "metadata": {
    "hidden": true
   },
   "outputs": [
    {
     "data": {
      "text/plain": [
       "(1488, 18)"
      ]
     },
     "execution_count": 14,
     "metadata": {},
     "output_type": "execute_result"
    }
   ],
   "source": [
    "# checking the dimensions of dataframe \n",
    "df.shape"
   ]
  },
  {
   "cell_type": "markdown",
   "metadata": {
    "hidden": true
   },
   "source": [
    "I dropped the columns from which I extracted information in cell below."
   ]
  },
  {
   "cell_type": "code",
   "execution_count": 15,
   "metadata": {
    "code_folding": [],
    "hidden": true
   },
   "outputs": [],
   "source": [
    "# dropping the columns from which info extracted\n",
    "df.drop(['FlexTable_info','FeaturesTable_info','MainTable_info'], axis=1, inplace=True)"
   ]
  },
  {
   "cell_type": "code",
   "execution_count": 16,
   "metadata": {
    "code_folding": [],
    "hidden": true
   },
   "outputs": [
    {
     "data": {
      "text/plain": [
       "(1488, 15)"
      ]
     },
     "execution_count": 16,
     "metadata": {},
     "output_type": "execute_result"
    }
   ],
   "source": [
    "# column number reduced\n",
    "df.shape"
   ]
  },
  {
   "cell_type": "markdown",
   "metadata": {
    "heading_collapsed": true,
    "hidden": true
   },
   "source": [
    "## Exploding Data Frame Entries to Get Sub-Listings"
   ]
  },
  {
   "cell_type": "markdown",
   "metadata": {
    "hidden": true
   },
   "source": [
    "As mentioned in previous section, each listing can have multiple sublistings. Therefore, it is necessary to explode the data frame along Main Info. This duplicates entries in every other column and for main info, it assigns every entry to a new row.\n",
    "<a href=\"https://pandas.pydata.org/docs/reference/api/pandas.DataFrame.explode.html\" target=\"_blank\">For more on exploding a column, check this link</a>.\n"
   ]
  },
  {
   "cell_type": "code",
   "execution_count": 17,
   "metadata": {
    "hidden": true
   },
   "outputs": [],
   "source": [
    "# exploding the rows of dataframe along Main_info as every listing can have further sublistings\n",
    "df_explode = df.explode('Main_info')\n",
    "df_explode = df_explode.reset_index()\n",
    "df_explode.rename(columns = {'index':'Old_Index'}, inplace = True)\n"
   ]
  },
  {
   "cell_type": "code",
   "execution_count": 18,
   "metadata": {
    "hidden": true
   },
   "outputs": [
    {
     "data": {
      "text/plain": [
       "(4735, 16)"
      ]
     },
     "execution_count": 18,
     "metadata": {},
     "output_type": "execute_result"
    }
   ],
   "source": [
    "# checking dimensions of exploded data frame\n",
    "df_explode.shape"
   ]
  },
  {
   "cell_type": "markdown",
   "metadata": {
    "hidden": true
   },
   "source": [
    "I reconfirmed above that the dataframe was exploded. Now we have sub-listings in different rows."
   ]
  },
  {
   "cell_type": "markdown",
   "metadata": {
    "heading_collapsed": true
   },
   "source": [
    "# Cleaning Data in Sub-Categories"
   ]
  },
  {
   "cell_type": "markdown",
   "metadata": {
    "hidden": true
   },
   "source": [
    "After initial data cleaning in previous section, I extracted data from the sub-categories more rigorously."
   ]
  },
  {
   "cell_type": "markdown",
   "metadata": {
    "heading_collapsed": true,
    "hidden": true
   },
   "source": [
    "## Cleaning Data in MainTable_info "
   ]
  },
  {
   "cell_type": "markdown",
   "metadata": {
    "hidden": true
   },
   "source": [
    "All the features in main info table were obtained one by one below."
   ]
  },
  {
   "cell_type": "markdown",
   "metadata": {
    "heading_collapsed": true,
    "hidden": true
   },
   "source": [
    "### Cleaning Listing_Type Column"
   ]
  },
  {
   "cell_type": "code",
   "execution_count": 19,
   "metadata": {
    "hidden": true
   },
   "outputs": [
    {
     "data": {
      "text/plain": [
       "'Apartment'"
      ]
     },
     "execution_count": 19,
     "metadata": {},
     "output_type": "execute_result"
    }
   ],
   "source": [
    "# reconfirming logic for a single element to get listing type\n",
    "df_explode['Main_info'][1].partition(' ')[0]"
   ]
  },
  {
   "cell_type": "markdown",
   "metadata": {
    "hidden": true
   },
   "source": [
    "The first element after partitioning at empty space should be listing type by the logic above."
   ]
  },
  {
   "cell_type": "code",
   "execution_count": 20,
   "metadata": {
    "hidden": true
   },
   "outputs": [],
   "source": [
    "# first extracting information contained in Main_info table\n",
    "# getting listing type \n",
    "df_explode['Listing_Type'] = df_explode['Main_info'].apply(lambda x: str(x).partition(' ')[0])"
   ]
  },
  {
   "cell_type": "code",
   "execution_count": 21,
   "metadata": {
    "hidden": true
   },
   "outputs": [
    {
     "data": {
      "text/plain": [
       "array(['Apartment', 'Condo', 'House', 'Townhouse', 'Basement', 'Main',\n",
       "       ',', 'Duplex', 'Shared', 'Loft', 'Parking', '', 'Neil',\n",
       "       'Basement\\\\n$850', 'Office', 'Basement\\\\n$1150', 'Storage',\n",
       "       'Basement\\\\n$1000', 's', 'Acreage'], dtype=object)"
      ]
     },
     "execution_count": 21,
     "metadata": {},
     "output_type": "execute_result"
    }
   ],
   "source": [
    "df_explode['Listing_Type'].unique()"
   ]
  },
  {
   "cell_type": "markdown",
   "metadata": {
    "hidden": true
   },
   "source": [
    "I checked the count for different listing types below. "
   ]
  },
  {
   "cell_type": "code",
   "execution_count": 22,
   "metadata": {
    "hidden": true,
    "scrolled": true
   },
   "outputs": [
    {
     "data": {
      "text/plain": [
       "Apartment          3855\n",
       "Condo               301\n",
       "Townhouse           142\n",
       "Basement            121\n",
       "Shared               77\n",
       "House                71\n",
       "Main                 67\n",
       ",                    44\n",
       "Duplex               24\n",
       "                     10\n",
       "Office                6\n",
       "Loft                  4\n",
       "Storage               3\n",
       "Neil                  2\n",
       "Acreage               2\n",
       "Parking               2\n",
       "Basement\\n$850        1\n",
       "Basement\\n$1000       1\n",
       "s                     1\n",
       "Basement\\n$1150       1\n",
       "Name: Listing_Type, dtype: int64"
      ]
     },
     "execution_count": 22,
     "metadata": {},
     "output_type": "execute_result"
    }
   ],
   "source": [
    "# a few of the listing types look off, otherwise mostly good  \n",
    "df_explode['Listing_Type'].value_counts()"
   ]
  },
  {
   "cell_type": "markdown",
   "metadata": {
    "hidden": true
   },
   "source": [
    "It is advisable to remove problematic listing type above before proceeding as there are only a few.  "
   ]
  },
  {
   "cell_type": "markdown",
   "metadata": {
    "hidden": true
   },
   "source": [
    "This function gives the index of problematic listings at Nth position in value_counts() output above."
   ]
  },
  {
   "cell_type": "code",
   "execution_count": 23,
   "metadata": {
    "code_folding": [
     0
    ],
    "hidden": true
   },
   "outputs": [],
   "source": [
    "def Problematic_Index_Listing_Type(Column, N):\n",
    "    \"\"\" This function returns index of problematic listing type at Nth position in value_counts()\"\"\"\n",
    "    return (np.array(Column.value_counts().index))[N]"
   ]
  },
  {
   "cell_type": "markdown",
   "metadata": {
    "hidden": true
   },
   "source": [
    "This function removes the problematic listings from dataframe."
   ]
  },
  {
   "cell_type": "code",
   "execution_count": 24,
   "metadata": {
    "code_folding": [
     0
    ],
    "hidden": true
   },
   "outputs": [],
   "source": [
    "def Remove_Problematic_Row(DataFrame, Column, Key):\n",
    "    \"\"\" This function removes rows with problematic listing type as per value\"\"\"    \n",
    "    return DataFrame.drop(DataFrame[(Column == Key)].index, inplace= True)\n",
    "    "
   ]
  },
  {
   "cell_type": "markdown",
   "metadata": {
    "hidden": true
   },
   "source": [
    "In the code block below, all the listing type having errors are cleaned up. "
   ]
  },
  {
   "cell_type": "code",
   "execution_count": 25,
   "metadata": {
    "hidden": true
   },
   "outputs": [],
   "source": [
    "# Getting index of problematic listing, trying new approach as compared to above\n",
    "Problematic_1 = Problematic_Index_Listing_Type(df_explode['Listing_Type'], 9)\n",
    "Problematic_2 = Problematic_Index_Listing_Type(df_explode['Listing_Type'], -1)\n",
    "Problematic_3 = Problematic_Index_Listing_Type(df_explode['Listing_Type'], -3)\n",
    "Problematic_4 = Problematic_Index_Listing_Type(df_explode['Listing_Type'], -4)\n",
    "\n",
    "# Removing rows with problematic listing \n",
    "Remove_Problematic_Row(df_explode, df_explode.Listing_Type, Problematic_1)\n",
    "Remove_Problematic_Row(df_explode, df_explode.Listing_Type, Problematic_2)\n",
    "Remove_Problematic_Row(df_explode, df_explode.Listing_Type, Problematic_3)\n",
    "Remove_Problematic_Row(df_explode, df_explode.Listing_Type, Problematic_4)\n",
    "\n",
    "# Removing rows with problematic listing as per value\n",
    "Remove_Problematic_Row(df_explode, df_explode.Listing_Type, ',')\n",
    "Remove_Problematic_Row(df_explode, df_explode.Listing_Type, 's')\n"
   ]
  },
  {
   "cell_type": "code",
   "execution_count": 26,
   "metadata": {
    "hidden": true
   },
   "outputs": [
    {
     "data": {
      "text/plain": [
       "''"
      ]
     },
     "execution_count": 26,
     "metadata": {},
     "output_type": "execute_result"
    }
   ],
   "source": [
    "Problematic_1"
   ]
  },
  {
   "cell_type": "markdown",
   "metadata": {
    "hidden": true
   },
   "source": [
    "The cell block above/below show that the code  is targeting the correct type of listings."
   ]
  },
  {
   "cell_type": "code",
   "execution_count": 27,
   "metadata": {
    "hidden": true
   },
   "outputs": [
    {
     "data": {
      "text/plain": [
       "'Basement\\\\n$1000'"
      ]
     },
     "execution_count": 27,
     "metadata": {},
     "output_type": "execute_result"
    }
   ],
   "source": [
    "# printing to reconfirm\n",
    "Problematic_3"
   ]
  },
  {
   "cell_type": "code",
   "execution_count": 28,
   "metadata": {
    "hidden": true
   },
   "outputs": [],
   "source": [
    "# reindexing dataframe after using .drop()\n",
    "df_explode = df_explode.reset_index(drop=True)"
   ]
  },
  {
   "cell_type": "code",
   "execution_count": 29,
   "metadata": {
    "hidden": true
   },
   "outputs": [
    {
     "data": {
      "text/plain": [
       "Apartment    3855\n",
       "Condo         301\n",
       "Townhouse     142\n",
       "Basement      121\n",
       "Shared         77\n",
       "House          71\n",
       "Main           67\n",
       "Duplex         24\n",
       "Office          6\n",
       "Loft            4\n",
       "Storage         3\n",
       "Neil            2\n",
       "Acreage         2\n",
       "Parking         2\n",
       "Name: Listing_Type, dtype: int64"
      ]
     },
     "execution_count": 29,
     "metadata": {},
     "output_type": "execute_result"
    }
   ],
   "source": [
    "# listing type column cleaned here\n",
    "df_explode['Listing_Type'].value_counts()"
   ]
  },
  {
   "cell_type": "markdown",
   "metadata": {
    "hidden": true
   },
   "source": [
    "Listing types look good to go."
   ]
  },
  {
   "cell_type": "markdown",
   "metadata": {
    "heading_collapsed": true,
    "hidden": true
   },
   "source": [
    "### Cleaning Sq_Feet Column"
   ]
  },
  {
   "cell_type": "markdown",
   "metadata": {
    "hidden": true
   },
   "source": [
    "It was noticed from trial and error that the value for size is located before the first ' ft' occurance and after the first empty space from reverse."
   ]
  },
  {
   "cell_type": "code",
   "execution_count": 30,
   "metadata": {
    "hidden": true
   },
   "outputs": [],
   "source": [
    "# after listing type, next getting information on space for every individual listing in sq feet\n",
    "df_explode['Sq_Feet'] = df_explode['Main_info'].apply(lambda x: str(x).partition(' ft')[0].rpartition(' ')[2])"
   ]
  },
  {
   "cell_type": "code",
   "execution_count": 31,
   "metadata": {
    "hidden": true,
    "scrolled": false
   },
   "outputs": [
    {
     "data": {
      "text/plain": [
       "Immediate    511\n",
       "             248\n",
       "608          158\n",
       "909           90\n",
       "936           80\n",
       "593           61\n",
       "564           61\n",
       "914           61\n",
       "935           60\n",
       "800           51\n",
       "Vacancy       48\n",
       "600           48\n",
       "900           48\n",
       "727           45\n",
       "550           41\n",
       "923           40\n",
       "636           40\n",
       "589           39\n",
       "850           39\n",
       "1100          39\n",
       "774           38\n",
       "1000          38\n",
       "650           34\n",
       "748           34\n",
       "426           33\n",
       "563           32\n",
       "700           32\n",
       "545           32\n",
       "836           30\n",
       "657           28\n",
       "710           28\n",
       "896           28\n",
       "685           27\n",
       "913           26\n",
       "725           26\n",
       "1200          26\n",
       "580           25\n",
       "884           25\n",
       "567           24\n",
       "830           24\n",
       "880           23\n",
       "612           23\n",
       "500           22\n",
       "1030          22\n",
       "885           21\n",
       "635           21\n",
       "587           20\n",
       "1221          20\n",
       "716           20\n",
       "531           20\n",
       "Name: Sq_Feet, dtype: int64"
      ]
     },
     "execution_count": 31,
     "metadata": {},
     "output_type": "execute_result"
    }
   ],
   "source": [
    "# Immediate, empty and Vacancy are obvious errors. The few remaining errors are dealt with next\n",
    "df_explode['Sq_Feet'].value_counts()[:50]"
   ]
  },
  {
   "cell_type": "markdown",
   "metadata": {
    "hidden": true
   },
   "source": [
    "First, taking care of the issues with small value_counts() and removing problematic rows."
   ]
  },
  {
   "cell_type": "code",
   "execution_count": 32,
   "metadata": {
    "hidden": true
   },
   "outputs": [
    {
     "name": "stdout",
     "output_type": "stream",
     "text": [
      "(4677, 18)\n",
      "(4659, 18)\n"
     ]
    }
   ],
   "source": [
    "# intial dimension\n",
    "print(df_explode.shape)\n",
    "\n",
    "# Removing rows with problematic listing as per value\n",
    "Remove_Problematic_Row(df_explode, df_explode.Sq_Feet, 'Water\"]')\n",
    "Remove_Problematic_Row(df_explode, df_explode.Sq_Feet, 'Availability')\n",
    "Remove_Problematic_Row(df_explode, df_explode.Sq_Feet, 'sq.')\n",
    "Remove_Problematic_Row(df_explode, df_explode.Sq_Feet, 'Sq.')\n",
    "Remove_Problematic_Row(df_explode, df_explode.Sq_Feet, 'sq')\n",
    "\n",
    "# reset index\n",
    "df_explode = df_explode.reset_index(drop=True)\n",
    "\n",
    "# 18 rows dropped in total\n",
    "print(df_explode.shape)"
   ]
  },
  {
   "cell_type": "markdown",
   "metadata": {
    "hidden": true
   },
   "source": [
    "18 rows dropped in total"
   ]
  },
  {
   "cell_type": "code",
   "execution_count": 33,
   "metadata": {
    "hidden": true
   },
   "outputs": [
    {
     "data": {
      "text/plain": [
       "Immediate    511\n",
       "             248\n",
       "608          158\n",
       "909           90\n",
       "936           80\n",
       "564           61\n",
       "593           61\n",
       "914           61\n",
       "935           60\n",
       "800           51\n",
       "900           48\n",
       "Vacancy       48\n",
       "600           48\n",
       "727           45\n",
       "550           41\n",
       "923           40\n",
       "636           40\n",
       "1100          39\n",
       "850           39\n",
       "589           39\n",
       "1000          38\n",
       "774           38\n",
       "748           34\n",
       "650           34\n",
       "426           33\n",
       "700           32\n",
       "545           32\n",
       "563           32\n",
       "836           30\n",
       "710           28\n",
       "657           28\n",
       "896           28\n",
       "685           27\n",
       "913           26\n",
       "725           26\n",
       "1200          26\n",
       "884           25\n",
       "580           25\n",
       "567           24\n",
       "830           24\n",
       "880           23\n",
       "612           23\n",
       "1030          22\n",
       "500           22\n",
       "635           21\n",
       "885           21\n",
       "1004          20\n",
       "587           20\n",
       "527           20\n",
       "531           20\n",
       "Name: Sq_Feet, dtype: int64"
      ]
     },
     "execution_count": 33,
     "metadata": {},
     "output_type": "execute_result"
    }
   ],
   "source": [
    "df_explode['Sq_Feet'].value_counts()[:50]"
   ]
  },
  {
   "cell_type": "markdown",
   "metadata": {
    "hidden": true
   },
   "source": [
    "I then defined a function to change value at every row position, where there is a particular pattern, to a fixed value."
   ]
  },
  {
   "cell_type": "code",
   "execution_count": 34,
   "metadata": {
    "code_folding": [
     0
    ],
    "hidden": true
   },
   "outputs": [],
   "source": [
    "def Specific_Row_Value_Change(DataFrame, Column, Pattern, To_Be_Value):\n",
    "    \"\"\"\n",
    "    This function changes initial value to To_Be_Value for all entries \n",
    "    in a data frame column of particular pattern in value_counts()\n",
    "    \"\"\"\n",
    "    df_temp = np.array(Column)\n",
    "    df_temp[DataFrame[(Column == Pattern)].index.to_list()] = To_Be_Value \n",
    "    Column = pd.Series(df_temp)\n",
    "    \n",
    "    return Column"
   ]
  },
  {
   "cell_type": "markdown",
   "metadata": {
    "hidden": true
   },
   "source": [
    "These 3 type of errors (refer cell below) are occuring because people have not mentioned size of their listing (and last word in the thread is being picked up). Therefore, replacing -1 for size at these positions."
   ]
  },
  {
   "cell_type": "code",
   "execution_count": 35,
   "metadata": {
    "hidden": true
   },
   "outputs": [],
   "source": [
    "# removing problematic rows in value_count() above\n",
    "df_explode.Sq_Feet = Specific_Row_Value_Change(df_explode, df_explode.Sq_Feet, 'Vacancy', '-1')\n",
    "df_explode.Sq_Feet = Specific_Row_Value_Change(df_explode, df_explode.Sq_Feet, '', '-1')\n",
    "df_explode.Sq_Feet = Specific_Row_Value_Change(df_explode, df_explode.Sq_Feet, 'Immediate', '-1')"
   ]
  },
  {
   "cell_type": "code",
   "execution_count": 36,
   "metadata": {
    "hidden": true
   },
   "outputs": [
    {
     "data": {
      "text/plain": [
       "-1      807\n",
       "608     158\n",
       "909      90\n",
       "936      80\n",
       "593      61\n",
       "564      61\n",
       "914      61\n",
       "935      60\n",
       "800      51\n",
       "900      48\n",
       "600      48\n",
       "727      45\n",
       "550      41\n",
       "636      40\n",
       "923      40\n",
       "589      39\n",
       "850      39\n",
       "1100     39\n",
       "774      38\n",
       "1000     38\n",
       "650      34\n",
       "748      34\n",
       "426      33\n",
       "700      32\n",
       "563      32\n",
       "545      32\n",
       "836      30\n",
       "657      28\n",
       "896      28\n",
       "710      28\n",
       "685      27\n",
       "725      26\n",
       "913      26\n",
       "1200     26\n",
       "884      25\n",
       "580      25\n",
       "830      24\n",
       "567      24\n",
       "880      23\n",
       "612      23\n",
       "500      22\n",
       "1030     22\n",
       "885      21\n",
       "635      21\n",
       "527      20\n",
       "587      20\n",
       "687      20\n",
       "531      20\n",
       "716      20\n",
       "1004     20\n",
       "Name: Sq_Feet, dtype: int64"
      ]
     },
     "execution_count": 36,
     "metadata": {},
     "output_type": "execute_result"
    }
   ],
   "source": [
    "df_explode['Sq_Feet'].value_counts()[:50]"
   ]
  },
  {
   "cell_type": "markdown",
   "metadata": {
    "hidden": true
   },
   "source": [
    "This column looks good for now."
   ]
  },
  {
   "cell_type": "markdown",
   "metadata": {
    "heading_collapsed": true,
    "hidden": true
   },
   "source": [
    "### Cleaning Furnishing Column "
   ]
  },
  {
   "cell_type": "markdown",
   "metadata": {
    "hidden": true
   },
   "source": [
    "Breaking at 'urn' pattern as it is unique and taking the sequence before that."
   ]
  },
  {
   "cell_type": "code",
   "execution_count": 37,
   "metadata": {
    "hidden": true
   },
   "outputs": [
    {
     "data": {
      "text/plain": [
       "Unf    4291\n",
       "F       256\n",
       "        112\n",
       "Name: Furnishing, dtype: int64"
      ]
     },
     "execution_count": 37,
     "metadata": {},
     "output_type": "execute_result"
    }
   ],
   "source": [
    "# next extracting info on whether furnished or not from Main_info. Breaking at 'urn' and taking value before that\n",
    "df_explode['Furnishing'] = df_explode['Main_info'].apply(lambda x: str(x).rpartition('urn')[0].split(' ')[-1])\n",
    "df_explode['Furnishing'].value_counts()"
   ]
  },
  {
   "cell_type": "markdown",
   "metadata": {
    "hidden": true
   },
   "source": [
    "Unf stands for Unfurnished and was assigned 0. F stands for Furnished and was assigned 1. Rest are empty. Thus, taken care of accordingly (-1 inserted)."
   ]
  },
  {
   "cell_type": "code",
   "execution_count": 38,
   "metadata": {
    "hidden": true
   },
   "outputs": [],
   "source": [
    "# assigned values 1 for furnished, 0 for unfurnished and -1 for not given\n",
    "df_explode.Furnishing = Specific_Row_Value_Change(df_explode, df_explode.Furnishing, 'F', '1')\n",
    "df_explode.Furnishing = Specific_Row_Value_Change(df_explode, df_explode.Furnishing, '', '-1')\n",
    "df_explode.Furnishing = Specific_Row_Value_Change(df_explode, df_explode.Furnishing, 'Unf', '0')"
   ]
  },
  {
   "cell_type": "code",
   "execution_count": 39,
   "metadata": {
    "hidden": true
   },
   "outputs": [
    {
     "data": {
      "text/plain": [
       "0     4291\n",
       "1      256\n",
       "-1     112\n",
       "Name: Furnishing, dtype: int64"
      ]
     },
     "execution_count": 39,
     "metadata": {},
     "output_type": "execute_result"
    }
   ],
   "source": [
    "# furnishing information clean\n",
    "df_explode['Furnishing'].value_counts()"
   ]
  },
  {
   "cell_type": "markdown",
   "metadata": {
    "hidden": true
   },
   "source": [
    "Information on furnishing is clean enough now."
   ]
  },
  {
   "cell_type": "markdown",
   "metadata": {
    "heading_collapsed": true,
    "hidden": true
   },
   "source": [
    "### Cleaning Baths Column     "
   ]
  },
  {
   "cell_type": "markdown",
   "metadata": {
    "hidden": true
   },
   "source": [
    "Breaking at first occurance of ba from behind and taking in everything till bd is reached. This is done as many listings have other words like den as well in between."
   ]
  },
  {
   "cell_type": "code",
   "execution_count": 40,
   "metadata": {
    "hidden": true
   },
   "outputs": [],
   "source": [
    "# extracting information regarding number of baths the Main_info\n",
    "# splitting done in order to accomodate for den info which some of the listings had \n",
    "df_explode['Baths'] = df_explode['Main_info'].apply(lambda x: str(x).rpartition('ba')[0].partition('bd')[2])"
   ]
  },
  {
   "cell_type": "code",
   "execution_count": 41,
   "metadata": {
    "hidden": true
   },
   "outputs": [
    {
     "data": {
      "text/plain": [
       " 1                                    2761\n",
       " 2                                    1068\n",
       " + den 1                               241\n",
       " 1.5                                   181\n",
       "                                       168\n",
       " + den 2                               105\n",
       " 2.5                                    65\n",
       " + den 2.5                              20\n",
       " 3                                      12\n",
       " 3.5                                    11\n",
       " + den 1.5                               8\n",
       " + den 3                                 6\n",
       " + den 3.5                               4\n",
       " + den 4.5                               2\n",
       " 4                                       2\n",
       " 4.5                                     2\n",
       " + den 1.5 ba 968 (main) + 750 (         1\n",
       " 2 ba 1400 approximately plus 400        1\n",
       " 6                                       1\n",
       "Name: Baths, dtype: int64"
      ]
     },
     "execution_count": 41,
     "metadata": {},
     "output_type": "execute_result"
    }
   ],
   "source": [
    "# need to handle junk \n",
    "# also extract info from last for listings having 'den'\n",
    "df_explode['Baths'].value_counts()"
   ]
  },
  {
   "cell_type": "markdown",
   "metadata": {
    "hidden": true
   },
   "source": [
    "Presently, not including the number of dens in analysis and therefore discarding that information below."
   ]
  },
  {
   "cell_type": "code",
   "execution_count": 42,
   "metadata": {
    "hidden": true
   },
   "outputs": [],
   "source": [
    "# extracting info from listings having den info\n",
    "#replacing empty with -1\n",
    "df_explode.Baths = Specific_Row_Value_Change(df_explode, df_explode.Baths, '', '-1')\n",
    "df_explode.Baths = Specific_Row_Value_Change(df_explode, df_explode.Baths, ' + den 1 ', ' 1 ')\n",
    "df_explode.Baths = Specific_Row_Value_Change(df_explode, df_explode.Baths, ' + den 2 ', ' 2 ')\n",
    "df_explode.Baths = Specific_Row_Value_Change(df_explode, df_explode.Baths, ' + den 2.5 ', ' 2.5 ')\n",
    "df_explode.Baths = Specific_Row_Value_Change(df_explode, df_explode.Baths, ' + den 1.5 ', ' 1.5 ')\n",
    "df_explode.Baths = Specific_Row_Value_Change(df_explode, df_explode.Baths, ' + den 3 ', ' 3 ')\n",
    "df_explode.Baths = Specific_Row_Value_Change(df_explode, df_explode.Baths, ' + den 3.5 ', ' 3.5 ')\n",
    "df_explode.Baths = Specific_Row_Value_Change(df_explode, df_explode.Baths, ' + den 4.5 ', ' 4.5 ')\n",
    "\n",
    "#not counting dens anywhere right now maybe if interested can do it sometime later\n"
   ]
  },
  {
   "cell_type": "markdown",
   "metadata": {
    "hidden": true
   },
   "source": [
    "Now, checking the values in Baths column."
   ]
  },
  {
   "cell_type": "code",
   "execution_count": 43,
   "metadata": {
    "hidden": true
   },
   "outputs": [
    {
     "data": {
      "text/plain": [
       " 1                                    3002\n",
       " 2                                    1173\n",
       " 1.5                                   189\n",
       "-1                                     168\n",
       " 2.5                                    85\n",
       " 3                                      18\n",
       " 3.5                                    15\n",
       " 4.5                                     4\n",
       " 4                                       2\n",
       " 6                                       1\n",
       " 2 ba 1400 approximately plus 400        1\n",
       " + den 1.5 ba 968 (main) + 750 (         1\n",
       "Name: Baths, dtype: int64"
      ]
     },
     "execution_count": 43,
     "metadata": {},
     "output_type": "execute_result"
    }
   ],
   "source": [
    "#  just a few junk values left to clean-up\n",
    "df_explode['Baths'].value_counts()"
   ]
  },
  {
   "cell_type": "markdown",
   "metadata": {
    "hidden": true
   },
   "source": [
    "Dropping two rows for the problematic listing at the end of value_counts() "
   ]
  },
  {
   "cell_type": "code",
   "execution_count": 44,
   "metadata": {
    "hidden": true
   },
   "outputs": [],
   "source": [
    "# getting index for 2 problematic listing above\n",
    "Problematic_5 = Problematic_Index_Listing_Type(df_explode['Baths'], -1)\n",
    "Problematic_6 = Problematic_Index_Listing_Type(df_explode['Baths'], -2)\n",
    "\n",
    "# removing problematic bath types from above\n",
    "Remove_Problematic_Row(df_explode, df_explode.Baths, Problematic_5)\n",
    "Remove_Problematic_Row(df_explode, df_explode.Baths, Problematic_6)\n"
   ]
  },
  {
   "cell_type": "code",
   "execution_count": 45,
   "metadata": {
    "hidden": true
   },
   "outputs": [],
   "source": [
    "# reseting index as dropped rows \n",
    "df_explode = df_explode.reset_index(drop=True)"
   ]
  },
  {
   "cell_type": "code",
   "execution_count": 46,
   "metadata": {
    "hidden": true
   },
   "outputs": [
    {
     "data": {
      "text/plain": [
       " 1       3002\n",
       " 2       1173\n",
       " 1.5      189\n",
       "-1        168\n",
       " 2.5       85\n",
       " 3         18\n",
       " 3.5       15\n",
       " 4.5        4\n",
       " 4          2\n",
       " 6          1\n",
       "Name: Baths, dtype: int64"
      ]
     },
     "execution_count": 46,
     "metadata": {},
     "output_type": "execute_result"
    }
   ],
   "source": [
    "# column having info on number of baths is clean now\n",
    "df_explode['Baths'].value_counts()"
   ]
  },
  {
   "cell_type": "markdown",
   "metadata": {
    "hidden": true
   },
   "source": [
    "Number of baths is cleaned up."
   ]
  },
  {
   "cell_type": "markdown",
   "metadata": {
    "heading_collapsed": true,
    "hidden": true
   },
   "source": [
    "### Cleaning Beds Column"
   ]
  },
  {
   "cell_type": "markdown",
   "metadata": {
    "hidden": true
   },
   "source": [
    "Extracting information regarding number of beds"
   ]
  },
  {
   "cell_type": "code",
   "execution_count": 47,
   "metadata": {
    "hidden": true
   },
   "outputs": [],
   "source": [
    "# extracting information regarding no. of beds from Main_info column\n",
    "df_explode['Beds'] = df_explode['Main_info'].apply(lambda x: str(x).rpartition(\n",
    "    'bd')[0].partition(' ')[2].partition(' ')[2].partition(' ')[2])"
   ]
  },
  {
   "cell_type": "code",
   "execution_count": 48,
   "metadata": {
    "hidden": true
   },
   "outputs": [
    {
     "data": {
      "text/plain": [
       "1                                       1936\n",
       "2                                       1860\n",
       "3                                        274\n",
       "                                         166\n",
       "month 2                                  155\n",
       "month 1                                   89\n",
       "4                                         30\n",
       "month 3                                   21\n",
       "5                                         16\n",
       "6                                          4\n",
       "$1250 3                                    3\n",
       "$950 2                                     3\n",
       "$1300 3                                    3\n",
       "Month Rent 2                               3\n",
       "month rent 2                               3\n",
       "as rent 2                                  3\n",
       "$1500 3                                    3\n",
       "month rent 1                               3\n",
       "month rent 3                               2\n",
       "OFF 2                                      2\n",
       "1350.00 2                                  2\n",
       "$1375 3                                    2\n",
       "$1400 2                                    2\n",
       "$1400 3                                    2\n",
       "450.00 3                                   2\n",
       "$1200 2                                    2\n",
       "Months Rent 2                              2\n",
       "$1295 2                                    2\n",
       "$2000 3                                    2\n",
       "$990 3                                     1\n",
       "$1095 3                                    1\n",
       "$495 2                                     1\n",
       "1200 1                                     1\n",
       "$900 2                                     1\n",
       "$1350 3                                    1\n",
       "$1650 3                                    1\n",
       "$1395 2                                    1\n",
       "Months 2                                   1\n",
       "rent 1                                     1\n",
       "$675 1                                     1\n",
       "$548 1                                     1\n",
       "as monthly rent 2                          1\n",
       "$1199 2                                    1\n",
       "1195.00 2                                  1\n",
       "$1000 3                                    1\n",
       "Negotiable 3                               1\n",
       "$5000 4                                    1\n",
       "$1299 3                                    1\n",
       "$1390 3                                    1\n",
       "$1175 3                                    1\n",
       "$1125 1                                    1\n",
       "1050 3                                     1\n",
       "$1325 2                                    1\n",
       "$1400 4                                    1\n",
       "$1075 3                                    1\n",
       "$2400 3                                    1\n",
       "$1195 3                                    1\n",
       "1150 1                                     1\n",
       "$1999 3                                    1\n",
       "$990 2                                     1\n",
       "months rent 6                              1\n",
       "$1350 2                                    1\n",
       "3495 4                                     1\n",
       "$1199 3                                    1\n",
       "OFF 3                                      1\n",
       "$1325 4                                    1\n",
       "$1150 3                                    1\n",
       "$1125 2                                    1\n",
       "$1600 3                                    1\n",
       "$1395 3                                    1\n",
       "1700 3                                     1\n",
       "same as rent 3                             1\n",
       "$1250 5                                    1\n",
       "$1250 2                                    1\n",
       "1175 2                                     1\n",
       "as first months rent 2                     1\n",
       "$1500 2                                    1\n",
       "$1195 2                                    1\n",
       "$1695 1                                    1\n",
       "$1097 2                                    1\n",
       "MONTH security deposit 2                   1\n",
       "as rent 1                                  1\n",
       "1000, can be paid within 3 months 2        1\n",
       "200 1                                      1\n",
       "$1490 3                                    1\n",
       "000 1                                      1\n",
       "$1100 2                                    1\n",
       "$1200 3                                    1\n",
       "$1000 damage deposit 1                     1\n",
       "Name: Beds, dtype: int64"
      ]
     },
     "execution_count": 48,
     "metadata": {},
     "output_type": "execute_result"
    }
   ],
   "source": [
    "# mostly looks correct\n",
    "df_explode['Beds'].value_counts()"
   ]
  },
  {
   "cell_type": "markdown",
   "metadata": {
    "hidden": true
   },
   "source": [
    "Making the empty rows -1."
   ]
  },
  {
   "cell_type": "code",
   "execution_count": 49,
   "metadata": {
    "hidden": true
   },
   "outputs": [],
   "source": [
    "# making the empty rows -1\n",
    "df_explode.Beds = Specific_Row_Value_Change(df_explode, df_explode.Beds, '', '-1')"
   ]
  },
  {
   "cell_type": "code",
   "execution_count": 50,
   "metadata": {
    "hidden": true
   },
   "outputs": [
    {
     "data": {
      "text/plain": [
       "1                                       1936\n",
       "2                                       1860\n",
       "3                                        274\n",
       "-1                                       166\n",
       "month 2                                  155\n",
       "month 1                                   89\n",
       "4                                         30\n",
       "month 3                                   21\n",
       "5                                         16\n",
       "6                                          4\n",
       "Month Rent 2                               3\n",
       "as rent 2                                  3\n",
       "$1250 3                                    3\n",
       "month rent 2                               3\n",
       "$950 2                                     3\n",
       "$1300 3                                    3\n",
       "$1500 3                                    3\n",
       "month rent 1                               3\n",
       "$1200 2                                    2\n",
       "$1400 3                                    2\n",
       "$2000 3                                    2\n",
       "Months Rent 2                              2\n",
       "1350.00 2                                  2\n",
       "$1400 2                                    2\n",
       "$1295 2                                    2\n",
       "OFF 2                                      2\n",
       "month rent 3                               2\n",
       "450.00 3                                   2\n",
       "$1375 3                                    2\n",
       "$1325 2                                    1\n",
       "$1175 3                                    1\n",
       "$675 1                                     1\n",
       "$495 2                                     1\n",
       "$1390 3                                    1\n",
       "1200 1                                     1\n",
       "$1395 2                                    1\n",
       "Months 2                                   1\n",
       "$900 2                                     1\n",
       "$1299 3                                    1\n",
       "$2400 3                                    1\n",
       "$1350 3                                    1\n",
       "$990 3                                     1\n",
       "$1095 3                                    1\n",
       "$1125 1                                    1\n",
       "rent 1                                     1\n",
       "$548 1                                     1\n",
       "$1199 2                                    1\n",
       "as monthly rent 2                          1\n",
       "1195.00 2                                  1\n",
       "$1000 3                                    1\n",
       "Negotiable 3                               1\n",
       "1050 3                                     1\n",
       "$1400 4                                    1\n",
       "$5000 4                                    1\n",
       "$1075 3                                    1\n",
       "OFF 3                                      1\n",
       "$1199 3                                    1\n",
       "$1999 3                                    1\n",
       "$990 2                                     1\n",
       "months rent 6                              1\n",
       "$1350 2                                    1\n",
       "3495 4                                     1\n",
       "$1195 3                                    1\n",
       "$1325 4                                    1\n",
       "$1200 3                                    1\n",
       "$1150 3                                    1\n",
       "$1125 2                                    1\n",
       "$1600 3                                    1\n",
       "$1395 3                                    1\n",
       "1700 3                                     1\n",
       "1000, can be paid within 3 months 2        1\n",
       "1150 1                                     1\n",
       "same as rent 3                             1\n",
       "$1250 5                                    1\n",
       "$1250 2                                    1\n",
       "1175 2                                     1\n",
       "as first months rent 2                     1\n",
       "$1500 2                                    1\n",
       "$1195 2                                    1\n",
       "$1695 1                                    1\n",
       "$1097 2                                    1\n",
       "MONTH security deposit 2                   1\n",
       "as rent 1                                  1\n",
       "$1000 damage deposit 1                     1\n",
       "200 1                                      1\n",
       "$1490 3                                    1\n",
       "000 1                                      1\n",
       "$1100 2                                    1\n",
       "$1650 3                                    1\n",
       "Name: Beds, dtype: int64"
      ]
     },
     "execution_count": 50,
     "metadata": {},
     "output_type": "execute_result"
    }
   ],
   "source": [
    "# empty rows changed\n",
    "df_explode['Beds'].value_counts()"
   ]
  },
  {
   "cell_type": "markdown",
   "metadata": {
    "hidden": true
   },
   "source": [
    "Taking a very simple approach to cleaning. Considering only those value_counts() above for which counts is less than 156. For all these, taking the last character of the string as that contains required information."
   ]
  },
  {
   "cell_type": "code",
   "execution_count": 51,
   "metadata": {
    "hidden": true
   },
   "outputs": [],
   "source": [
    "# handling all the types with value count less than 156 in one go separately in temporary data frame \n",
    "# extracting the last digit for every row, which is basically no. of beds\n",
    "counts = df_explode['Beds'].value_counts() \n",
    "df_temp = pd.Series(df_explode[df_explode['Beds'].isin(counts[counts < 156].index)]['Beds'])\n",
    "# padding up to ensure matches with the format of the previous one\n",
    "df_temp = (df_temp.str[-2]).str.pad(2, side='right', fillchar=' ')\n"
   ]
  },
  {
   "cell_type": "code",
   "execution_count": 52,
   "metadata": {
    "hidden": true
   },
   "outputs": [],
   "source": [
    "# for debugging purposes\n",
    "# len(df_temp)\n",
    "# df_temp.unique()\n",
    "# df_temp.value_counts()\n"
   ]
  },
  {
   "cell_type": "code",
   "execution_count": 53,
   "metadata": {
    "hidden": true
   },
   "outputs": [
    {
     "data": {
      "text/plain": [
       "2     2059\n",
       "1     2039\n",
       "3      337\n",
       "-1     166\n",
       "4       34\n",
       "5       17\n",
       "6        5\n",
       "Name: Beds, dtype: int64"
      ]
     },
     "execution_count": 53,
     "metadata": {},
     "output_type": "execute_result"
    }
   ],
   "source": [
    "# updating all rows where the value type belongs to a category \n",
    "# that has a count less than 155 in whole column of beds\n",
    "df_explode['Beds'].update(df_temp)\n",
    "df_explode['Beds'].value_counts()\n",
    "# no of beds information cleaned"
   ]
  },
  {
   "cell_type": "markdown",
   "metadata": {
    "hidden": true
   },
   "source": [
    "Successfully parsed information on number of beds above."
   ]
  },
  {
   "cell_type": "markdown",
   "metadata": {
    "heading_collapsed": true,
    "hidden": true
   },
   "source": [
    "### Cleaning Rent_Monthly Column"
   ]
  },
  {
   "cell_type": "markdown",
   "metadata": {
    "hidden": true
   },
   "source": [
    "The function below gives the number of entries with N dollar signs in the string and their indices. Idea is to get a better understanding regarding number of dollar signs in listings in the dataset."
   ]
  },
  {
   "cell_type": "code",
   "execution_count": 54,
   "metadata": {
    "code_folding": [
     0
    ],
    "hidden": true
   },
   "outputs": [],
   "source": [
    "def Count_no_of_Dollars(DataFrame, N, Column):\n",
    "    \"\"\"\n",
    "    This function return the no. of entries and the \n",
    "    index of all the entries with N number of dollar signs\n",
    "    \"\"\"\n",
    "    Index_Dollar_Sign = DataFrame.index.where(pd.Series(list(map(lambda x: len(x.split('$')), Column))) == N).tolist()\n",
    "    Quantity_Dollar_Sign = DataFrame.index.where(pd.Series(list(map(lambda x: len(x.split('$')), Column))) == N).notnull().sum()\n",
    "    return Index_Dollar_Sign , Quantity_Dollar_Sign\n"
   ]
  },
  {
   "cell_type": "code",
   "execution_count": 55,
   "metadata": {
    "hidden": true
   },
   "outputs": [],
   "source": [
    "Index_0_Dollar_Sign, Quantity_0_Dollar_Sign = Count_no_of_Dollars(df_explode, 1, df_explode['Main_info'])\n",
    "Index_1_Dollar_Sign, Quantity_1_Dollar_Sign = Count_no_of_Dollars(df_explode, 2, df_explode['Main_info'])\n",
    "Index_2_Dollar_Sign, Quantity_2_Dollar_Sign = Count_no_of_Dollars(df_explode, 3, df_explode['Main_info'])\n",
    "Index_3_Dollar_Sign, Quantity_3_Dollar_Sign = Count_no_of_Dollars(df_explode, 4, df_explode['Main_info'])\n",
    "\n",
    "# uncomment to check\n",
    "# Quantity_0_Dollar_Sign\n",
    "# df_explode.shape\n",
    "\n"
   ]
  },
  {
   "cell_type": "markdown",
   "metadata": {
    "hidden": true
   },
   "source": [
    "I learnt that there are 0 entries with 0 dollar sign, 428 entries with 1 dollar sign, 4220 entries with 2 dollar signs, 9 entries with 3 dollar signs. All listings (4657) are fully accounted for till here.\n"
   ]
  },
  {
   "cell_type": "markdown",
   "metadata": {
    "hidden": true
   },
   "source": [
    "Breaking at first occurance of dollar sign as it is for rent amount."
   ]
  },
  {
   "cell_type": "code",
   "execution_count": 56,
   "metadata": {
    "hidden": true
   },
   "outputs": [],
   "source": [
    "# extracting info regarding rent from Main_info table\n",
    "df_explode['Rent_Monthly'] = df_explode['Main_info'].apply(lambda x: str(x).partition('$')[2].partition(' ')[0])"
   ]
  },
  {
   "cell_type": "code",
   "execution_count": 57,
   "metadata": {
    "hidden": true
   },
   "outputs": [
    {
     "data": {
      "text/plain": [
       "1425    219\n",
       "1375    169\n",
       "1250    160\n",
       "1200    132\n",
       "1100    127\n",
       "1400    119\n",
       "1225    109\n",
       "1450     98\n",
       "1350     92\n",
       "1150     83\n",
       "1300     80\n",
       "1475     79\n",
       "1275     76\n",
       "950      69\n",
       "1175     68\n",
       "1050     59\n",
       "1125     55\n",
       "1500     53\n",
       "1525     47\n",
       "1600     45\n",
       "1800     45\n",
       "1750     41\n",
       "925      36\n",
       "1900     36\n",
       "1550     35\n",
       "1700     35\n",
       "1650     34\n",
       "1000     34\n",
       "999      34\n",
       "1625     32\n",
       "900      31\n",
       "1075     29\n",
       "1025     29\n",
       "1399     28\n",
       "1850     27\n",
       "1139     26\n",
       "1195     26\n",
       "2200     25\n",
       "2150     24\n",
       "2250     24\n",
       "1245     24\n",
       "1295     23\n",
       "1229     23\n",
       "850      22\n",
       "800      22\n",
       "975      22\n",
       "2750     22\n",
       "1172     22\n",
       "1325     22\n",
       "3150     21\n",
       "Name: Rent_Monthly, dtype: int64"
      ]
     },
     "execution_count": 57,
     "metadata": {},
     "output_type": "execute_result"
    }
   ],
   "source": [
    "# rental info looks clean\n",
    "df_explode['Rent_Monthly'].value_counts()[:50]"
   ]
  },
  {
   "cell_type": "markdown",
   "metadata": {
    "hidden": true
   },
   "source": [
    "I removed problematic rows with 3 dollar signs. Rows with 1 dollar sign have only rent information and thus no modification was required for them. Rows with 2 dollar signs are inherently correct."
   ]
  },
  {
   "cell_type": "code",
   "execution_count": 58,
   "metadata": {
    "hidden": true
   },
   "outputs": [],
   "source": [
    "# removing 9 rows having 3 dollar signs\n",
    "# row having 2 dollar signs by default correct\n",
    "# rows having only 1 dollar sign are assumed to be having rent value but no deposit info \n",
    "df_explode.drop(pd.Series(Index_3_Dollar_Sign).value_counts().index.to_list(), inplace= True)\n",
    "# reseting index\n",
    "df_explode = df_explode.reset_index(drop=True)"
   ]
  },
  {
   "cell_type": "code",
   "execution_count": 59,
   "metadata": {
    "hidden": true
   },
   "outputs": [
    {
     "data": {
      "text/plain": [
       "(4648, 22)"
      ]
     },
     "execution_count": 59,
     "metadata": {},
     "output_type": "execute_result"
    }
   ],
   "source": [
    "# 9 rows dropped from data frame\n",
    "df_explode.shape"
   ]
  },
  {
   "cell_type": "markdown",
   "metadata": {
    "hidden": true
   },
   "source": [
    "Montlhy rent information is collected and cleaned here."
   ]
  },
  {
   "cell_type": "markdown",
   "metadata": {
    "heading_collapsed": true,
    "hidden": true
   },
   "source": [
    "### Cleaning Utilities_info Column   "
   ]
  },
  {
   "cell_type": "markdown",
   "metadata": {
    "hidden": true
   },
   "source": [
    "Taking the Utilities info after the keyword 'Included: '"
   ]
  },
  {
   "cell_type": "code",
   "execution_count": 60,
   "metadata": {
    "hidden": true
   },
   "outputs": [],
   "source": [
    "# extracting utilities info from Utilities_info\n",
    "df_explode['Utilities_info'] = df_explode['Utilities_info'].apply(\n",
    "    lambda x: str(x).partition('Included: ')[2].partition(\"'\")[0])"
   ]
  },
  {
   "cell_type": "code",
   "execution_count": 61,
   "metadata": {
    "hidden": true
   },
   "outputs": [
    {
     "data": {
      "text/plain": [
       "Heat Water                               3157\n",
       "                                          527\n",
       "Water Heat                                135\n",
       "Heat Water Electricity                    125\n",
       "Heat Electricity Water                    102\n",
       "Cable Heat Water                          100\n",
       "Heat Cable Electricity Internet Water      62\n",
       "Heat Cable Water                           61\n",
       "Water                                      57\n",
       "Heat                                       52\n",
       "Heat Electricity Water Internet            44\n",
       "Cable Heat Water Electricity               42\n",
       "Heat Cable Internet Water                  31\n",
       "Heat Electricity Internet Water            25\n",
       "Heat Electricity Water Cable Internet      21\n",
       "Water Heat\",                                9\n",
       "Internet                                    9\n",
       "Heat Water Internet                         7\n",
       "Heat Internet Electricity Water             5\n",
       "Heat Water Electricity Internet             5\n",
       "Heat Internet                               4\n",
       "Heat Electricity Water Internet Cable       4\n",
       "Heat Cable Electricity Water Internet       4\n",
       "Heat Water Internet Electricity             4\n",
       "Internet Heat                               4\n",
       "Electricity Water Heat                      4\n",
       "Electricity Heat Water Internet             2\n",
       "Heat Water\",                                2\n",
       "Electricity Internet Cable Heat Water       2\n",
       "Heat Internet Water                         2\n",
       "Heat Electricity Internet Water Cable       2\n",
       "Water Electricity Heat                      2\n",
       "Water Electricity                           2\n",
       "Heat Electricity Water Cable                2\n",
       "Heat Cable Internet Electricity Water       2\n",
       "Cable                                       1\n",
       "Cable Heat Electricity Water Internet       1\n",
       "Water Internet Electricity Heat Cable       1\n",
       "Cable Electricity Internet Heat Water       1\n",
       "Internet Heat Electricity Water             1\n",
       "Water Internet Heat Cable                   1\n",
       "Water Internet Heat Electricity             1\n",
       "Water Cable                                 1\n",
       "Internet Water Electricity Heat             1\n",
       "Heat Water Cable Internet                   1\n",
       "Heat Electricity Cable Water Internet       1\n",
       "Heat Cable Internet Water Electricity       1\n",
       "Internet Heat Cable Electricity Water       1\n",
       "Internet Cable Heat Electricity Water       1\n",
       "Heat Electricity Internet Cable Water       1\n",
       "Heat Water Internet Cable                   1\n",
       "Internet Electricity Heat Water             1\n",
       "Water Heat Electricity                      1\n",
       "Heat Internet Cable Water                   1\n",
       "Heat Electricity Water\",                    1\n",
       "Heat Water Internet Electricity Cable       1\n",
       "Heat Water Electricity Internet Cable       1\n",
       "Internet Heat Electricity Water Cable       1\n",
       "Water Heat Electricity Internet             1\n",
       "Electricity Heat Water                      1\n",
       "Heat Water Cable                            1\n",
       "Heat Water Cable Internet Electricity       1\n",
       "Heat Water Electricity Cable Internet       1\n",
       "Cable Internet                              1\n",
       "Internet Water Electricity Heat Cable       1\n",
       "Name: Utilities_info, dtype: int64"
      ]
     },
     "execution_count": 61,
     "metadata": {},
     "output_type": "execute_result"
    }
   ],
   "source": [
    "# types mostly make sense \n",
    "df_explode['Utilities_info'].value_counts()"
   ]
  },
  {
   "cell_type": "markdown",
   "metadata": {
    "hidden": true
   },
   "source": [
    "Changing empty to -1."
   ]
  },
  {
   "cell_type": "code",
   "execution_count": 62,
   "metadata": {
    "hidden": true
   },
   "outputs": [],
   "source": [
    "df_explode.Utilities_info = Specific_Row_Value_Change(df_explode, df_explode.Utilities_info, '', '-1')"
   ]
  },
  {
   "cell_type": "code",
   "execution_count": 63,
   "metadata": {
    "hidden": true
   },
   "outputs": [
    {
     "data": {
      "text/plain": [
       "Heat Water                               3157\n",
       "-1                                        527\n",
       "Water Heat                                135\n",
       "Heat Water Electricity                    125\n",
       "Heat Electricity Water                    102\n",
       "Cable Heat Water                          100\n",
       "Heat Cable Electricity Internet Water      62\n",
       "Heat Cable Water                           61\n",
       "Water                                      57\n",
       "Heat                                       52\n",
       "Heat Electricity Water Internet            44\n",
       "Cable Heat Water Electricity               42\n",
       "Heat Cable Internet Water                  31\n",
       "Heat Electricity Internet Water            25\n",
       "Heat Electricity Water Cable Internet      21\n",
       "Water Heat\",                                9\n",
       "Internet                                    9\n",
       "Heat Water Internet                         7\n",
       "Heat Internet Electricity Water             5\n",
       "Heat Water Electricity Internet             5\n",
       "Heat Electricity Water Internet Cable       4\n",
       "Heat Internet                               4\n",
       "Electricity Water Heat                      4\n",
       "Heat Cable Electricity Water Internet       4\n",
       "Heat Water Internet Electricity             4\n",
       "Internet Heat                               4\n",
       "Heat Water\",                                2\n",
       "Electricity Internet Cable Heat Water       2\n",
       "Heat Cable Internet Electricity Water       2\n",
       "Electricity Heat Water Internet             2\n",
       "Water Electricity Heat                      2\n",
       "Heat Internet Water                         2\n",
       "Water Electricity                           2\n",
       "Heat Electricity Water Cable                2\n",
       "Heat Electricity Internet Water Cable       2\n",
       "Heat Internet Cable Water                   1\n",
       "Water Internet Heat Electricity             1\n",
       "Cable Electricity Internet Heat Water       1\n",
       "Cable                                       1\n",
       "Water Internet Electricity Heat Cable       1\n",
       "Cable Heat Electricity Water Internet       1\n",
       "Internet Heat Cable Electricity Water       1\n",
       "Heat Cable Internet Water Electricity       1\n",
       "Internet Heat Electricity Water             1\n",
       "Water Cable                                 1\n",
       "Heat Water Cable Internet                   1\n",
       "Heat Electricity Cable Water Internet       1\n",
       "Internet Water Electricity Heat             1\n",
       "Heat Electricity Water\",                    1\n",
       "Heat Water Electricity Internet Cable       1\n",
       "Internet Heat Electricity Water Cable       1\n",
       "Water Heat Electricity Internet             1\n",
       "Electricity Heat Water                      1\n",
       "Heat Water Cable                            1\n",
       "Water Heat Electricity                      1\n",
       "Internet Water Electricity Heat Cable       1\n",
       "Heat Water Internet Electricity Cable       1\n",
       "Internet Electricity Heat Water             1\n",
       "Heat Water Internet Cable                   1\n",
       "Heat Electricity Internet Cable Water       1\n",
       "Heat Water Cable Internet Electricity       1\n",
       "Internet Cable Heat Electricity Water       1\n",
       "Heat Water Electricity Cable Internet       1\n",
       "Cable Internet                              1\n",
       "Water Internet Heat Cable                   1\n",
       "Name: Utilities_info, dtype: int64"
      ]
     },
     "execution_count": 63,
     "metadata": {},
     "output_type": "execute_result"
    }
   ],
   "source": [
    "# updated -1 at empty\n",
    "df_explode['Utilities_info'].value_counts()"
   ]
  },
  {
   "cell_type": "markdown",
   "metadata": {
    "hidden": true
   },
   "source": [
    "This function displays the words mentioned in value_counts() and their frequency. This helps in deciding which all words are frequently mentioned in the given field."
   ]
  },
  {
   "cell_type": "code",
   "execution_count": 64,
   "metadata": {
    "code_folding": [
     0
    ],
    "hidden": true
   },
   "outputs": [],
   "source": [
    "def Display_Split_ValueCountsIndex_Frequency (Column):\n",
    "    \n",
    "    \"\"\"\n",
    "    This function displays the frequency of elements \n",
    "    (generated by splitting string in value_counts() output at ' ') \n",
    "    in descending order. Gives us an idea of the most \n",
    "    frequent words in the value_counts().\n",
    "    \"\"\"\n",
    "\n",
    "# converting to pandas series \n",
    "    temp_1 = pd.Series(Column.value_counts().index)\n",
    "# initializing list for copying split elements\n",
    "    temp_2 = []\n",
    "    for x in range(0,len(temp_1)):\n",
    "            temp_2.append(temp_1.str.split(' ')[x])\n",
    "# ref: XXX\n",
    "# got unique entries and their counts\n",
    "    chain = itertools.chain(*temp_2)\n",
    "    unique, counts = np.unique(list(chain), return_counts=True)\n",
    "# storing results in a dictionary \n",
    "    dict = {}\n",
    "    for A, B in zip(unique, counts):\n",
    "        dict[A] = B\n",
    "# returning dictionary sorted in reverse order as per frequency\n",
    "    return sorted(dict.items(), key = lambda x: x[1], reverse= True)\n",
    "    "
   ]
  },
  {
   "cell_type": "markdown",
   "metadata": {
    "hidden": true
   },
   "source": [
    "Observing what is mentioned most in value_counts() for Utilities_info"
   ]
  },
  {
   "cell_type": "code",
   "execution_count": 65,
   "metadata": {
    "hidden": true
   },
   "outputs": [
    {
     "data": {
      "text/plain": [
       "[('Heat', 57),\n",
       " ('Water', 56),\n",
       " ('Internet', 43),\n",
       " ('Electricity', 42),\n",
       " ('Cable', 34),\n",
       " ('', 3),\n",
       " ('Water\",', 2),\n",
       " ('-1', 1),\n",
       " ('Heat\",', 1)]"
      ]
     },
     "execution_count": 65,
     "metadata": {},
     "output_type": "execute_result"
    }
   ],
   "source": [
    "# displaying most mentioned words in value_counts() with their frequency\n",
    "Display_Split_ValueCountsIndex_Frequency(df_explode['Utilities_info'])"
   ]
  },
  {
   "cell_type": "markdown",
   "metadata": {
    "hidden": true
   },
   "source": [
    "This function assigns score to every element depending on how many words from desired list it contains. +1 is assigned for every feature present."
   ]
  },
  {
   "cell_type": "code",
   "execution_count": 66,
   "metadata": {
    "code_folding": [
     0
    ],
    "hidden": true
   },
   "outputs": [],
   "source": [
    "def Specific_Row_Value_Change_Substring_PlusOne( Column, List_Substring):\n",
    "    \n",
    "    \"\"\"\n",
    "    This function assigns value to every listing.\n",
    "    The listing having more of the desireable charactersistics \n",
    "    is rewarded more. For every match to a substring in List_Substring\n",
    "    a +1 is added to the counter, which stores the final value.\n",
    "    \"\"\"\n",
    "    temp_1 = {Substring:[] for Substring in List_Substring}\n",
    "    for Substring in List_Substring:\n",
    "        temp_2 = []\n",
    "        for i in range(0, len(Column)):\n",
    "            if (Column.str.contains(Substring).to_list()[i] == True):\n",
    "                temp_2.append(1)\n",
    "            else:   \n",
    "                temp_2.append(0)\n",
    "        temp_1[Substring] = temp_2        \n",
    "    counter = np.zeros(len(Column))\n",
    "    for Substring in List_Substring:\n",
    "        counter = counter + np.array(temp_1[Substring])\n",
    "                \n",
    "    return pd.Series(counter)\n"
   ]
  },
  {
   "cell_type": "markdown",
   "metadata": {
    "hidden": true
   },
   "source": [
    "Converting info in Utilities column to score based on how many desireable characteristics it has."
   ]
  },
  {
   "cell_type": "code",
   "execution_count": 67,
   "metadata": {
    "hidden": true
   },
   "outputs": [],
   "source": [
    "# checking the listing for how many desireable utility features it has\n",
    "list_full_utilities_info = ['Heat', 'Water', 'Internet',\n",
    "                            'Electricity', 'Cable', 'Water\",', 'Heat\",']\n",
    "# giving a rating as per the no of matches, +1 for every match\n",
    "df_explode['Utilities_info'] = Specific_Row_Value_Change_Substring_PlusOne(\n",
    "    df_explode['Utilities_info'], list_full_utilities_info)"
   ]
  },
  {
   "cell_type": "code",
   "execution_count": 68,
   "metadata": {
    "hidden": true
   },
   "outputs": [
    {
     "data": {
      "text/plain": [
       "2.0    3304\n",
       "0.0     527\n",
       "3.0     417\n",
       "4.0     170\n",
       "1.0     119\n",
       "5.0     111\n",
       "Name: Utilities_info, dtype: int64"
      ]
     },
     "execution_count": 68,
     "metadata": {},
     "output_type": "execute_result"
    }
   ],
   "source": [
    "# utilities info looks cleaned up\n",
    "df_explode['Utilities_info'].value_counts()"
   ]
  },
  {
   "cell_type": "markdown",
   "metadata": {
    "hidden": true
   },
   "source": [
    "Making empty entries -1 again."
   ]
  },
  {
   "cell_type": "code",
   "execution_count": 69,
   "metadata": {
    "hidden": true
   },
   "outputs": [
    {
     "data": {
      "text/plain": [
       " 2.0    3304\n",
       "-1.0     527\n",
       " 3.0     417\n",
       " 4.0     170\n",
       " 1.0     119\n",
       " 5.0     111\n",
       "Name: Utilities_info, dtype: int64"
      ]
     },
     "execution_count": 69,
     "metadata": {},
     "output_type": "execute_result"
    }
   ],
   "source": [
    "# replacing -1 at the 527 positions that were originally empty\n",
    "df_explode.Utilities_info = Specific_Row_Value_Change(df_explode, df_explode.Utilities_info, 0.0, -1)\n",
    "df_explode['Utilities_info'].value_counts()"
   ]
  },
  {
   "cell_type": "markdown",
   "metadata": {
    "heading_collapsed": true,
    "hidden": true
   },
   "source": [
    "## Cleaning Data in FlexTable_info "
   ]
  },
  {
   "cell_type": "markdown",
   "metadata": {
    "hidden": true
   },
   "source": [
    "Information from main info table was cleaned in the previous section. All the features from flex table were obtained one by one in the given section."
   ]
  },
  {
   "cell_type": "markdown",
   "metadata": {
    "heading_collapsed": true,
    "hidden": true
   },
   "source": [
    "### Cleaning Neighbourhood Column"
   ]
  },
  {
   "cell_type": "markdown",
   "metadata": {
    "hidden": true
   },
   "source": [
    "Neighbourhood column looks ok in principle. Issue is abnormally high number of listings in Applewood. Moreover, it is not even located close to downtown, which is the heart of the city, and thus there is not a clear explanation for so many listings in Appllewood. One of the possible explanations is that listings are repeated in the raw scraped data. Checking and correcting for repetition in Section 6."
   ]
  },
  {
   "cell_type": "code",
   "execution_count": 70,
   "metadata": {
    "hidden": true
   },
   "outputs": [],
   "source": [
    "# df_explode.shape\n",
    "# df_explode.head()"
   ]
  },
  {
   "cell_type": "code",
   "execution_count": 71,
   "metadata": {
    "hidden": true
   },
   "outputs": [
    {
     "data": {
      "text/plain": [
       "Applewood                987\n",
       "Beltline                 351\n",
       "Downtown                 330\n",
       "Hillhurst                170\n",
       "Lower Mount Royal        147\n",
       "Mission                  141\n",
       "Capitol Hill             131\n",
       "Skyview                  119\n",
       "Victoria Park            114\n",
       "Kingsland                112\n",
       "Tuxedo Park              103\n",
       "Crescent Heights          97\n",
       "Bankview                  94\n",
       "Connaught                 90\n",
       "South Calgary             85\n",
       "Sunalta                   69\n",
       "Varsity                   66\n",
       "Richmond/Knob Hill        63\n",
       "Eau Claire                53\n",
       "Brentwood                 45\n",
       "West Springs              44\n",
       "Inglewood                 42\n",
       "Radisson Heights          40\n",
       "Kincora                   39\n",
       "Haysboro                  38\n",
       "Bridgeland                34\n",
       "-1                        32\n",
       "Spruce Cliff              31\n",
       "Greenview                 31\n",
       "Bowness                   29\n",
       "Windsor Park              28\n",
       "Bayview                   27\n",
       "University Heights        27\n",
       "Cornerstone               27\n",
       "Cougar Ridge              26\n",
       "Forest Lawn               24\n",
       "Huntington Hills          24\n",
       "Red Carpet                22\n",
       "Sunnyside                 21\n",
       "West Hillhurst            20\n",
       "Banff Trail               20\n",
       "Cityscape                 20\n",
       "Lakeview                  18\n",
       "Stanley Park              17\n",
       "Rosscarrock               17\n",
       "Kelvin Grove              17\n",
       "Thorncliffe               16\n",
       "East Village              16\n",
       "Willow Park               16\n",
       "Dalhousie                 13\n",
       "Ranchlands                13\n",
       "Marlborough               11\n",
       "Panorama Hills            11\n",
       "Braeside                  11\n",
       "Altadore                  11\n",
       "Highland Park             10\n",
       "Dover                     10\n",
       "Killarney                 10\n",
       "Glamorgan                 10\n",
       "Acadia                    10\n",
       "Falconridge               10\n",
       "Glenbrook                  9\n",
       "Triwood                    9\n",
       "Quarry Park                9\n",
       "Fairview                   8\n",
       "Cliff Bungalow             8\n",
       "Mount Royal                8\n",
       "Beddington                 8\n",
       "Redstone                   8\n",
       "Taradale                   8\n",
       "Sage Hill                  8\n",
       "Tuscany                    7\n",
       "Lake Bonavista             7\n",
       "Charleswood                7\n",
       "Mount Pleasant             7\n",
       "Rundle                     6\n",
       "Pineridge                  6\n",
       "Mayland Heights            6\n",
       "Fonda                      6\n",
       "Nolan Hill                 6\n",
       "Temple                     6\n",
       "New Brighton               6\n",
       "Westgate                   6\n",
       "Whitehorn                  6\n",
       "Saddle Ridge               5\n",
       "Westbrook                  5\n",
       "Rosedale                   5\n",
       "Parkdale                   5\n",
       "Coventry Hills             5\n",
       "Palliser                   5\n",
       "Vista Heights              5\n",
       "Springbank Hill            5\n",
       "Lincoln Park               5\n",
       "Scarboro                   5\n",
       "North Glenmore Park        5\n",
       "Royal Oak                  5\n",
       "Dover Glen                 5\n",
       "Evanston                   5\n",
       "Millrise                   5\n",
       "Woodlands                  5\n",
       "Mckenzie Towne             5\n",
       "Ramsay                     4\n",
       "Cedarbrae                  4\n",
       "Canyon Meadows             4\n",
       "Parkhill-Stanley Park      4\n",
       "Montgomery                 4\n",
       "Southwood                  4\n",
       "Southview                  4\n",
       "Copperfield                4\n",
       "Patterson                  3\n",
       "Country Hills Village      3\n",
       "Edgemont                   3\n",
       "McKenzie Towne             3\n",
       "Erlton                     3\n",
       "University District        3\n",
       "Renfrew                    3\n",
       "Rocky Ridge                3\n",
       "Erin Woods                 3\n",
       "Midnapore                  3\n",
       "Marlborough Park           3\n",
       "Hamptons                   3\n",
       "Ogden                      3\n",
       "Aspen Woods                2\n",
       "Penbrooke Meadows          2\n",
       "Highwood                   2\n",
       "Signal Hill                2\n",
       "Albert Park                2\n",
       "Currie Barracks            2\n",
       "Crestmont                  2\n",
       "Harvest Hills              2\n",
       "Rutland Park               2\n",
       "Garrison Green             2\n",
       "Coach Hill                 2\n",
       "Coral Springs              2\n",
       "Forest Heights             2\n",
       "Arbour Lake                2\n",
       "Sherwood                   2\n",
       "Evergreen                  2\n",
       "Manchester                 2\n",
       "Glendale                   2\n",
       "Carrington                 2\n",
       "Shawnessy                  2\n",
       "Queensland                 2\n",
       "Citadel                    2\n",
       "Monterey Park              1\n",
       "Martindale                 1\n",
       "Briar Hill                 1\n",
       "Chinook Park               1\n",
       "Country Hills              1\n",
       "Mountview Parc             1\n",
       "Garrison Woods             1\n",
       "Patterson Heights          1\n",
       "Valley Ridge               1\n",
       "Oakridge                   1\n",
       "Bearspaw                   1\n",
       "Shaganappi                 1\n",
       "Riverbend                  1\n",
       "Regal Terrace              1\n",
       "Elboya                     1\n",
       "Sandstone                  1\n",
       "Savanna                    1\n",
       "Shepard                    1\n",
       "Meadowlark Park            1\n",
       "Strathcona Park            1\n",
       "Hawkwood                   1\n",
       "Springbank                 1\n",
       "Castleridge                1\n",
       "Name: Neighbourhood, dtype: int64"
      ]
     },
     "execution_count": 71,
     "metadata": {},
     "output_type": "execute_result"
    }
   ],
   "source": [
    "# Applewood surprising, not even downtown where most of the listings should be\n",
    "df_explode['Neighbourhood'].value_counts()"
   ]
  },
  {
   "cell_type": "code",
   "execution_count": 72,
   "metadata": {
    "hidden": true
   },
   "outputs": [
    {
     "data": {
      "text/plain": [
       "167"
      ]
     },
     "execution_count": 72,
     "metadata": {},
     "output_type": "execute_result"
    }
   ],
   "source": [
    " len(df_explode['Neighbourhood'].unique())"
   ]
  },
  {
   "cell_type": "markdown",
   "metadata": {
    "hidden": true
   },
   "source": [
    "There are 167 neighbourhoods in the city."
   ]
  },
  {
   "cell_type": "markdown",
   "metadata": {
    "heading_collapsed": true,
    "hidden": true
   },
   "source": [
    "### Cleaning Smoking Column"
   ]
  },
  {
   "cell_type": "code",
   "execution_count": 73,
   "metadata": {
    "hidden": true
   },
   "outputs": [
    {
     "data": {
      "text/plain": [
       "Non-smoking            4146\n",
       "Smoking allowed         307\n",
       "Smoke free building     168\n",
       "Smoking negotiable       15\n",
       "                         12\n",
       "Name: Smoking, dtype: int64"
      ]
     },
     "execution_count": 73,
     "metadata": {},
     "output_type": "execute_result"
    }
   ],
   "source": [
    "# moving on to cleaning smoking status column\n",
    "df_explode['Smoking'].value_counts()\n",
    "# df_explode['Smoking'].unique()"
   ]
  },
  {
   "cell_type": "markdown",
   "metadata": {
    "hidden": true
   },
   "source": [
    "Assigning value 1 if allowed/negotiable, 0 if not allowed, -1 if not given."
   ]
  },
  {
   "cell_type": "code",
   "execution_count": 74,
   "metadata": {
    "hidden": true
   },
   "outputs": [],
   "source": [
    "#  if smoking allowed/negotiable then assign 1, else 0 and -1 for empty values\n",
    "df_explode.Smoking = Specific_Row_Value_Change(df_explode, df_explode.Smoking, 'Non-smoking', '0')\n",
    "df_explode.Smoking = Specific_Row_Value_Change(df_explode, df_explode.Smoking, 'Smoke free building', '0')\n",
    "df_explode.Smoking = Specific_Row_Value_Change(df_explode, df_explode.Smoking, 'Smoking allowed', '1')\n",
    "df_explode.Smoking = Specific_Row_Value_Change(df_explode, df_explode.Smoking, 'Smoking negotiable', '1')\n",
    "df_explode.Smoking = Specific_Row_Value_Change(df_explode, df_explode.Smoking, '', '-1')"
   ]
  },
  {
   "cell_type": "code",
   "execution_count": 75,
   "metadata": {
    "hidden": true
   },
   "outputs": [
    {
     "data": {
      "text/plain": [
       "0     4314\n",
       "1      322\n",
       "-1      12\n",
       "Name: Smoking, dtype: int64"
      ]
     },
     "execution_count": 75,
     "metadata": {},
     "output_type": "execute_result"
    }
   ],
   "source": [
    "# smoking information cleaned up\n",
    "df_explode['Smoking'].value_counts()"
   ]
  },
  {
   "cell_type": "markdown",
   "metadata": {
    "hidden": true
   },
   "source": [
    "Smoking information is clean now. -1 is for missing entries."
   ]
  },
  {
   "cell_type": "markdown",
   "metadata": {
    "heading_collapsed": true,
    "hidden": true
   },
   "source": [
    "### Cleaning Landlord_On_Rentfaster_Since Column"
   ]
  },
  {
   "cell_type": "code",
   "execution_count": 76,
   "metadata": {
    "hidden": true
   },
   "outputs": [
    {
     "data": {
      "text/plain": [
       "        2192\n",
       "2017    1049\n",
       "2020     342\n",
       "2019     232\n",
       "2009     170\n",
       "2018     143\n",
       "2006      80\n",
       "2015      79\n",
       "2016      63\n",
       "2014      59\n",
       "2005      58\n",
       "2008      35\n",
       "2007      35\n",
       "2011      31\n",
       "2010      31\n",
       "2013      28\n",
       "2012      21\n",
       "Name: Landlord_On_Rentfaster_Since, dtype: int64"
      ]
     },
     "execution_count": 76,
     "metadata": {},
     "output_type": "execute_result"
    }
   ],
   "source": [
    "# checking values in Landlord_On_Rentfaster_Since column\n",
    "df_explode['Landlord_On_Rentfaster_Since'].value_counts()\n",
    "# df_explode['Landlord_On_Rentfaster_Since'].unique()\n"
   ]
  },
  {
   "cell_type": "markdown",
   "metadata": {
    "hidden": true
   },
   "source": [
    "Replacing empty with -1."
   ]
  },
  {
   "cell_type": "code",
   "execution_count": 77,
   "metadata": {
    "hidden": true
   },
   "outputs": [],
   "source": [
    "df_explode.Landlord_On_Rentfaster_Since = Specific_Row_Value_Change(\n",
    "    df_explode, df_explode.Landlord_On_Rentfaster_Since, '', '-1')"
   ]
  },
  {
   "cell_type": "code",
   "execution_count": 78,
   "metadata": {
    "hidden": true
   },
   "outputs": [
    {
     "data": {
      "text/plain": [
       "-1      2192\n",
       "2017    1049\n",
       "2020     342\n",
       "2019     232\n",
       "2009     170\n",
       "2018     143\n",
       "2006      80\n",
       "2015      79\n",
       "2016      63\n",
       "2014      59\n",
       "2005      58\n",
       "2007      35\n",
       "2008      35\n",
       "2010      31\n",
       "2011      31\n",
       "2013      28\n",
       "2012      21\n",
       "Name: Landlord_On_Rentfaster_Since, dtype: int64"
      ]
     },
     "execution_count": 78,
     "metadata": {},
     "output_type": "execute_result"
    }
   ],
   "source": [
    "# column looks clean\n",
    "df_explode['Landlord_On_Rentfaster_Since'].value_counts()"
   ]
  },
  {
   "cell_type": "markdown",
   "metadata": {
    "heading_collapsed": true,
    "hidden": true
   },
   "source": [
    "### Cleaning Year_Built Column"
   ]
  },
  {
   "cell_type": "code",
   "execution_count": 79,
   "metadata": {
    "hidden": true
   },
   "outputs": [
    {
     "data": {
      "text/plain": [
       "                                                             1998\n",
       "2016                                                          741\n",
       "2015                                                          421\n",
       "2019                                                          300\n",
       "2020                                                          283\n",
       "2017                                                          264\n",
       "2021                                                          132\n",
       "1991                                                           55\n",
       "2018                                                           45\n",
       "2002                                                           25\n",
       "2008                                                           21\n",
       "2010                                                           20\n",
       "2007                                                           16\n",
       "2005                                                           15\n",
       "1972                                                           14\n",
       "1965                                                           13\n",
       "1985                                                           12\n",
       "1980                                                           12\n",
       "1978                                                           11\n",
       "2013                                                           11\n",
       "2014                                                           11\n",
       "2001                                                           10\n",
       "2003                                                           10\n",
       "2004                                                            9\n",
       "2011                                                            8\n",
       "1970                                                            8\n",
       "1962                                                            8\n",
       "2012                                                            8\n",
       "2006                                                            8\n",
       "1910                                                            7\n",
       "2000                                                            7\n",
       "2009                                                            7\n",
       "1998                                                            6\n",
       "1976                                                            6\n",
       "1975                                                            6\n",
       "1996                                                            5\n",
       "1969                                                            4\n",
       "1999                                                            4\n",
       "1912                                                            4\n",
       "1979                                                            4\n",
       "1973                                                            4\n",
       "1981                                                            4\n",
       "1954                                                            3\n",
       "1988                                                            3\n",
       "1911                                                            3\n",
       "1982                                                            3\n",
       "1990                                                            3\n",
       "1950                                                            3\n",
       "1974                                                            3\n",
       "1992                                                            3\n",
       "1967                                                            3\n",
       "1971                                                            3\n",
       "1983                                                            3\n",
       "1995                                                            3\n",
       "1997                                                            3\n",
       "1960                                                            3\n",
       "1977                                                            3\n",
       "1984                                                            2\n",
       "1963                                                            2\n",
       "1968                                                            2\n",
       "1958                                                            2\n",
       "1947                                                            2\n",
       "1957                                                            2\n",
       "1964                                                            2\n",
       "1953                                                            2\n",
       "1949                                                            2\n",
       "1908                                                            1\n",
       "Last 18 year                                                    1\n",
       "1998/remodel                                                    1\n",
       "1959                                                            1\n",
       "1994                                                            1\n",
       "1993                                                            1\n",
       "2109                                                            1\n",
       "1970+-                                                          1\n",
       "2005 call or text 403 970 7062                                  1\n",
       "2005 Condo Conversion                                           1\n",
       "1987                                                            1\n",
       "1958 FULLY RENOVATED!                                           1\n",
       "older                                                           1\n",
       "RENOVATED                                                       1\n",
       "New Renovated                                                   1\n",
       "Full Building Conversion                                        1\n",
       "1980 & Full Reno in 2006                                        1\n",
       "1967 - extensively updated (newer construction for suite)       1\n",
       "New Reno                                                        1\n",
       "1986                                                            1\n",
       "1912 Restored in 2000/2020                                      1\n",
       "2005 (conversion)                                               1\n",
       "1961                                                            1\n",
       "1900                                                            1\n",
       "Renovated 2013                                                  1\n",
       "2011 full renovation                                            1\n",
       "1970's                                                          1\n",
       "1955                                                            1\n",
       "Name: Year_Built, dtype: int64"
      ]
     },
     "execution_count": 79,
     "metadata": {},
     "output_type": "execute_result"
    }
   ],
   "source": [
    "# checking year built column next\n",
    "df_explode['Year_Built'].value_counts()\n",
    "# interestingly one building built in future XD"
   ]
  },
  {
   "cell_type": "code",
   "execution_count": 80,
   "metadata": {
    "hidden": true
   },
   "outputs": [],
   "source": [
    "# replacing empty with -1\n",
    "df_explode.Year_Built = Specific_Row_Value_Change(df_explode, df_explode.Year_Built, '', '-1')\n"
   ]
  },
  {
   "cell_type": "code",
   "execution_count": 81,
   "metadata": {
    "hidden": true,
    "scrolled": true
   },
   "outputs": [
    {
     "data": {
      "text/plain": [
       "-1                                                           1998\n",
       "2016                                                          741\n",
       "2015                                                          421\n",
       "2019                                                          300\n",
       "2020                                                          283\n",
       "2017                                                          264\n",
       "2021                                                          132\n",
       "1991                                                           55\n",
       "2018                                                           45\n",
       "2002                                                           25\n",
       "2008                                                           21\n",
       "2010                                                           20\n",
       "2007                                                           16\n",
       "2005                                                           15\n",
       "1972                                                           14\n",
       "1965                                                           13\n",
       "1985                                                           12\n",
       "1980                                                           12\n",
       "2014                                                           11\n",
       "2013                                                           11\n",
       "1978                                                           11\n",
       "2001                                                           10\n",
       "2003                                                           10\n",
       "2004                                                            9\n",
       "1962                                                            8\n",
       "1970                                                            8\n",
       "2011                                                            8\n",
       "2006                                                            8\n",
       "2012                                                            8\n",
       "2009                                                            7\n",
       "1910                                                            7\n",
       "2000                                                            7\n",
       "1998                                                            6\n",
       "1976                                                            6\n",
       "1975                                                            6\n",
       "1996                                                            5\n",
       "1979                                                            4\n",
       "1999                                                            4\n",
       "1912                                                            4\n",
       "1981                                                            4\n",
       "1969                                                            4\n",
       "1973                                                            4\n",
       "1988                                                            3\n",
       "1982                                                            3\n",
       "1967                                                            3\n",
       "1960                                                            3\n",
       "1954                                                            3\n",
       "1911                                                            3\n",
       "1971                                                            3\n",
       "1983                                                            3\n",
       "1992                                                            3\n",
       "1990                                                            3\n",
       "1950                                                            3\n",
       "1974                                                            3\n",
       "1997                                                            3\n",
       "1995                                                            3\n",
       "1977                                                            3\n",
       "1957                                                            2\n",
       "1949                                                            2\n",
       "1968                                                            2\n",
       "1964                                                            2\n",
       "1963                                                            2\n",
       "1984                                                            2\n",
       "1958                                                            2\n",
       "1953                                                            2\n",
       "1947                                                            2\n",
       "1994                                                            1\n",
       "1959                                                            1\n",
       "1908                                                            1\n",
       "1998/remodel                                                    1\n",
       "1955                                                            1\n",
       "2109                                                            1\n",
       "1980 & Full Reno in 2006                                        1\n",
       "1900                                                            1\n",
       "RENOVATED                                                       1\n",
       "2005 call or text 403 970 7062                                  1\n",
       "2005 Condo Conversion                                           1\n",
       "1987                                                            1\n",
       "1958 FULLY RENOVATED!                                           1\n",
       "older                                                           1\n",
       "New Renovated                                                   1\n",
       "Full Building Conversion                                        1\n",
       "1967 - extensively updated (newer construction for suite)       1\n",
       "1970+-                                                          1\n",
       "New Reno                                                        1\n",
       "1986                                                            1\n",
       "1912 Restored in 2000/2020                                      1\n",
       "2005 (conversion)                                               1\n",
       "1961                                                            1\n",
       "1993                                                            1\n",
       "Renovated 2013                                                  1\n",
       "2011 full renovation                                            1\n",
       "1970's                                                          1\n",
       "Last 18 year                                                    1\n",
       "Name: Year_Built, dtype: int64"
      ]
     },
     "execution_count": 81,
     "metadata": {},
     "output_type": "execute_result"
    }
   ],
   "source": [
    "# replaced with -1\n",
    "df_explode['Year_Built'].value_counts()"
   ]
  },
  {
   "cell_type": "markdown",
   "metadata": {
    "hidden": true
   },
   "source": [
    "All the problematic listings have value_count < 1. Handling them separately here. Making them all -1 (i.e. assuming not given). This is reasonable since there are only 28 defective listing out of ~4.5k total."
   ]
  },
  {
   "cell_type": "code",
   "execution_count": 82,
   "metadata": {
    "hidden": true
   },
   "outputs": [],
   "source": [
    "# can replace the ones less than 1 value count by -1 \n",
    "\n",
    "counts = df_explode['Year_Built'].value_counts() \n",
    "df_temp = pd.Series(df_explode[df_explode['Year_Built'].isin(counts[counts < 2].index)]['Year_Built'])\n",
    "\n",
    "y = df_temp.index.to_list()\n",
    "for i in range(0, len(y)):\n",
    "    df_explode['Year_Built'][y[i]] = '-1'\n",
    "\n",
    "\n"
   ]
  },
  {
   "cell_type": "code",
   "execution_count": 83,
   "metadata": {
    "hidden": true
   },
   "outputs": [
    {
     "data": {
      "text/plain": [
       "-1      2026\n",
       "2016     741\n",
       "2015     421\n",
       "2019     300\n",
       "2020     283\n",
       "2017     264\n",
       "2021     132\n",
       "1991      55\n",
       "2018      45\n",
       "2002      25\n",
       "2008      21\n",
       "2010      20\n",
       "2007      16\n",
       "2005      15\n",
       "1972      14\n",
       "1965      13\n",
       "1980      12\n",
       "1985      12\n",
       "2014      11\n",
       "2013      11\n",
       "1978      11\n",
       "2003      10\n",
       "2001      10\n",
       "2004       9\n",
       "2006       8\n",
       "2011       8\n",
       "1970       8\n",
       "1962       8\n",
       "2012       8\n",
       "2000       7\n",
       "1910       7\n",
       "2009       7\n",
       "1998       6\n",
       "1976       6\n",
       "1975       6\n",
       "1996       5\n",
       "1973       4\n",
       "1969       4\n",
       "1999       4\n",
       "1979       4\n",
       "1912       4\n",
       "1981       4\n",
       "1960       3\n",
       "1977       3\n",
       "1971       3\n",
       "1988       3\n",
       "1992       3\n",
       "1950       3\n",
       "1995       3\n",
       "1911       3\n",
       "1974       3\n",
       "1967       3\n",
       "1983       3\n",
       "1997       3\n",
       "1954       3\n",
       "1990       3\n",
       "1982       3\n",
       "1949       2\n",
       "1958       2\n",
       "1964       2\n",
       "1953       2\n",
       "1947       2\n",
       "1963       2\n",
       "1984       2\n",
       "1968       2\n",
       "1957       2\n",
       "Name: Year_Built, dtype: int64"
      ]
     },
     "execution_count": 83,
     "metadata": {},
     "output_type": "execute_result"
    }
   ],
   "source": [
    "# year built cleaned\n",
    "df_explode['Year_Built'].value_counts()"
   ]
  },
  {
   "cell_type": "markdown",
   "metadata": {
    "heading_collapsed": true,
    "hidden": true
   },
   "source": [
    "### Cleaning Pets Column"
   ]
  },
  {
   "cell_type": "markdown",
   "metadata": {
    "hidden": true
   },
   "source": [
    "There are 106 types of different listing so I needed a simplistic approach to clean it up."
   ]
  },
  {
   "cell_type": "code",
   "execution_count": 84,
   "metadata": {
    "hidden": true
   },
   "outputs": [
    {
     "data": {
      "text/plain": [
       "No pets                                                                  1469\n",
       "Cats & dogs negotiable                                                   1451\n",
       "Cats & dogs negotiable Fee: INCLUDED!!                                    361\n",
       "Cats & dogs negotiable Fee: $35 per Month                                 285\n",
       "Cats negotiable No dogs                                                   120\n",
       "Cats & dogs negotiable Fee: 25                                            101\n",
       "Cats & dogs negotiable Fee: $150/cat | $250/dog                            90\n",
       "Cats & dogs negotiable Fee: Monthly Fee from $35                           86\n",
       "Cats & dogs negotiable Fee: $30.00 per month /per pet                      81\n",
       "Cats & dogs allowed                                                        78\n",
       "Cats & dogs negotiable Fee: $300                                           65\n",
       "Cats negotiable No dogs Fee: $25/month fee                                 55\n",
       "Cats & dogs negotiable Fee: $0.00                                          51\n",
       "Cats & dogs negotiable Fee: Negotiable on lease terms.                     49\n",
       "Cats & dogs negotiable Fee: 200                                            47\n",
       "Cats & dogs negotiable Fee: $20 per month                                  30\n",
       "No cats Dogs negotiable                                                    25\n",
       "No pets Fee: NO PETS                                                       20\n",
       "Cats & dogs negotiable Fee: $35 Monthly Fee                                16\n",
       "Cats & dogs negotiable Fee: 30                                             12\n",
       "                                                                           10\n",
       "Cats & dogs negotiable Fee: No Pet Fees!                                   10\n",
       "Cats & dogs negotiable Fee: $250 one-time fee                               9\n",
       "Cats & dogs negotiable Fee: $25/month                                       8\n",
       "Cats & dogs negotiable Fee: $350 (one time)                                 6\n",
       "Cats & dogs negotiable Fee: $0                                              5\n",
       "Cats & dogs negotiable Fee: FREE                                            5\n",
       "Cats & dogs negotiable Fee: $250                                            4\n",
       "Cats & dogs negotiable Fee: $250.00 non-refundable pet fee                  4\n",
       "No pets Fee: N/A                                                            4\n",
       "Cats & dogs negotiable Fee: Monthly pet RENT                                4\n",
       "Cats & dogs negotiable Fee: To be determined                                3\n",
       "Cats & dogs negotiable Fee: Negotiable                                      3\n",
       "Cats & dogs negotiable Fee: TBD                                             2\n",
       "Cats negotiable No dogs Fee: $250 NON-REFUNDABLE                            2\n",
       "Cats & dogs negotiable Fee: $50/pet/month                                   2\n",
       "Cats negotiable No dogs Fee: 250                                            2\n",
       "Cats & dogs negotiable Fee: $25/mo per pet                                  2\n",
       "Cats & dogs negotiable Fee: 300                                             2\n",
       "Cats & dogs negotiable Fee: 300 non refundable                              2\n",
       "Cats negotiable No dogs Fee: 25                                             2\n",
       "Cats negotiable No dogs Fee: None                                           1\n",
       "Cats & dogs negotiable Fee: $350                                            1\n",
       "Cats & dogs negotiable Fee: Fees applied                                    1\n",
       "Cats negotiable No dogs Fee: 500                                            1\n",
       "No pets Fee: No                                                             1\n",
       "Cats negotiable No dogs Fee: $25.00                                         1\n",
       "Cats & dogs negotiable Fee: $30/month + pet deposit                         1\n",
       "Cats negotiable No dogs Fee: $0                                             1\n",
       "Cats negotiable No dogs Fee: Pet Deposit $300                               1\n",
       "No cats Dogs negotiable Fee: 100.00 per month                               1\n",
       "Cats & dogs negotiable Fee: 500.00                                          1\n",
       "Cats negotiable No dogs Fee: $400                                           1\n",
       "Cats negotiable No dogs Fee: $200                                           1\n",
       "Cats & dogs negotiable Fee: None                                            1\n",
       "Cats & dogs negotiable Fee: $250 non-refundable.                            1\n",
       "Cats & dogs negotiable Fee: One Time $300 per pet                           1\n",
       "Cats & dogs negotiable Fee: Small pet friendly, no extra fees               1\n",
       "Cats & dogs negotiable Fee: negotiable                                      1\n",
       "Cats & dogs negotiable Fee: $50 per month                                   1\n",
       "Cats & dogs negotiable Fee: 500                                             1\n",
       "Cats & dogs negotiable Fee: To be discussed.                                1\n",
       "Cats negotiable No dogs Fee: 250.00                                         1\n",
       "Cats & dogs negotiable Fee: $500                                            1\n",
       "Cats & dogs negotiable Fee: monthly pet rent negotiable                     1\n",
       "Cats & dogs negotiable Fee: none                                            1\n",
       "Cats & dogs negotiable Fee: 150                                             1\n",
       "Cats & dogs negotiable Fee: $50 per month per pet                           1\n",
       "No pets Fee: No pet                                                         1\n",
       "Cats & dogs negotiable Fee: To be determined - 1 small pet only             1\n",
       "Dogs negotiable Fee: pet fee: $50/month                                     1\n",
       "No pets Fee: 550                                                            1\n",
       "Cats & dogs negotiable Fee: $350 non-refundable                             1\n",
       "Cats & dogs negotiable Fee: 50                                              1\n",
       "Cats negotiable No dogs Fee: $30/mo or $50/mo for 2 Cats                    1\n",
       "No cats Dogs negotiable Fee: Monthly pet RENT                               1\n",
       "No cats Dogs negotiable Fee: $500                                           1\n",
       "Cats & dogs negotiable Fee: yes if approved - $200                          1\n",
       "Cats & dogs negotiable Fee: $250 (one time non-refundable)                  1\n",
       "No pets Fee: 500                                                            1\n",
       "No cats Dogs negotiable Fee: $25/pet                                        1\n",
       "Cats negotiable No dogs Fee: 0.00                                           1\n",
       "Cats & dogs negotiable Fee: One-time $500 pet fee                           1\n",
       "Cats & dogs negotiable Fee: $100                                            1\n",
       "Cats negotiable No dogs Fee: 50                                             1\n",
       "Cats & dogs negotiable Fee: Negotiable depending on the pet.                1\n",
       "Cats negotiable No dogs Fee: FREE                                           1\n",
       "Cats & dogs negotiable Fee: $                                               1\n",
       "Cats & dogs negotiable Fee: $450 non refundable deposit                     1\n",
       "Cats & dogs negotiable Fee: $25 per pet/month                               1\n",
       "No cats Dogs negotiable Fee: 400                                            1\n",
       "Cats & dogs negotiable Fee: $150                                            1\n",
       "No pets Fee: no pets                                                        1\n",
       "Cats & dogs negotiable Fee: $50 /month per pet                              1\n",
       "Cats & dogs negotiable Fee: Pets under 40 lbs. One-time $500 pet fee.       1\n",
       "Cats & dogs negotiable Fee: min. $350 non-refundable                        1\n",
       "Cats negotiable No dogs Fee: 50$                                            1\n",
       "Cats & dogs negotiable Fee: $250 1-time fee or $25/month                    1\n",
       "No cats Dogs negotiable Fee: pet fee: $50/month                             1\n",
       "Cats negotiable No dogs Fee: $150                                           1\n",
       "No cats Dogs negotiable Fee: 25                                             1\n",
       "Cats negotiable No dogs Fee: Monthly pet RENT                               1\n",
       "Cats & dogs negotiable Fee: $100/ month                                     1\n",
       "Cats & dogs negotiable Fee: no charges                                      1\n",
       "No pets Fee: NOT ALLOWED                                                    1\n",
       "Cats negotiable No dogs Fee: Free                                           1\n",
       "Name: Pets, dtype: int64"
      ]
     },
     "execution_count": 84,
     "metadata": {},
     "output_type": "execute_result"
    }
   ],
   "source": [
    "# checking info in column related to pets\n",
    "df_explode['Pets'].value_counts()"
   ]
  },
  {
   "cell_type": "code",
   "execution_count": 85,
   "metadata": {
    "hidden": true
   },
   "outputs": [],
   "source": [
    "df_explode.Pets = Specific_Row_Value_Change(df_explode, df_explode.Pets, '', 'No')"
   ]
  },
  {
   "cell_type": "code",
   "execution_count": 86,
   "metadata": {
    "hidden": true
   },
   "outputs": [
    {
     "data": {
      "text/plain": [
       "No pets                                                                  1469\n",
       "Cats & dogs negotiable                                                   1451\n",
       "Cats & dogs negotiable Fee: INCLUDED!!                                    361\n",
       "Cats & dogs negotiable Fee: $35 per Month                                 285\n",
       "Cats negotiable No dogs                                                   120\n",
       "Cats & dogs negotiable Fee: 25                                            101\n",
       "Cats & dogs negotiable Fee: $150/cat | $250/dog                            90\n",
       "Cats & dogs negotiable Fee: Monthly Fee from $35                           86\n",
       "Cats & dogs negotiable Fee: $30.00 per month /per pet                      81\n",
       "Cats & dogs allowed                                                        78\n",
       "Cats & dogs negotiable Fee: $300                                           65\n",
       "Cats negotiable No dogs Fee: $25/month fee                                 55\n",
       "Cats & dogs negotiable Fee: $0.00                                          51\n",
       "Cats & dogs negotiable Fee: Negotiable on lease terms.                     49\n",
       "Cats & dogs negotiable Fee: 200                                            47\n",
       "Cats & dogs negotiable Fee: $20 per month                                  30\n",
       "No cats Dogs negotiable                                                    25\n",
       "No pets Fee: NO PETS                                                       20\n",
       "Cats & dogs negotiable Fee: $35 Monthly Fee                                16\n",
       "Cats & dogs negotiable Fee: 30                                             12\n",
       "Cats & dogs negotiable Fee: No Pet Fees!                                   10\n",
       "No                                                                         10\n",
       "Cats & dogs negotiable Fee: $250 one-time fee                               9\n",
       "Cats & dogs negotiable Fee: $25/month                                       8\n",
       "Cats & dogs negotiable Fee: $350 (one time)                                 6\n",
       "Cats & dogs negotiable Fee: FREE                                            5\n",
       "Cats & dogs negotiable Fee: $0                                              5\n",
       "Cats & dogs negotiable Fee: $250.00 non-refundable pet fee                  4\n",
       "Cats & dogs negotiable Fee: $250                                            4\n",
       "Cats & dogs negotiable Fee: Monthly pet RENT                                4\n",
       "No pets Fee: N/A                                                            4\n",
       "Cats & dogs negotiable Fee: To be determined                                3\n",
       "Cats & dogs negotiable Fee: Negotiable                                      3\n",
       "Cats negotiable No dogs Fee: $250 NON-REFUNDABLE                            2\n",
       "Cats & dogs negotiable Fee: $50/pet/month                                   2\n",
       "Cats & dogs negotiable Fee: TBD                                             2\n",
       "Cats negotiable No dogs Fee: 250                                            2\n",
       "Cats & dogs negotiable Fee: $25/mo per pet                                  2\n",
       "Cats & dogs negotiable Fee: 300                                             2\n",
       "Cats & dogs negotiable Fee: 300 non refundable                              2\n",
       "Cats negotiable No dogs Fee: 25                                             2\n",
       "Cats & dogs negotiable Fee: $250 non-refundable.                            1\n",
       "Cats & dogs negotiable Fee: $30/month + pet deposit                         1\n",
       "Cats & dogs negotiable Fee: 500.00                                          1\n",
       "No cats Dogs negotiable Fee: 100.00 per month                               1\n",
       "Cats negotiable No dogs Fee: Pet Deposit $300                               1\n",
       "Cats negotiable No dogs Fee: $0                                             1\n",
       "Cats & dogs negotiable Fee: $350                                            1\n",
       "Cats negotiable No dogs Fee: 500                                            1\n",
       "Cats negotiable No dogs Fee: $200                                           1\n",
       "Cats negotiable No dogs Fee: None                                           1\n",
       "Cats & dogs negotiable Fee: Fees applied                                    1\n",
       "No pets Fee: No                                                             1\n",
       "No pets Fee: 550                                                            1\n",
       "Cats negotiable No dogs Fee: $400                                           1\n",
       "Cats negotiable No dogs Fee: $25.00                                         1\n",
       "Cats & dogs negotiable Fee: None                                            1\n",
       "Cats & dogs negotiable Fee: 50                                              1\n",
       "Cats & dogs negotiable Fee: Small pet friendly, no extra fees               1\n",
       "Cats & dogs negotiable Fee: negotiable                                      1\n",
       "Cats & dogs negotiable Fee: $50 per month                                   1\n",
       "Cats & dogs negotiable Fee: 500                                             1\n",
       "Cats & dogs negotiable Fee: To be discussed.                                1\n",
       "Cats negotiable No dogs Fee: 250.00                                         1\n",
       "Cats & dogs negotiable Fee: $500                                            1\n",
       "Cats & dogs negotiable Fee: monthly pet rent negotiable                     1\n",
       "Cats & dogs negotiable Fee: none                                            1\n",
       "Cats & dogs negotiable Fee: 150                                             1\n",
       "Cats & dogs negotiable Fee: $50 per month per pet                           1\n",
       "No pets Fee: No pet                                                         1\n",
       "Cats & dogs negotiable Fee: To be determined - 1 small pet only             1\n",
       "Cats & dogs negotiable Fee: One Time $300 per pet                           1\n",
       "No pets Fee: NOT ALLOWED                                                    1\n",
       "Cats & dogs negotiable Fee: $350 non-refundable                             1\n",
       "Cats negotiable No dogs Fee: $30/mo or $50/mo for 2 Cats                    1\n",
       "No cats Dogs negotiable Fee: Monthly pet RENT                               1\n",
       "No cats Dogs negotiable Fee: $500                                           1\n",
       "Cats & dogs negotiable Fee: $250 (one time non-refundable)                  1\n",
       "Cats & dogs negotiable Fee: yes if approved - $200                          1\n",
       "Cats negotiable No dogs Fee: FREE                                           1\n",
       "No pets Fee: 500                                                            1\n",
       "No cats Dogs negotiable Fee: $25/pet                                        1\n",
       "Cats negotiable No dogs Fee: 0.00                                           1\n",
       "Cats & dogs negotiable Fee: One-time $500 pet fee                           1\n",
       "Cats & dogs negotiable Fee: $100                                            1\n",
       "Cats negotiable No dogs Fee: 50                                             1\n",
       "Cats & dogs negotiable Fee: Negotiable depending on the pet.                1\n",
       "Cats & dogs negotiable Fee: $450 non refundable deposit                     1\n",
       "Cats & dogs negotiable Fee: $                                               1\n",
       "Cats negotiable No dogs Fee: Free                                           1\n",
       "No cats Dogs negotiable Fee: 400                                            1\n",
       "Cats & dogs negotiable Fee: $25 per pet/month                               1\n",
       "Cats & dogs negotiable Fee: $150                                            1\n",
       "No pets Fee: no pets                                                        1\n",
       "Cats & dogs negotiable Fee: $50 /month per pet                              1\n",
       "Cats & dogs negotiable Fee: Pets under 40 lbs. One-time $500 pet fee.       1\n",
       "Cats & dogs negotiable Fee: min. $350 non-refundable                        1\n",
       "Cats negotiable No dogs Fee: 50$                                            1\n",
       "Cats & dogs negotiable Fee: $250 1-time fee or $25/month                    1\n",
       "No cats Dogs negotiable Fee: pet fee: $50/month                             1\n",
       "Cats negotiable No dogs Fee: $150                                           1\n",
       "No cats Dogs negotiable Fee: 25                                             1\n",
       "Cats negotiable No dogs Fee: Monthly pet RENT                               1\n",
       "Cats & dogs negotiable Fee: $100/ month                                     1\n",
       "Cats & dogs negotiable Fee: no charges                                      1\n",
       "Dogs negotiable Fee: pet fee: $50/month                                     1\n",
       "Name: Pets, dtype: int64"
      ]
     },
     "execution_count": 86,
     "metadata": {},
     "output_type": "execute_result"
    }
   ],
   "source": [
    "df_explode['Pets'].value_counts()"
   ]
  },
  {
   "cell_type": "markdown",
   "metadata": {
    "hidden": true
   },
   "source": [
    "Doing a very simplistic cleaning here. If the listing mentions No anywhere then assigned 0 (since I want to keep both cats and dogs or none). For all others, 1 assigned. Monetary information included in some of the listings above is not included in analysis to simplify process."
   ]
  },
  {
   "cell_type": "code",
   "execution_count": 87,
   "metadata": {
    "hidden": true
   },
   "outputs": [],
   "source": [
    "# any entry with No in field given 0, rest all given 1 \n",
    "df_explode['Pets'][~df_explode['Pets'].str.contains('No')] = '1'\n",
    "df_explode['Pets'][df_explode['Pets'].str.contains('No')] = '0'"
   ]
  },
  {
   "cell_type": "code",
   "execution_count": 88,
   "metadata": {
    "code_folding": [],
    "hidden": true
   },
   "outputs": [
    {
     "data": {
      "text/plain": [
       "1    2899\n",
       "0    1749\n",
       "Name: Pets, dtype: int64"
      ]
     },
     "execution_count": 88,
     "metadata": {},
     "output_type": "execute_result"
    }
   ],
   "source": [
    "# pets column cleaned up\n",
    "df_explode['Pets'].value_counts()"
   ]
  },
  {
   "cell_type": "markdown",
   "metadata": {
    "hidden": true
   },
   "source": [
    "1 signifies listings that allow pets and 0 signifies pets not allowed."
   ]
  },
  {
   "cell_type": "markdown",
   "metadata": {
    "heading_collapsed": true,
    "hidden": true
   },
   "source": [
    "### Cleaning Tenant_Parking Column"
   ]
  },
  {
   "cell_type": "code",
   "execution_count": 89,
   "metadata": {
    "hidden": true
   },
   "outputs": [
    {
     "data": {
      "text/plain": [
       "Underground Fee: 1 STALL INCLUDED!!                                                          761\n",
       "Outdoor                                                                                      578\n",
       "Underground                                                                                  555\n",
       "Street                                                                                       426\n",
       "Covered                                                                                      233\n",
       "Underground Street Fee: 1 STALL INCLUDED!!                                                   225\n",
       "Underground Fee: $100                                                                        121\n",
       "Outdoor Outdoor                                                                              115\n",
       "Single garage Fee: 50/85/125                                                                 100\n",
       "Underground Fee: $150/month                                                                   90\n",
       "Underground Outdoor                                                                           68\n",
       "Covered Outdoor                                                                               66\n",
       "Underground Outdoor Covered Fee: Varies On Type                                               64\n",
       "Underground Street Fee: 100                                                                   60\n",
       "Outdoor Outdoor Outdoor                                                                       57\n",
       "Underground Street Fee: $75.00 per underground parking stall                                  55\n",
       "Underground Fee: $115.00                                                                      55\n",
       "Double garage                                                                                 50\n",
       "Underground Fee: Additional                                                                   50\n",
       "Underground Fee: $150 or Negotiable on lease terms                                            49\n",
       "Underground Street Fee: 150                                                                   48\n",
       "Underground Fee: 200                                                                          41\n",
       "Covered Outdoor Covered                                                                       39\n",
       "Single garage                                                                                 38\n",
       "Underground Outdoor Single garage Underground                                                 35\n",
       "Underground Underground                                                                       33\n",
       "Underground Street Outdoor Single garage Covered Fee: $100 per month                          30\n",
       "Underground Street                                                                            30\n",
       "Covered Covered                                                                               29\n",
       "Underground Fee: 150                                                                          29\n",
       "Underground Fee: $75.00                                                                       25\n",
       "Underground Outdoor Covered Outdoor Covered                                                   25\n",
       "Outdoor Covered                                                                               22\n",
       "Underground Outdoor Street Fee: 35-80                                                         22\n",
       "Outdoor Street                                                                                21\n",
       "Covered Underground                                                                           20\n",
       "Underground Fee: Monthly Fee from $75                                                         20\n",
       "Covered Underground Fee: 50                                                                   18\n",
       "Covered Underground Outdoor                                                                   16\n",
       "Covered Underground Street Outdoor Fee: 75                                                    13\n",
       "Outdoor Fee: 50.00                                                                            13\n",
       "Outdoor Underground Fee: $85/month                                                            12\n",
       "Underground Outdoor Covered Street Fee: 100                                                   12\n",
       "Underground Outdoor Covered                                                                   12\n",
       "Underground Street Fee: $150 per month                                                        10\n",
       "Covered Outdoor Outdoor                                                                        9\n",
       "Covered Underground Outdoor Outdoor Covered                                                    9\n",
       "Outdoor Underground                                                                            9\n",
       "Covered Outdoor Outdoor Underground                                                            9\n",
       "Covered Outdoor Outdoor Covered                                                                9\n",
       "Street Outdoor                                                                                 9\n",
       "Covered Outdoor Outdoor Outdoor                                                                8\n",
       "Outdoor Outdoor Covered                                                                        8\n",
       "Outdoor Street Fee: Included                                                                   8\n",
       "Triple garage                                                                                  7\n",
       "Underground Fee: Included                                                                      6\n",
       "Underground Street Fee: 50                                                                     6\n",
       "Underground Outdoor Fee: $35-$65 per month                                                     6\n",
       "Underground Covered Fee: 125.00                                                                6\n",
       "Covered Underground Street                                                                     6\n",
       "Outdoor Fee: $25                                                                               5\n",
       "Underground Outdoor Outdoor Underground                                                        4\n",
       "Underground Outdoor Outdoor Outdoor Covered                                                    4\n",
       "Outdoor Underground Fee: $89/Month                                                             4\n",
       "Outdoor Covered Outdoor Outdoor Outdoor                                                        4\n",
       "Outdoor Fee: FREE                                                                              4\n",
       "Underground Covered                                                                            4\n",
       "Underground Covered Outdoor Covered                                                            4\n",
       "Underground Fee: $89/month                                                                     4\n",
       "Covered Outdoor Outdoor Covered Outdoor                                                        4\n",
       "Outdoor Outdoor Underground                                                                    4\n",
       "Underground Fee: $25                                                                           3\n",
       "Double garage Fee: GARAGE WILL BE BUILT IN SPRING                                              3\n",
       "Underground Fee: Aprox. $175                                                                   3\n",
       "Single garage Fee: $100                                                                        3\n",
       "Underground Fee: Free                                                                          2\n",
       "Underground Fee: INCLUDED                                                                      2\n",
       "Outdoor Fee: None                                                                              2\n",
       "Outdoor Fee: No                                                                                2\n",
       "Underground Fee: NONE                                                                          2\n",
       "Underground Fee: Parking included                                                              2\n",
       "Outdoor Fee: N/A                                                                               2\n",
       "Street Fee: GARAGE WILL BE BUILT IN SPRING                                                     2\n",
       "Outdoor Street Fee: None                                                                       2\n",
       "Outdoor Fee: Free                                                                              2\n",
       "Single garage Fee: Free!                                                                       2\n",
       "Underground Fee: included                                                                      2\n",
       "Covered Outdoor Street Fee: 50.00                                                              2\n",
       "Street Fee: Free                                                                               1\n",
       "Single garage Fee: Free                                                                        1\n",
       "Double garage Fee: Asking for availability                                                     1\n",
       "Outdoor Fee: Extra                                                                             1\n",
       "Single garage Fee: Included                                                                    1\n",
       "Underground Fee: 220                                                                           1\n",
       "Underground Fee: None 1 space included                                                         1\n",
       "Covered Fee: 0$                                                                                1\n",
       "Single garage Fee: Negotiable                                                                  1\n",
       "Single garage Fee: none                                                                        1\n",
       "Outdoor Fee: No Charge                                                                         1\n",
       "Underground Fee: Heated & secured parking Included in rent                                     1\n",
       "Underground Fee: Included the rent                                                             1\n",
       "Outdoor Fee: Negotiable                                                                        1\n",
       "Outdoor Fee: 1 Assigned Parking Included                                                       1\n",
       "Single garage Fee: Additional Parking Spot $100                                                1\n",
       "Underground Fee: zero                                                                          1\n",
       "Underground Fee: No Fee                                                                        1\n",
       "Outdoor Fee: $75                                                                               1\n",
       "Street Fee: 150                                                                                1\n",
       "Underground Fee: $0                                                                            1\n",
       "Underground Fee: $0 parking fee                                                                1\n",
       "Outdoor Fee: Free designated parking spot                                                      1\n",
       "Outdoor Fee: Not parking Fee                                                                   1\n",
       "Outdoor Fee: NEGOTIABLE                                                                        1\n",
       "Underground Fee: 2 underground stalls!                                                         1\n",
       "Outdoor Fee: $50                                                                               1\n",
       "Street Fee: None                                                                               1\n",
       "Street Fee: 0.00                                                                               1\n",
       "Street Fee: 75                                                                                 1\n",
       "Underground Fee: free                                                                          1\n",
       "Outdoor Fee: Free parking lot & guest parking                                                  1\n",
       "Covered Fee: None                                                                              1\n",
       "Outdoor Fee: 75                                                                                1\n",
       "Covered Fee: $100                                                                              1\n",
       "Outdoor Fee: $26                                                                               1\n",
       "Outdoor Fee: Included with rent                                                                1\n",
       "Underground Fee: included in rent                                                              1\n",
       "Double garage Fee: additional $100 for half garage (full garage may be available for 200)      1\n",
       "Outdoor Fee: nil                                                                               1\n",
       "Outdoor Fee: $65                                                                               1\n",
       "Street Fee: Yes                                                                                1\n",
       "Double garage Fee: $0                                                                          1\n",
       "Double garage Fee: + FREE STREET & REAR PARKING                                                1\n",
       "Street Fee: no                                                                                 1\n",
       "Outdoor Fee: $0.00                                                                             1\n",
       "Outdoor Covered Street                                                                         1\n",
       "Outdoor Fee: includes reserved spot                                                            1\n",
       "Covered Fee: 75                                                                                1\n",
       "Underground Fee: WAITLIST - $25                                                                1\n",
       "Outdoor Fee: included in the rent                                                              1\n",
       "Double garage Fee: + Residential street parking permit for 2 more cars                         1\n",
       "Street Fee: 50                                                                                 1\n",
       "Underground Fee: FREE (INCLUDED IN THE RENT)                                                   1\n",
       "Street Fee: $45                                                                                1\n",
       "Outdoor Fee: $0                                                                                1\n",
       "Underground Fee: 175                                                                           1\n",
       "Outdoor Fee: $50.00                                                                            1\n",
       "                                                                                               1\n",
       "Name: Tenant_Parking, dtype: int64"
      ]
     },
     "execution_count": 89,
     "metadata": {},
     "output_type": "execute_result"
    }
   ],
   "source": [
    "# getting overview of different kind of entries mentioned in Tenant_Parking column\n",
    "df_explode['Tenant_Parking'].value_counts()"
   ]
  },
  {
   "cell_type": "markdown",
   "metadata": {
    "hidden": true
   },
   "source": [
    "Displaying most mentioned words in the value_counts() for tenant parking in cell below."
   ]
  },
  {
   "cell_type": "code",
   "execution_count": 90,
   "metadata": {
    "hidden": true
   },
   "outputs": [
    {
     "data": {
      "text/plain": [
       "[('Fee:', 107),\n",
       " ('Outdoor', 85),\n",
       " ('Underground', 70),\n",
       " ('Covered', 40),\n",
       " ('Street', 29),\n",
       " ('garage', 21),\n",
       " ('Single', 11),\n",
       " ('parking', 8),\n",
       " ('Double', 7),\n",
       " ('Included', 7),\n",
       " ('$100', 6),\n",
       " ('Free', 6),\n",
       " ('None', 5),\n",
       " ('included', 5),\n",
       " ('rent', 5),\n",
       " ('$0', 4),\n",
       " ('1', 4),\n",
       " ('75', 4),\n",
       " ('for', 4),\n",
       " ('per', 4),\n",
       " ('$25', 3),\n",
       " ('&', 3),\n",
       " ('150', 3),\n",
       " ('50', 3),\n",
       " ('FREE', 3),\n",
       " ('Fee', 3),\n",
       " ('IN', 3),\n",
       " ('Negotiable', 3),\n",
       " ('No', 3),\n",
       " ('Parking', 3),\n",
       " ('in', 3),\n",
       " ('month', 3),\n",
       " ('$150', 2),\n",
       " ('$75', 2),\n",
       " ('$75.00', 2),\n",
       " ('+', 2),\n",
       " ('100', 2),\n",
       " ('2', 2),\n",
       " ('50.00', 2),\n",
       " ('Additional', 2),\n",
       " ('BE', 2),\n",
       " ('BUILT', 2),\n",
       " ('GARAGE', 2),\n",
       " ('INCLUDED!!', 2),\n",
       " ('SPRING', 2),\n",
       " ('STALL', 2),\n",
       " ('WILL', 2),\n",
       " ('spot', 2),\n",
       " ('the', 2),\n",
       " ('underground', 2),\n",
       " ('', 1),\n",
       " ('$0.00', 1),\n",
       " ('$115.00', 1),\n",
       " ('$150/month', 1),\n",
       " ('$175', 1),\n",
       " ('$26', 1),\n",
       " ('$35-$65', 1),\n",
       " ('$45', 1),\n",
       " ('$50', 1),\n",
       " ('$50.00', 1),\n",
       " ('$65', 1),\n",
       " ('$85/month', 1),\n",
       " ('$89/Month', 1),\n",
       " ('$89/month', 1),\n",
       " ('(INCLUDED', 1),\n",
       " ('(full', 1),\n",
       " ('-', 1),\n",
       " ('0$', 1),\n",
       " ('0.00', 1),\n",
       " ('125.00', 1),\n",
       " ('175', 1),\n",
       " ('200', 1),\n",
       " ('200)', 1),\n",
       " ('220', 1),\n",
       " ('35-80', 1),\n",
       " ('50/85/125', 1),\n",
       " ('Aprox.', 1),\n",
       " ('Asking', 1),\n",
       " ('Assigned', 1),\n",
       " ('Charge', 1),\n",
       " ('Extra', 1),\n",
       " ('Free!', 1),\n",
       " ('Heated', 1),\n",
       " ('INCLUDED', 1),\n",
       " ('Monthly', 1),\n",
       " ('N/A', 1),\n",
       " ('NEGOTIABLE', 1),\n",
       " ('NONE', 1),\n",
       " ('Not', 1),\n",
       " ('On', 1),\n",
       " ('PARKING', 1),\n",
       " ('REAR', 1),\n",
       " ('RENT)', 1),\n",
       " ('Residential', 1),\n",
       " ('STREET', 1),\n",
       " ('Spot', 1),\n",
       " ('THE', 1),\n",
       " ('Triple', 1),\n",
       " ('Type', 1),\n",
       " ('Varies', 1),\n",
       " ('WAITLIST', 1),\n",
       " ('Yes', 1),\n",
       " ('additional', 1),\n",
       " ('availability', 1),\n",
       " ('available', 1),\n",
       " ('be', 1),\n",
       " ('cars', 1),\n",
       " ('designated', 1),\n",
       " ('fee', 1),\n",
       " ('free', 1),\n",
       " ('from', 1),\n",
       " ('guest', 1),\n",
       " ('half', 1),\n",
       " ('includes', 1),\n",
       " ('lease', 1),\n",
       " ('lot', 1),\n",
       " ('may', 1),\n",
       " ('more', 1),\n",
       " ('nil', 1),\n",
       " ('no', 1),\n",
       " ('none', 1),\n",
       " ('on', 1),\n",
       " ('or', 1),\n",
       " ('permit', 1),\n",
       " ('reserved', 1),\n",
       " ('secured', 1),\n",
       " ('space', 1),\n",
       " ('stall', 1),\n",
       " ('stalls!', 1),\n",
       " ('street', 1),\n",
       " ('terms', 1),\n",
       " ('with', 1),\n",
       " ('zero', 1)]"
      ]
     },
     "execution_count": 90,
     "metadata": {},
     "output_type": "execute_result"
    }
   ],
   "source": [
    "# displaying most mentioned words in value_counts() with their frequency\n",
    "Display_Split_ValueCountsIndex_Frequency(df_explode['Tenant_Parking'])"
   ]
  },
  {
   "cell_type": "markdown",
   "metadata": {
    "hidden": true
   },
   "source": [
    "This function changes value in a binary format at rows which match any element in a list."
   ]
  },
  {
   "cell_type": "code",
   "execution_count": 91,
   "metadata": {
    "code_folding": [
     0
    ],
    "hidden": true
   },
   "outputs": [],
   "source": [
    "def Specific_Row_Value_Change_Substring( Column, List_Substring, To_Be_Value):\n",
    "    \n",
    "    \"\"\"\n",
    "    This function changes value of every element in the column.\n",
    "    The entries where a word from List_Substring is found, To_Be_Value is assigned there.\n",
    "    At all other positions, 0 is assigned.  \n",
    "    \"\"\"\n",
    "    \n",
    "    for Substring in List_Substring:\n",
    "        for i in range(0, len(Column)):\n",
    "# checking if substring is present             \n",
    "            if (Column.str.contains(Substring).to_list()[i] == True):\n",
    "                Column[i] = To_Be_Value\n",
    "# assigned 0 to entries which do not contain any word in List_Substring                \n",
    "    for i in range(0, len(Column)):\n",
    "            if (Column[i] != To_Be_Value):\n",
    "                Column[i] = 0\n",
    "\n",
    "    return Column"
   ]
  },
  {
   "cell_type": "markdown",
   "metadata": {
    "hidden": true
   },
   "source": [
    "Checking if the parking mentions any favourable feature (i.e. protected parking in form of underground, garage or covered). If yes, then assigned 1 else 0."
   ]
  },
  {
   "cell_type": "code",
   "execution_count": 92,
   "metadata": {
    "hidden": true
   },
   "outputs": [
    {
     "data": {
      "text/plain": [
       "1    3372\n",
       "0    1276\n",
       "Name: Tenant_Parking, dtype: int64"
      ]
     },
     "execution_count": 92,
     "metadata": {},
     "output_type": "execute_result"
    }
   ],
   "source": [
    "# checking if the listing has any desireable characteristics regarding parking options\n",
    "list_full = ['Underground', 'Covered', 'garage', 'GARAGE', 'underground']\n",
    "# giving 0/1 rating to every listing\n",
    "df_explode['Tenant_Parking'] = Specific_Row_Value_Change_Substring( df_explode['Tenant_Parking'], list_full, 1)\n",
    "\n",
    "df_explode['Tenant_Parking'].value_counts()\n",
    "# XXXX explain rationale what we are doing here"
   ]
  },
  {
   "cell_type": "markdown",
   "metadata": {
    "heading_collapsed": true,
    "hidden": true
   },
   "source": [
    "## Cleaning Data in FeaturesTable_info "
   ]
  },
  {
   "cell_type": "markdown",
   "metadata": {
    "hidden": true
   },
   "source": [
    "Information from flex info table was cleaned in the previous section. All the data from features table was obtained one by one in the given section. I defined the function *Specific_Row_Value_Change_Substring_Advanced* to score building, property and community features. If the listing had a match for ordinary feature (in *List_Substring_Give1*) then +1 was awarded, if the listing had a match for better feature (in *List_Substring_Give2*) then +2 was awarded and if the listing had a match for best feature (in *List_Substring_Give3*) then +3 was awarded. "
   ]
  },
  {
   "cell_type": "code",
   "execution_count": 93,
   "metadata": {
    "code_folding": [
     0,
     9
    ],
    "hidden": true
   },
   "outputs": [],
   "source": [
    "def Specific_Row_Value_Change_Substring_Advanced( Column, List_Substring_Give1, List_Substring_Give2, List_Substring_Give3):\n",
    "    \n",
    "    \"\"\"\n",
    "    This function assigns score to every listing.\n",
    "    The listing having more of the desireable charactersistics \n",
    "    ares rewarded more. \n",
    "    \n",
    "    \"\"\"\n",
    "\n",
    "    def HelperFunction(Column, List_Substring, Points):\n",
    "        \n",
    "        temp_1 = {Substring:[] for Substring in List_Substring}\n",
    "        for Substring in List_Substring:\n",
    "            temp_2 = []\n",
    "            for i in range(0, len(Column)):\n",
    "                if (Column.str.contains(Substring).to_list()[i] == True):\n",
    "                    temp_2.append(Points)\n",
    "                else:   \n",
    "                    temp_2.append(0)\n",
    "            temp_1[Substring] = temp_2        \n",
    "        counter = np.zeros(len(Column))\n",
    "        for Substring in List_Substring:\n",
    "            counter = counter + np.array(temp_1[Substring])\n",
    "\n",
    "        return counter\n",
    "        \n",
    "    counter_main = np.zeros(len(Column))\n",
    "    counter_1 = HelperFunction(Column, List_Substring_Give1, 1) \n",
    "    counter_2 = HelperFunction(Column, List_Substring_Give2, 2)\n",
    "    counter_3 = HelperFunction(Column, List_Substring_Give3, 3)\n",
    "    counter_main = counter_1 + counter_2 + counter_3    \n",
    "        \n",
    "    return pd.Series(counter_main)"
   ]
  },
  {
   "cell_type": "markdown",
   "metadata": {
    "heading_collapsed": true,
    "hidden": true
   },
   "source": [
    "### Cleaning Building_features Column"
   ]
  },
  {
   "cell_type": "code",
   "execution_count": 94,
   "metadata": {
    "hidden": true
   },
   "outputs": [],
   "source": [
    "# df_explode['Building_features'].value_counts()"
   ]
  },
  {
   "cell_type": "markdown",
   "metadata": {
    "hidden": true
   },
   "source": [
    "Checking for most mentioned words in value_counts()"
   ]
  },
  {
   "cell_type": "code",
   "execution_count": 95,
   "metadata": {
    "hidden": true,
    "scrolled": true
   },
   "outputs": [
    {
     "data": {
      "text/plain": [
       "[('', 288),\n",
       " ('Entry', 229),\n",
       " ('Secure', 229),\n",
       " ('Elevator', 201),\n",
       " ('Guest', 170),\n",
       " ('Management', 157),\n",
       " ('On-Site', 157),\n",
       " ('Parking', 141),\n",
       " ('Area', 132),\n",
       " ('Fitness', 132),\n",
       " ('Bike', 129),\n",
       " ('room', 129),\n",
       " ('Building', 128),\n",
       " ('Concrete', 128),\n",
       " ('Room', 111),\n",
       " ('Courtyard', 94),\n",
       " ('Party/Games', 92),\n",
       " ('Common', 72),\n",
       " ('Terrace', 72),\n",
       " ('Walk-Up', 67),\n",
       " ('Concierge', 51),\n",
       " ('Suite', 29),\n",
       " ('Sauna', 27),\n",
       " ('Pool', 26),\n",
       " ('Swimming', 26),\n",
       " ('Hot-Tub', 21),\n",
       " ('Steam', 19),\n",
       " ('Theatre', 14),\n",
       " ('views', 2),\n",
       " ('Access', 1),\n",
       " ('Array', 1),\n",
       " ('City', 1),\n",
       " ('Mountain', 1),\n",
       " ('Wheelchair', 1)]"
      ]
     },
     "execution_count": 95,
     "metadata": {},
     "output_type": "execute_result"
    }
   ],
   "source": [
    "# displaying most mentioned words in value_counts() with their frequency\n",
    "Display_Split_ValueCountsIndex_Frequency(df_explode['Building_features'])"
   ]
  },
  {
   "cell_type": "markdown",
   "metadata": {
    "hidden": true
   },
   "source": [
    "Scoring every listing on the basis of how many desireable characteristics it has."
   ]
  },
  {
   "cell_type": "code",
   "execution_count": 96,
   "metadata": {
    "hidden": true
   },
   "outputs": [],
   "source": [
    "# checking the listing for how many desireable characteristics regarding building features it has\n",
    "\n",
    "list_building_features_point1 = ['Secure', 'Elevator']\n",
    "list_building_features_point2 = ['On-Site', 'Fitness', 'Party/Games', 'Terrace']\n",
    "list_building_features_point3 = ['Concierge', 'Sauna', 'Swimming', 'Hot-Tub', 'Theatre', 'Steam']\n",
    "\n",
    "\n",
    "\n",
    "# giving a score as per the no of matches, +1/+2/+3 depending on type of match\n",
    "df_explode['Building_features'] = Specific_Row_Value_Change_Substring_Advanced(\n",
    "    df_explode['Building_features'], list_building_features_point1, list_building_features_point2, list_building_features_point3)"
   ]
  },
  {
   "cell_type": "code",
   "execution_count": 97,
   "metadata": {
    "hidden": true,
    "scrolled": true
   },
   "outputs": [
    {
     "data": {
      "text/plain": [
       "8.0     1072\n",
       "0.0      967\n",
       "2.0      841\n",
       "5.0      377\n",
       "9.0      238\n",
       "13.0     200\n",
       "3.0      184\n",
       "6.0      177\n",
       "4.0      164\n",
       "1.0      161\n",
       "10.0      94\n",
       "16.0      49\n",
       "18.0      36\n",
       "7.0       22\n",
       "22.0      21\n",
       "11.0      15\n",
       "19.0      11\n",
       "14.0       5\n",
       "12.0       4\n",
       "25.0       3\n",
       "15.0       2\n",
       "17.0       2\n",
       "20.0       1\n",
       "28.0       1\n",
       "21.0       1\n",
       "Name: Building_features, dtype: int64"
      ]
     },
     "execution_count": 97,
     "metadata": {},
     "output_type": "execute_result"
    }
   ],
   "source": [
    "df_explode['Building_features'].value_counts()\n",
    "# many of the building features look empty but that is coz many are not apartment, so no building features for them\n"
   ]
  },
  {
   "cell_type": "markdown",
   "metadata": {
    "hidden": true
   },
   "source": [
    "Building features score looks clean."
   ]
  },
  {
   "cell_type": "markdown",
   "metadata": {
    "heading_collapsed": true,
    "hidden": true
   },
   "source": [
    "### Cleaning Community_features Column"
   ]
  },
  {
   "cell_type": "code",
   "execution_count": 98,
   "metadata": {
    "hidden": true,
    "scrolled": false
   },
   "outputs": [],
   "source": [
    "# df_explode['Community_features'].value_counts()"
   ]
  },
  {
   "cell_type": "markdown",
   "metadata": {
    "hidden": true
   },
   "source": [
    "Checking for most mentioned words in value_counts()"
   ]
  },
  {
   "cell_type": "code",
   "execution_count": 99,
   "metadata": {
    "hidden": true
   },
   "outputs": [
    {
     "data": {
      "text/plain": [
       "[('', 91),\n",
       " ('Bus', 90),\n",
       " ('Center', 89),\n",
       " ('Playground/Park', 89),\n",
       " ('Shopping', 89),\n",
       " ('Bike', 87),\n",
       " ('Paths', 87),\n",
       " ('Complex', 66),\n",
       " ('Sports', 66),\n",
       " ('Pool', 63),\n",
       " ('Courts', 57),\n",
       " ('Tennis', 57),\n",
       " ('Library', 50),\n",
       " ('Public', 50),\n",
       " ('Access', 48),\n",
       " ('Train', 48),\n",
       " ('Course', 47),\n",
       " ('Golf', 47),\n",
       " ('River', 36),\n",
       " ('Lake', 26),\n",
       " ('Outdoor', 20)]"
      ]
     },
     "execution_count": 99,
     "metadata": {},
     "output_type": "execute_result"
    }
   ],
   "source": [
    "# displaying most mentioned words in value_counts() with their frequency\n",
    "Display_Split_ValueCountsIndex_Frequency(df_explode['Community_features'])"
   ]
  },
  {
   "cell_type": "markdown",
   "metadata": {
    "hidden": true
   },
   "source": [
    "Scoring every listing on the basis of how many desireable characteristics it has.  "
   ]
  },
  {
   "cell_type": "code",
   "execution_count": 100,
   "metadata": {
    "hidden": true
   },
   "outputs": [],
   "source": [
    "list_community_features_point1 = ['Bus', 'Shopping', 'Bike']\n",
    "list_community_features_point2 = ['Sports', 'Pool', 'Tennis', 'Library', 'Train', 'Playground/Park']\n",
    "list_community_features_point3 = ['Golf', 'River', 'Lake' ]\n",
    "\n",
    "\n",
    "\n",
    "# giving a score as per the no of matches, +1/+2/+3 depending on type of match\n",
    "df_explode['Community_features'] = Specific_Row_Value_Change_Substring_Advanced(\n",
    "    df_explode['Community_features'], list_community_features_point1, list_community_features_point2, list_community_features_point3)"
   ]
  },
  {
   "cell_type": "code",
   "execution_count": 101,
   "metadata": {
    "hidden": true
   },
   "outputs": [
    {
     "data": {
      "text/plain": [
       "18.0    1776\n",
       "9.0     1139\n",
       "21.0     509\n",
       "14.0     272\n",
       "16.0     159\n",
       "19.0     156\n",
       "24.0     119\n",
       "15.0      98\n",
       "11.0      82\n",
       "12.0      65\n",
       "13.0      58\n",
       "0.0       42\n",
       "8.0       40\n",
       "7.0       35\n",
       "3.0       27\n",
       "5.0       24\n",
       "17.0      20\n",
       "22.0      19\n",
       "10.0       5\n",
       "6.0        1\n",
       "4.0        1\n",
       "20.0       1\n",
       "Name: Community_features, dtype: int64"
      ]
     },
     "execution_count": 101,
     "metadata": {},
     "output_type": "execute_result"
    }
   ],
   "source": [
    "# community features look clean\n",
    "df_explode['Community_features'].value_counts()"
   ]
  },
  {
   "cell_type": "markdown",
   "metadata": {
    "hidden": true
   },
   "source": [
    "All listings seem to be assigned community features score correctly."
   ]
  },
  {
   "cell_type": "markdown",
   "metadata": {
    "heading_collapsed": true,
    "hidden": true
   },
   "source": [
    "### Cleaning Property_features Column"
   ]
  },
  {
   "cell_type": "code",
   "execution_count": 102,
   "metadata": {
    "hidden": true,
    "scrolled": false
   },
   "outputs": [],
   "source": [
    "# df_explode['Property_features'].value_counts()"
   ]
  },
  {
   "cell_type": "markdown",
   "metadata": {
    "hidden": true
   },
   "source": [
    "Displaying the most frequent words in value_counts()"
   ]
  },
  {
   "cell_type": "code",
   "execution_count": 103,
   "metadata": {
    "hidden": true
   },
   "outputs": [
    {
     "data": {
      "text/plain": [
       "[('Floors', 1008),\n",
       " ('Laundry', 984),\n",
       " ('', 978),\n",
       " ('-', 968),\n",
       " ('Fridge', 938),\n",
       " ('Oven/Stove', 896),\n",
       " ('Dishwasher', 657),\n",
       " ('In', 639),\n",
       " ('Suite', 639),\n",
       " ('Microwave', 563),\n",
       " ('Coverings', 558),\n",
       " ('Window', 558),\n",
       " ('Flooring', 545),\n",
       " ('Balcony', 510),\n",
       " ('Storage', 389),\n",
       " ('Carpeted', 380),\n",
       " ('Laminate', 365),\n",
       " ('Tile', 358),\n",
       " ('Patio/Deck', 287),\n",
       " ('Elevator', 276),\n",
       " ('Hardwood', 263),\n",
       " ('views', 245),\n",
       " ('Entry', 235),\n",
       " ('Private', 235),\n",
       " ('Shared', 229),\n",
       " ('Backyard', 207),\n",
       " ('Fenced', 207),\n",
       " ('In-suite', 199),\n",
       " ('Fireplace', 196),\n",
       " ('Lockers', 190),\n",
       " ('Air', 187),\n",
       " ('Conditioning', 187),\n",
       " ('City', 186),\n",
       " ('Access', 167),\n",
       " ('Internet', 151),\n",
       " ('Disposal', 107),\n",
       " ('Coin/Card', 99),\n",
       " ('Linoleum', 97),\n",
       " ('Luxury', 90),\n",
       " ('Plank', 90),\n",
       " ('Vinyl', 90),\n",
       " ('Alarm', 87),\n",
       " ('Basement', 59),\n",
       " ('Mountain', 59),\n",
       " ('Walk-Out', 59),\n",
       " ('Unit', 50),\n",
       " ('Central', 45),\n",
       " ('Vac', 45),\n",
       " ('Entrance', 44),\n",
       " ('Zero-Step', 44),\n",
       " ('Fire-Pit', 43),\n",
       " ('Corner', 40),\n",
       " ('River', 37),\n",
       " ('Views', 37),\n",
       " ('Jetted', 30),\n",
       " ('Tub/Jacuzzi', 30),\n",
       " ('Hot-Tub', 21),\n",
       " ('Skylight', 21),\n",
       " ('Hookups', 17),\n",
       " ('Rent-to-Own', 16),\n",
       " ('Doorways', 14),\n",
       " ('Extra-Wide', 14),\n",
       " ('Penthouse', 10),\n",
       " ('Lake', 9),\n",
       " ('Wheelchair', 7),\n",
       " ('Roll-in', 3),\n",
       " ('Shower', 3),\n",
       " ('Coin', 1),\n",
       " ('Operated', 1),\n",
       " ('Rental', 1),\n",
       " ('Short-Term', 1)]"
      ]
     },
     "execution_count": 103,
     "metadata": {},
     "output_type": "execute_result"
    }
   ],
   "source": [
    "# displaying most mentioned words in value_counts() with their frequency\n",
    "Display_Split_ValueCountsIndex_Frequency(df_explode['Property_features'])"
   ]
  },
  {
   "cell_type": "markdown",
   "metadata": {
    "hidden": true
   },
   "source": [
    "Scoring every listing on the basis of how many desireable characteristics it has."
   ]
  },
  {
   "cell_type": "code",
   "execution_count": 104,
   "metadata": {
    "hidden": true
   },
   "outputs": [],
   "source": [
    "list_property_features_point1 = ['Laundry', 'Fridge', 'Oven/Stove', 'Dishwasher', 'Microwave', 'Vinyl', 'Lockers']\n",
    "list_property_features_point2 = ['Alarm', 'Carpeted', 'Hardwood', 'Balcony', 'Storage', 'Fire-Pit', 'Linoleum']\n",
    "list_property_features_point3 = ['Private', 'Backyard', 'Fireplace', 'Tub/Jacuzzi', 'Hot-Tub', 'Patio/Deck', 'Penthouse', 'Corner'  ]\n",
    "\n",
    "\n",
    "\n",
    "# giving a score as per the no of matches, +1/+2/+3 depending on type of match\n",
    "df_explode['Property_features'] = Specific_Row_Value_Change_Substring_Advanced(\n",
    "    df_explode['Property_features'], list_property_features_point1, list_property_features_point2, list_property_features_point3)"
   ]
  },
  {
   "cell_type": "code",
   "execution_count": 105,
   "metadata": {
    "hidden": true
   },
   "outputs": [
    {
     "data": {
      "text/plain": [
       "12.0    989\n",
       "10.0    651\n",
       "7.0     310\n",
       "9.0     281\n",
       "3.0     267\n",
       "6.0     253\n",
       "13.0    235\n",
       "5.0     224\n",
       "16.0    187\n",
       "11.0    167\n",
       "14.0    159\n",
       "8.0     153\n",
       "4.0     145\n",
       "20.0     86\n",
       "17.0     80\n",
       "25.0     63\n",
       "1.0      62\n",
       "15.0     60\n",
       "26.0     58\n",
       "21.0     56\n",
       "0.0      52\n",
       "23.0     37\n",
       "2.0      24\n",
       "18.0     21\n",
       "19.0     16\n",
       "22.0      7\n",
       "32.0      1\n",
       "24.0      1\n",
       "31.0      1\n",
       "28.0      1\n",
       "35.0      1\n",
       "Name: Property_features, dtype: int64"
      ]
     },
     "execution_count": 105,
     "metadata": {},
     "output_type": "execute_result"
    }
   ],
   "source": [
    "# property features look clean\n",
    "df_explode['Property_features'].value_counts()"
   ]
  },
  {
   "cell_type": "markdown",
   "metadata": {
    "hidden": true
   },
   "source": [
    "Property features score is assigned correctly."
   ]
  },
  {
   "cell_type": "markdown",
   "metadata": {
    "heading_collapsed": true
   },
   "source": [
    "# Removing Repeated Listings"
   ]
  },
  {
   "cell_type": "markdown",
   "metadata": {
    "hidden": true
   },
   "source": [
    "While cleaning the data I noticed that there are abnormally high number of listings for Applewood neighbourhood and this suggested that there were repeated entries in the raw data. I identified and cleaned the repeated entries in this section."
   ]
  },
  {
   "cell_type": "markdown",
   "metadata": {
    "heading_collapsed": true,
    "hidden": true
   },
   "source": [
    "## Understanding the Issue"
   ]
  },
  {
   "cell_type": "markdown",
   "metadata": {
    "hidden": true
   },
   "source": [
    "In the example below, repeated entries can be seen."
   ]
  },
  {
   "cell_type": "code",
   "execution_count": 106,
   "metadata": {
    "hidden": true,
    "scrolled": false
   },
   "outputs": [],
   "source": [
    "# we can see many listings repeating here are in applewood\n",
    "# uncomment to see\n",
    "# df_explode.iloc[3188:3500]"
   ]
  },
  {
   "cell_type": "markdown",
   "metadata": {
    "hidden": true
   },
   "source": [
    "The issue is that people are reposting their listings and overtime, they are accumulating at the higher numbered pages. The solution to remove these repeated postings is to first get the listing ids that are getting repeated. After that, only the first group of exploded sub-listings should be taken for a given listing id. All subsequent occurances of the given listing id should then be deleted. "
   ]
  },
  {
   "cell_type": "code",
   "execution_count": 107,
   "metadata": {
    "hidden": true
   },
   "outputs": [
    {
     "data": {
      "text/plain": [
       "329389    400\n",
       "327366    361\n",
       "327410    225\n",
       "307606    121\n",
       "433243    100\n",
       "147339    100\n",
       "444140     90\n",
       "361795     72\n",
       "417008     64\n",
       "355606     60\n",
       "368446     60\n",
       "5766       55\n",
       "410845     55\n",
       "439983     49\n",
       "31264      48\n",
       "412577     48\n",
       "360545     48\n",
       "434562     42\n",
       "393079     42\n",
       "407788     40\n",
       "443323     40\n",
       "393080     36\n",
       "290307     35\n",
       "407156     30\n",
       "416372     27\n",
       "340111     27\n",
       "111726     25\n",
       "417059     25\n",
       "422955     25\n",
       "414193     25\n",
       "391053     25\n",
       "426571     25\n",
       "365511     25\n",
       "19655      24\n",
       "377368     24\n",
       "305440     22\n",
       "29347      21\n",
       "300688     21\n",
       "343051     21\n",
       "316344     20\n",
       "438172     20\n",
       "297054     20\n",
       "374053     20\n",
       "351340     20\n",
       "422562     20\n",
       "406865     18\n",
       "342591     16\n",
       "342680     16\n",
       "309853     16\n",
       "2245       16\n",
       "Name: Listing_ID, dtype: int64"
      ]
     },
     "execution_count": 107,
     "metadata": {},
     "output_type": "execute_result"
    }
   ],
   "source": [
    "# listing id count in exploded dataframe\n",
    "df_explode['Listing_ID'].value_counts()[:50]"
   ]
  },
  {
   "cell_type": "code",
   "execution_count": 108,
   "metadata": {
    "hidden": true
   },
   "outputs": [
    {
     "data": {
      "text/plain": [
       "329389    20\n",
       "327366    19\n",
       "327410    15\n",
       "307606    11\n",
       "147339    10\n",
       "444140    10\n",
       "433243    10\n",
       "361795     8\n",
       "417008     8\n",
       "439983     7\n",
       "393080     6\n",
       "393079     6\n",
       "434562     6\n",
       "443323     5\n",
       "5766       5\n",
       "417059     5\n",
       "111726     5\n",
       "368446     5\n",
       "351340     5\n",
       "426571     5\n",
       "414193     5\n",
       "391053     5\n",
       "365511     5\n",
       "410845     5\n",
       "290307     5\n",
       "407156     5\n",
       "355606     5\n",
       "422955     5\n",
       "407788     4\n",
       "343194     4\n",
       "19655      4\n",
       "433935     4\n",
       "309853     4\n",
       "342680     4\n",
       "2245       4\n",
       "360461     4\n",
       "329452     4\n",
       "424797     4\n",
       "424798     4\n",
       "342591     4\n",
       "316344     4\n",
       "31264      4\n",
       "297054     4\n",
       "75289      4\n",
       "422562     4\n",
       "374053     4\n",
       "377368     4\n",
       "438172     4\n",
       "412577     4\n",
       "131523     4\n",
       "Name: Listing_ID, dtype: int64"
      ]
     },
     "execution_count": 108,
     "metadata": {},
     "output_type": "execute_result"
    }
   ],
   "source": [
    "# listing id count in original dataframe\n",
    "df['Listing_ID'].value_counts()[:50]\n",
    "#  therefore can find no. of sublistings per listing, will be helpful in cleaning up repeated ones\n"
   ]
  },
  {
   "cell_type": "markdown",
   "metadata": {
    "hidden": true
   },
   "source": [
    "For example from the above two value counts it can be seen that there are 20 listings for 329389 and each has 20 sublistings and thus after exploding, there are 400 (20 X 20) such listing ids. The same logic can then be extended further for other listing ids. Thus, for proper data cleaning, first occurance of 20 sublisting should be kept and rest 380 should be discarded."
   ]
  },
  {
   "cell_type": "markdown",
   "metadata": {
    "heading_collapsed": true,
    "hidden": true
   },
   "source": [
    "## Getting Number of Sub-Listings per Listing"
   ]
  },
  {
   "cell_type": "markdown",
   "metadata": {
    "hidden": true
   },
   "source": [
    "The code block below stores the number of sub-listings per listing id in dictionary dict_3."
   ]
  },
  {
   "cell_type": "code",
   "execution_count": 109,
   "metadata": {
    "hidden": true
   },
   "outputs": [],
   "source": [
    "# concerned only about repeated entries\n",
    "counts_1 = df['Listing_ID'].value_counts() \n",
    "counts_1 = counts_1[counts_1 > 1]\n",
    "\n",
    "# concerned only about repeated entries\n",
    "counts_2 = df_explode['Listing_ID'].value_counts() \n",
    "counts_2 = counts_2[counts_2 > 1]\n",
    "\n",
    "# initializing dictionary 1/2 for storing listing ids and their counts\n",
    "dict_1 = {}\n",
    "\n",
    "for i in range(0, len(counts_1)):\n",
    "    dict_1[counts_1.index[i]] = counts_1[i]\n",
    "\n",
    "dict_2 = {}\n",
    "\n",
    "for i in range(0, len(counts_2)):\n",
    "    dict_2[counts_2.index[i]] = counts_2[i]    \n",
    "\n",
    "#  dictionary 3 containes no of sublistings per listing id\n",
    "dict_3 = {}\n",
    "for item in dict_1.items():\n",
    "    try:\n",
    "        dict_3[item[0]] = (dict_2[item[0]]/item[1])\n",
    "    except:\n",
    "        continue\n",
    "        \n"
   ]
  },
  {
   "cell_type": "code",
   "execution_count": 110,
   "metadata": {
    "hidden": true
   },
   "outputs": [
    {
     "data": {
      "text/plain": [
       "{'329389': 20.0,\n",
       " '327366': 19.0,\n",
       " '327410': 15.0,\n",
       " '307606': 11.0,\n",
       " '147339': 10.0,\n",
       " '444140': 9.0,\n",
       " '433243': 10.0,\n",
       " '361795': 9.0,\n",
       " '417008': 8.0,\n",
       " '439983': 7.0,\n",
       " '393080': 6.0,\n",
       " '393079': 7.0,\n",
       " '434562': 7.0,\n",
       " '443323': 8.0,\n",
       " '5766': 11.0,\n",
       " '417059': 5.0,\n",
       " '111726': 5.0,\n",
       " '368446': 12.0,\n",
       " '351340': 4.0,\n",
       " '426571': 5.0,\n",
       " '414193': 5.0,\n",
       " '391053': 5.0,\n",
       " '365511': 5.0,\n",
       " '410845': 11.0,\n",
       " '290307': 7.0,\n",
       " '407156': 6.0,\n",
       " '355606': 12.0,\n",
       " '422955': 5.0,\n",
       " '407788': 10.0,\n",
       " '343194': 4.0,\n",
       " '19655': 6.0,\n",
       " '433935': 4.0,\n",
       " '309853': 4.0,\n",
       " '342680': 4.0,\n",
       " '2245': 4.0,\n",
       " '360461': 4.0,\n",
       " '329452': 3.0,\n",
       " '424797': 4.0,\n",
       " '424798': 4.0,\n",
       " '342591': 4.0,\n",
       " '316344': 5.0,\n",
       " '31264': 12.0,\n",
       " '297054': 5.0,\n",
       " '75289': 4.0,\n",
       " '422562': 5.0,\n",
       " '374053': 5.0,\n",
       " '377368': 6.0,\n",
       " '438172': 5.0,\n",
       " '412577': 12.0,\n",
       " '131523': 4.0,\n",
       " '343049': 4.0,\n",
       " '383003': 3.0,\n",
       " '355717': 3.0,\n",
       " '146362': 3.0,\n",
       " '439462': 3.0,\n",
       " '2244': 3.0,\n",
       " '402020': 3.0,\n",
       " '2594': 3.0,\n",
       " '338360': 5.0,\n",
       " '435439': 4.0,\n",
       " '100159': 4.0,\n",
       " '312479': 3.0,\n",
       " '400117': 3.0,\n",
       " '359909': 3.0,\n",
       " '318403': 4.0,\n",
       " '416372': 9.0,\n",
       " '308413': 3.0,\n",
       " '29347': 7.0,\n",
       " '340111': 9.0,\n",
       " '343051': 7.0,\n",
       " '406865': 6.0,\n",
       " '3408': 3.0,\n",
       " '401238': 3.0,\n",
       " '99281': 3.0,\n",
       " '432141': 3.0,\n",
       " '360545': 16.0,\n",
       " '355718': 3.0,\n",
       " '51406': 3.0,\n",
       " '347214': 3.0,\n",
       " '300688': 7.0,\n",
       " '29842': 4.0,\n",
       " '373285': 3.0,\n",
       " '2593': 3.0,\n",
       " '2592': 3.0,\n",
       " '2674': 3.0,\n",
       " '413819': 2.0,\n",
       " '335953': 1.0,\n",
       " '359908': 2.0,\n",
       " '444250': 1.0,\n",
       " '22935': 4.0,\n",
       " '355716': 2.0,\n",
       " '137573': 3.0,\n",
       " '359587': 2.0,\n",
       " '328918': 2.0,\n",
       " '436000': 1.0,\n",
       " '443134': 1.0,\n",
       " '427020': 2.0,\n",
       " '406910': 2.0,\n",
       " '397807': 1.0,\n",
       " '392098': 1.0,\n",
       " '305820': 5.0,\n",
       " '339504': 2.0,\n",
       " '319079': 3.0,\n",
       " '343046': 3.0,\n",
       " '27543': 5.0,\n",
       " '20548': 8.0,\n",
       " '82032': 2.0,\n",
       " '75288': 2.0,\n",
       " '444237': 1.0,\n",
       " '78120': 3.0,\n",
       " '47563': 6.0,\n",
       " '403379': 2.0,\n",
       " '305440': 11.0,\n",
       " '428752': 3.0,\n",
       " '386002': 2.0,\n",
       " '2540': 2.0,\n",
       " '413884': 2.0,\n",
       " '417750': 2.0,\n",
       " '2544': 2.0,\n",
       " '433934': 2.0,\n",
       " '438511': 1.0,\n",
       " '27957': 2.0,\n",
       " '305089': 2.0,\n",
       " '2248': 2.0,\n",
       " '337415': 2.0,\n",
       " '54234': 2.0,\n",
       " '25465': 1.0,\n",
       " '360943': 4.0,\n",
       " '102299': 1.0,\n",
       " '390534': 1.0,\n",
       " '444189': 1.0,\n",
       " '63683': 2.0,\n",
       " '19660': 1.0,\n",
       " '63658': 1.0,\n",
       " '82033': 2.0,\n",
       " '350947': 2.0,\n",
       " '337416': 2.0,\n",
       " '51405': 2.0,\n",
       " '367103': 2.0,\n",
       " '354622': 1.0,\n",
       " '3474': 2.0,\n",
       " '307145': 4.0,\n",
       " '314015': 2.0,\n",
       " '355714': 2.0,\n",
       " '439358': 2.0,\n",
       " '328196': 1.0,\n",
       " '439714': 1.0,\n",
       " '339609': 1.0,\n",
       " '374009': 1.0,\n",
       " '3409': 2.0,\n",
       " '408921': 3.0,\n",
       " '2844': 2.0,\n",
       " '38132': 2.0,\n",
       " '2247': 2.0,\n",
       " '325413': 1.0,\n",
       " '443065': 1.0,\n",
       " '371910': 2.0,\n",
       " '328915': 2.0,\n",
       " '444236': 1.0,\n",
       " '24334': 6.0,\n",
       " '99283': 2.0,\n",
       " '428352': 4.0,\n",
       " '18063': 1.0,\n",
       " '27229': 4.0,\n",
       " '299144': 2.0,\n",
       " '407232': 3.0,\n",
       " '362450': 4.0,\n",
       " '342039': 3.0,\n",
       " '444244': 1.0,\n",
       " '118106': 2.0,\n",
       " '417846': 5.0,\n",
       " '444240': 1.0,\n",
       " '430647': 4.0,\n",
       " '309381': 1.0,\n",
       " '26247': 1.0,\n",
       " '109509': 3.0,\n",
       " '374359': 2.0,\n",
       " '99282': 2.0,\n",
       " '51408': 2.0,\n",
       " '363548': 2.0,\n",
       " '22009': 4.0,\n",
       " '32351': 2.0,\n",
       " '2542': 2.0,\n",
       " '304832': 4.0,\n",
       " '373063': 2.0,\n",
       " '2243': 3.0,\n",
       " '75880': 2.0,\n",
       " '2598': 2.0,\n",
       " '142108': 6.0,\n",
       " '311903': 2.0,\n",
       " '303992': 2.0,\n",
       " '368096': 2.0,\n",
       " '360258': 2.0,\n",
       " '387408': 5.0,\n",
       " '435438': 4.0,\n",
       " '328914': 2.0,\n",
       " '392811': 2.0,\n",
       " '443975': 1.0,\n",
       " '430648': 5.0,\n",
       " '440936': 1.0,\n",
       " '108453': 1.0,\n",
       " '109382': 3.0,\n",
       " '355715': 2.0,\n",
       " '82031': 2.0,\n",
       " '137810': 1.0}"
      ]
     },
     "execution_count": 110,
     "metadata": {},
     "output_type": "execute_result"
    }
   ],
   "source": [
    "# reviewing to see if makes sense\n",
    "# dict_1\n",
    "# dict_2\n",
    "dict_3"
   ]
  },
  {
   "cell_type": "markdown",
   "metadata": {
    "hidden": true
   },
   "source": [
    "Therefore, I first identified number of sub-listing per id."
   ]
  },
  {
   "cell_type": "markdown",
   "metadata": {
    "heading_collapsed": true,
    "hidden": true
   },
   "source": [
    "## Getting Index at Repetitions and Cleaning"
   ]
  },
  {
   "cell_type": "markdown",
   "metadata": {
    "hidden": true
   },
   "source": [
    "Uptill here, the listing ids of concern and the number of sub-listing per id is know. Using this information, the code block below generates a list of all the problematic (repeated) index of data frame _df_explode_ which are then dropped."
   ]
  },
  {
   "cell_type": "code",
   "execution_count": 111,
   "metadata": {
    "hidden": true
   },
   "outputs": [],
   "source": [
    "# this code block identifies the repetitions in the dataframe df_explode \n",
    "\n",
    "# initializing empty list\n",
    "list_removal = []\n",
    "# checking for all listing ids in dict_3\n",
    "for item in dict_3.items():\n",
    "# no of repetition (i.e. no of sublistings)\n",
    "    rep = dict_3[item[0]]\n",
    "    index = item[0]\n",
    "# counter to break loop as soon as first time listing id is found     \n",
    "    count = 0\n",
    "    for j in range(0, len(df_explode['Listing_ID'])):\n",
    "        if(count>0):\n",
    "            break\n",
    "        else:\n",
    "            if(df_explode['Listing_ID'].iloc[j] == item[0]):\n",
    "                count = 1\n",
    "                for i in range(j+int(rep)+1, len(df_explode['Listing_ID'])):\n",
    "# noting all repetions after first group of sublistings (from same original unexploded listing) into removal list                    \n",
    "                    if(df_explode['Listing_ID'][i] == item[0]):\n",
    "                        list_removal.append(i)\n",
    "                    else:\n",
    "                        continue\n",
    "            else:\n",
    "                continue\n"
   ]
  },
  {
   "cell_type": "code",
   "execution_count": 112,
   "metadata": {
    "hidden": true
   },
   "outputs": [
    {
     "data": {
      "text/plain": [
       "2930"
      ]
     },
     "execution_count": 112,
     "metadata": {},
     "output_type": "execute_result"
    }
   ],
   "source": [
    "# no of repeated entries\n",
    "len(list_removal)"
   ]
  },
  {
   "cell_type": "markdown",
   "metadata": {
    "hidden": true
   },
   "source": [
    "2930 entries were repeated and thus were removed."
   ]
  },
  {
   "cell_type": "code",
   "execution_count": 113,
   "metadata": {
    "hidden": true
   },
   "outputs": [],
   "source": [
    "# dropping all repeated rows\n",
    "df_explode_norepeat = df_explode.drop(list_removal, axis = 0)"
   ]
  },
  {
   "cell_type": "code",
   "execution_count": 114,
   "metadata": {
    "hidden": true
   },
   "outputs": [],
   "source": [
    "# reseting index\n",
    "df_explode_norepeat = df_explode_norepeat.reset_index(drop=True)"
   ]
  },
  {
   "cell_type": "markdown",
   "metadata": {
    "hidden": true
   },
   "source": [
    "Checking information in neighbourhood column now."
   ]
  },
  {
   "cell_type": "code",
   "execution_count": 115,
   "metadata": {
    "hidden": true
   },
   "outputs": [
    {
     "data": {
      "text/plain": [
       "Beltline                 148\n",
       "Downtown                 104\n",
       "Lower Mount Royal         78\n",
       "Applewood                 56\n",
       "Bankview                  55\n",
       "Mission                   50\n",
       "Victoria Park             47\n",
       "Skyview                   38\n",
       "Crescent Heights          37\n",
       "Hillhurst                 37\n",
       "Sunalta                   37\n",
       "Eau Claire                36\n",
       "Kingsland                 33\n",
       "South Calgary             30\n",
       "Varsity                   29\n",
       "Brentwood                 25\n",
       "Radisson Heights          22\n",
       "Bridgeland                21\n",
       "Haysboro                  20\n",
       "Capitol Hill              19\n",
       "Bowness                   19\n",
       "Connaught                 18\n",
       "Sunnyside                 17\n",
       "Spruce Cliff              17\n",
       "Inglewood                 16\n",
       "Rosscarrock               15\n",
       "Richmond/Knob Hill        15\n",
       "East Village              15\n",
       "Cornerstone               15\n",
       "Kincora                   15\n",
       "Windsor Park              14\n",
       "West Springs              14\n",
       "University Heights        14\n",
       "Banff Trail               14\n",
       "Tuxedo Park               13\n",
       "-1                        13\n",
       "Huntington Hills          13\n",
       "Dalhousie                 13\n",
       "Forest Lawn               12\n",
       "Greenview                 12\n",
       "Thorncliffe               12\n",
       "Red Carpet                11\n",
       "West Hillhurst            11\n",
       "Bayview                   10\n",
       "Killarney                 10\n",
       "Panorama Hills            10\n",
       "Acadia                    10\n",
       "Glamorgan                 10\n",
       "Altadore                   9\n",
       "Glenbrook                  9\n",
       "Marlborough                9\n",
       "Sage Hill                  8\n",
       "Taradale                   8\n",
       "Highland Park              8\n",
       "Mount Pleasant             7\n",
       "Redstone                   7\n",
       "Lake Bonavista             7\n",
       "Tuscany                    7\n",
       "Dover                      7\n",
       "Falconridge                7\n",
       "Cougar Ridge               6\n",
       "Ranchlands                 6\n",
       "Charleswood                6\n",
       "Cliff Bungalow             6\n",
       "Beddington                 6\n",
       "Fonda                      6\n",
       "Mayland Heights            6\n",
       "Whitehorn                  6\n",
       "New Brighton               6\n",
       "Temple                     6\n",
       "Lakeview                   6\n",
       "Fairview                   6\n",
       "Pineridge                  6\n",
       "Stanley Park               5\n",
       "Quarry Park                5\n",
       "Lincoln Park               5\n",
       "Braeside                   5\n",
       "Parkdale                   5\n",
       "Kelvin Grove               5\n",
       "Royal Oak                  5\n",
       "Evanston                   5\n",
       "Rundle                     5\n",
       "Saddle Ridge               5\n",
       "Springbank Hill            5\n",
       "Millrise                   5\n",
       "Cityscape                  5\n",
       "Montgomery                 4\n",
       "Copperfield                4\n",
       "Westgate                   4\n",
       "Canyon Meadows             4\n",
       "Coventry Hills             4\n",
       "Mckenzie Towne             4\n",
       "Parkhill-Stanley Park      4\n",
       "Willow Park                4\n",
       "Southview                  4\n",
       "Mount Royal                4\n",
       "Erlton                     3\n",
       "Midnapore                  3\n",
       "Dover Glen                 3\n",
       "Nolan Hill                 3\n",
       "Edgemont                   3\n",
       "Marlborough Park           3\n",
       "McKenzie Towne             3\n",
       "Renfrew                    3\n",
       "Woodlands                  3\n",
       "Patterson                  3\n",
       "North Glenmore Park        3\n",
       "Triwood                    3\n",
       "Scarboro                   3\n",
       "Southwood                  3\n",
       "Rocky Ridge                3\n",
       "Westbrook                  3\n",
       "Palliser                   3\n",
       "Vista Heights              3\n",
       "Ramsay                     3\n",
       "University District        3\n",
       "Rosedale                   3\n",
       "Country Hills Village      3\n",
       "Hamptons                   3\n",
       "Erin Woods                 3\n",
       "Rutland Park               2\n",
       "Arbour Lake                2\n",
       "Highwood                   2\n",
       "Crestmont                  2\n",
       "Glendale                   2\n",
       "Forest Heights             2\n",
       "Albert Park                2\n",
       "Garrison Green             2\n",
       "Shawnessy                  2\n",
       "Citadel                    2\n",
       "Ogden                      2\n",
       "Cedarbrae                  2\n",
       "Harvest Hills              2\n",
       "Manchester                 2\n",
       "Coral Springs              2\n",
       "Signal Hill                2\n",
       "Coach Hill                 2\n",
       "Currie Barracks            2\n",
       "Sherwood                   2\n",
       "Aspen Woods                2\n",
       "Carrington                 2\n",
       "Evergreen                  2\n",
       "Queensland                 2\n",
       "Elboya                     1\n",
       "Martindale                 1\n",
       "Mountview Parc             1\n",
       "Chinook Park               1\n",
       "Monterey Park              1\n",
       "Springbank                 1\n",
       "Shepard                    1\n",
       "Oakridge                   1\n",
       "Shaganappi                 1\n",
       "Meadowlark Park            1\n",
       "Riverbend                  1\n",
       "Strathcona Park            1\n",
       "Garrison Woods             1\n",
       "Patterson Heights          1\n",
       "Valley Ridge               1\n",
       "Penbrooke Meadows          1\n",
       "Bearspaw                   1\n",
       "Regal Terrace              1\n",
       "Sandstone                  1\n",
       "Castleridge                1\n",
       "Hawkwood                   1\n",
       "Savanna                    1\n",
       "Country Hills              1\n",
       "Briar Hill                 1\n",
       "Name: Neighbourhood, dtype: int64"
      ]
     },
     "execution_count": 115,
     "metadata": {},
     "output_type": "execute_result"
    }
   ],
   "source": [
    "# neighbourhood clean and make sense now\n",
    "df_explode_norepeat['Neighbourhood'].value_counts()"
   ]
  },
  {
   "cell_type": "markdown",
   "metadata": {
    "hidden": true
   },
   "source": [
    "The neighbourhood data now makes sense. The zones with higher density of listings are located near downtown, which is the heart of all the activity in city."
   ]
  },
  {
   "cell_type": "markdown",
   "metadata": {
    "heading_collapsed": true
   },
   "source": [
    "# Saving Final Dataframe"
   ]
  },
  {
   "cell_type": "markdown",
   "metadata": {
    "hidden": true
   },
   "source": [
    "Checking dataframe now."
   ]
  },
  {
   "cell_type": "code",
   "execution_count": 116,
   "metadata": {
    "hidden": true,
    "scrolled": false
   },
   "outputs": [
    {
     "data": {
      "text/html": [
       "<div>\n",
       "<style scoped>\n",
       "    .dataframe tbody tr th:only-of-type {\n",
       "        vertical-align: middle;\n",
       "    }\n",
       "\n",
       "    .dataframe tbody tr th {\n",
       "        vertical-align: top;\n",
       "    }\n",
       "\n",
       "    .dataframe thead th {\n",
       "        text-align: right;\n",
       "    }\n",
       "</style>\n",
       "<table border=\"1\" class=\"dataframe\">\n",
       "  <thead>\n",
       "    <tr style=\"text-align: right;\">\n",
       "      <th></th>\n",
       "      <th>Old_Index</th>\n",
       "      <th>Listings_Title</th>\n",
       "      <th>Location</th>\n",
       "      <th>Neighbourhood</th>\n",
       "      <th>Fulldescription</th>\n",
       "      <th>Listing_ID</th>\n",
       "      <th>Pets</th>\n",
       "      <th>Smoking</th>\n",
       "      <th>Tenant_Parking</th>\n",
       "      <th>Year_Built</th>\n",
       "      <th>Landlord_On_Rentfaster_Since</th>\n",
       "      <th>Building_features</th>\n",
       "      <th>Property_features</th>\n",
       "      <th>Community_features</th>\n",
       "      <th>Main_info</th>\n",
       "      <th>Utilities_info</th>\n",
       "      <th>Listing_Type</th>\n",
       "      <th>Sq_Feet</th>\n",
       "      <th>Furnishing</th>\n",
       "      <th>Baths</th>\n",
       "      <th>Beds</th>\n",
       "      <th>Rent_Monthly</th>\n",
       "    </tr>\n",
       "  </thead>\n",
       "  <tbody>\n",
       "    <tr>\n",
       "      <th>0</th>\n",
       "      <td>0</td>\n",
       "      <td>VISTA PHASE 1</td>\n",
       "      <td>60 Skyview Ranch Drive NE</td>\n",
       "      <td>Skyview</td>\n",
       "      <td>Join Us for Our Virtual Open House on Monday a...</td>\n",
       "      <td>430647</td>\n",
       "      <td>1</td>\n",
       "      <td>0</td>\n",
       "      <td>1</td>\n",
       "      <td>-1</td>\n",
       "      <td>-1</td>\n",
       "      <td>2.0</td>\n",
       "      <td>7.0</td>\n",
       "      <td>9.0</td>\n",
       "      <td>Apartment $1433 $1433 2 bd 1 ba 873 ft2 Unfurn...</td>\n",
       "      <td>2.0</td>\n",
       "      <td>Apartment</td>\n",
       "      <td>873</td>\n",
       "      <td>0</td>\n",
       "      <td>1</td>\n",
       "      <td>2</td>\n",
       "      <td>1433</td>\n",
       "    </tr>\n",
       "    <tr>\n",
       "      <th>1</th>\n",
       "      <td>0</td>\n",
       "      <td>VISTA PHASE 1</td>\n",
       "      <td>60 Skyview Ranch Drive NE</td>\n",
       "      <td>Skyview</td>\n",
       "      <td>Join Us for Our Virtual Open House on Monday a...</td>\n",
       "      <td>430647</td>\n",
       "      <td>1</td>\n",
       "      <td>0</td>\n",
       "      <td>1</td>\n",
       "      <td>-1</td>\n",
       "      <td>-1</td>\n",
       "      <td>2.0</td>\n",
       "      <td>7.0</td>\n",
       "      <td>9.0</td>\n",
       "      <td>Apartment $1499 $1499 2 bd 2 ba 1015 ft2 Unfur...</td>\n",
       "      <td>2.0</td>\n",
       "      <td>Apartment</td>\n",
       "      <td>1015</td>\n",
       "      <td>0</td>\n",
       "      <td>2</td>\n",
       "      <td>2</td>\n",
       "      <td>1499</td>\n",
       "    </tr>\n",
       "    <tr>\n",
       "      <th>2</th>\n",
       "      <td>0</td>\n",
       "      <td>VISTA PHASE 1</td>\n",
       "      <td>60 Skyview Ranch Drive NE</td>\n",
       "      <td>Skyview</td>\n",
       "      <td>Join Us for Our Virtual Open House on Monday a...</td>\n",
       "      <td>430647</td>\n",
       "      <td>1</td>\n",
       "      <td>0</td>\n",
       "      <td>1</td>\n",
       "      <td>-1</td>\n",
       "      <td>-1</td>\n",
       "      <td>2.0</td>\n",
       "      <td>7.0</td>\n",
       "      <td>9.0</td>\n",
       "      <td>Apartment $1348 $1348 1 bd 2 ba 946 ft2 Unfurn...</td>\n",
       "      <td>2.0</td>\n",
       "      <td>Apartment</td>\n",
       "      <td>946</td>\n",
       "      <td>0</td>\n",
       "      <td>2</td>\n",
       "      <td>1</td>\n",
       "      <td>1348</td>\n",
       "    </tr>\n",
       "    <tr>\n",
       "      <th>3</th>\n",
       "      <td>0</td>\n",
       "      <td>VISTA PHASE 1</td>\n",
       "      <td>60 Skyview Ranch Drive NE</td>\n",
       "      <td>Skyview</td>\n",
       "      <td>Join Us for Our Virtual Open House on Monday a...</td>\n",
       "      <td>430647</td>\n",
       "      <td>1</td>\n",
       "      <td>0</td>\n",
       "      <td>1</td>\n",
       "      <td>-1</td>\n",
       "      <td>-1</td>\n",
       "      <td>2.0</td>\n",
       "      <td>7.0</td>\n",
       "      <td>9.0</td>\n",
       "      <td>Apartment $1435 $1435 2 bd 1 ba 878 ft2 Unfurn...</td>\n",
       "      <td>2.0</td>\n",
       "      <td>Apartment</td>\n",
       "      <td>878</td>\n",
       "      <td>0</td>\n",
       "      <td>1</td>\n",
       "      <td>2</td>\n",
       "      <td>1435</td>\n",
       "    </tr>\n",
       "    <tr>\n",
       "      <th>4</th>\n",
       "      <td>1</td>\n",
       "      <td>LARGE 2 BEDROOMS WITH DEN CONDO AT TARALAKE WA...</td>\n",
       "      <td>211- 355 Taralake Way NE</td>\n",
       "      <td>Taradale</td>\n",
       "      <td>Large 2 bedroom condo with den ideal for small...</td>\n",
       "      <td>124512</td>\n",
       "      <td>0</td>\n",
       "      <td>0</td>\n",
       "      <td>1</td>\n",
       "      <td>2013</td>\n",
       "      <td>2010</td>\n",
       "      <td>2.0</td>\n",
       "      <td>14.0</td>\n",
       "      <td>18.0</td>\n",
       "      <td>Condo $1350 $1350 2 bd + den 2 ba 960 ft2 Unfu...</td>\n",
       "      <td>3.0</td>\n",
       "      <td>Condo</td>\n",
       "      <td>960</td>\n",
       "      <td>0</td>\n",
       "      <td>2</td>\n",
       "      <td>2</td>\n",
       "      <td>1350</td>\n",
       "    </tr>\n",
       "    <tr>\n",
       "      <th>5</th>\n",
       "      <td>2</td>\n",
       "      <td>COZY 2 BEDROOM COTTAGE HOUSE WITH HUGE FENCED ...</td>\n",
       "      <td>West Hillhurst Calgary, AB</td>\n",
       "      <td>West Hillhurst</td>\n",
       "      <td>Entire Cozy 2 Bedroom Cottage Bungalow in West...</td>\n",
       "      <td>437801</td>\n",
       "      <td>0</td>\n",
       "      <td>0</td>\n",
       "      <td>0</td>\n",
       "      <td>1947</td>\n",
       "      <td>2006</td>\n",
       "      <td>0.0</td>\n",
       "      <td>19.0</td>\n",
       "      <td>21.0</td>\n",
       "      <td>House $1750 $1750 2 bd 1 ba 800 ft2 Unfurnishe...</td>\n",
       "      <td>-1.0</td>\n",
       "      <td>House</td>\n",
       "      <td>800</td>\n",
       "      <td>0</td>\n",
       "      <td>1</td>\n",
       "      <td>2</td>\n",
       "      <td>1750</td>\n",
       "    </tr>\n",
       "    <tr>\n",
       "      <th>6</th>\n",
       "      <td>3</td>\n",
       "      <td>VARSITY TOWERS NORTH WEST</td>\n",
       "      <td>301 - 4603 Varsity Dr NW</td>\n",
       "      <td>Varsity</td>\n",
       "      <td>Luxurious condo living in 8 story concrete bui...</td>\n",
       "      <td>407306</td>\n",
       "      <td>0</td>\n",
       "      <td>0</td>\n",
       "      <td>0</td>\n",
       "      <td>1975</td>\n",
       "      <td>2010</td>\n",
       "      <td>22.0</td>\n",
       "      <td>15.0</td>\n",
       "      <td>21.0</td>\n",
       "      <td>Condo $1500 $1500 1 bd + den 1.5 ba 1100 ft2 F...</td>\n",
       "      <td>-1.0</td>\n",
       "      <td>Condo</td>\n",
       "      <td>1100</td>\n",
       "      <td>1</td>\n",
       "      <td>1.5</td>\n",
       "      <td>1</td>\n",
       "      <td>1500</td>\n",
       "    </tr>\n",
       "    <tr>\n",
       "      <th>7</th>\n",
       "      <td>4</td>\n",
       "      <td>VISTA PHASE 2</td>\n",
       "      <td>20 &amp; 40 Skyview Ranch Landing NE</td>\n",
       "      <td>Skyview</td>\n",
       "      <td>Join Us for Our Virtual Open House on Monday a...</td>\n",
       "      <td>430648</td>\n",
       "      <td>1</td>\n",
       "      <td>0</td>\n",
       "      <td>1</td>\n",
       "      <td>-1</td>\n",
       "      <td>-1</td>\n",
       "      <td>2.0</td>\n",
       "      <td>7.0</td>\n",
       "      <td>9.0</td>\n",
       "      <td>Apartment $1199 $1199 1 bd 1 ba 678 ft2 Unfurn...</td>\n",
       "      <td>2.0</td>\n",
       "      <td>Apartment</td>\n",
       "      <td>678</td>\n",
       "      <td>0</td>\n",
       "      <td>1</td>\n",
       "      <td>1</td>\n",
       "      <td>1199</td>\n",
       "    </tr>\n",
       "    <tr>\n",
       "      <th>8</th>\n",
       "      <td>4</td>\n",
       "      <td>VISTA PHASE 2</td>\n",
       "      <td>20 &amp; 40 Skyview Ranch Landing NE</td>\n",
       "      <td>Skyview</td>\n",
       "      <td>Join Us for Our Virtual Open House on Monday a...</td>\n",
       "      <td>430648</td>\n",
       "      <td>1</td>\n",
       "      <td>0</td>\n",
       "      <td>1</td>\n",
       "      <td>-1</td>\n",
       "      <td>-1</td>\n",
       "      <td>2.0</td>\n",
       "      <td>7.0</td>\n",
       "      <td>9.0</td>\n",
       "      <td>Apartment $1350 $1350 2 bd 2 ba 981 ft2 Unfurn...</td>\n",
       "      <td>2.0</td>\n",
       "      <td>Apartment</td>\n",
       "      <td>981</td>\n",
       "      <td>0</td>\n",
       "      <td>2</td>\n",
       "      <td>2</td>\n",
       "      <td>1350</td>\n",
       "    </tr>\n",
       "    <tr>\n",
       "      <th>9</th>\n",
       "      <td>4</td>\n",
       "      <td>VISTA PHASE 2</td>\n",
       "      <td>20 &amp; 40 Skyview Ranch Landing NE</td>\n",
       "      <td>Skyview</td>\n",
       "      <td>Join Us for Our Virtual Open House on Monday a...</td>\n",
       "      <td>430648</td>\n",
       "      <td>1</td>\n",
       "      <td>0</td>\n",
       "      <td>1</td>\n",
       "      <td>-1</td>\n",
       "      <td>-1</td>\n",
       "      <td>2.0</td>\n",
       "      <td>7.0</td>\n",
       "      <td>9.0</td>\n",
       "      <td>Apartment $1222 $1222 1 bd 1 ba 676 ft2 Unfurn...</td>\n",
       "      <td>2.0</td>\n",
       "      <td>Apartment</td>\n",
       "      <td>676</td>\n",
       "      <td>0</td>\n",
       "      <td>1</td>\n",
       "      <td>1</td>\n",
       "      <td>1222</td>\n",
       "    </tr>\n",
       "    <tr>\n",
       "      <th>10</th>\n",
       "      <td>4</td>\n",
       "      <td>VISTA PHASE 2</td>\n",
       "      <td>20 &amp; 40 Skyview Ranch Landing NE</td>\n",
       "      <td>Skyview</td>\n",
       "      <td>Join Us for Our Virtual Open House on Monday a...</td>\n",
       "      <td>430648</td>\n",
       "      <td>1</td>\n",
       "      <td>0</td>\n",
       "      <td>1</td>\n",
       "      <td>-1</td>\n",
       "      <td>-1</td>\n",
       "      <td>2.0</td>\n",
       "      <td>7.0</td>\n",
       "      <td>9.0</td>\n",
       "      <td>Apartment $1488 $1488 2 bd 2 ba 1021 ft2 Unfur...</td>\n",
       "      <td>2.0</td>\n",
       "      <td>Apartment</td>\n",
       "      <td>1021</td>\n",
       "      <td>0</td>\n",
       "      <td>2</td>\n",
       "      <td>2</td>\n",
       "      <td>1488</td>\n",
       "    </tr>\n",
       "    <tr>\n",
       "      <th>11</th>\n",
       "      <td>4</td>\n",
       "      <td>VISTA PHASE 2</td>\n",
       "      <td>20 &amp; 40 Skyview Ranch Landing NE</td>\n",
       "      <td>Skyview</td>\n",
       "      <td>Join Us for Our Virtual Open House on Monday a...</td>\n",
       "      <td>430648</td>\n",
       "      <td>1</td>\n",
       "      <td>0</td>\n",
       "      <td>1</td>\n",
       "      <td>-1</td>\n",
       "      <td>-1</td>\n",
       "      <td>2.0</td>\n",
       "      <td>7.0</td>\n",
       "      <td>9.0</td>\n",
       "      <td>Apartment $1707 $1707 3 bd 2 ba 1307 ft2 Unfur...</td>\n",
       "      <td>2.0</td>\n",
       "      <td>Apartment</td>\n",
       "      <td>1307</td>\n",
       "      <td>0</td>\n",
       "      <td>2</td>\n",
       "      <td>3</td>\n",
       "      <td>1707</td>\n",
       "    </tr>\n",
       "    <tr>\n",
       "      <th>12</th>\n",
       "      <td>5</td>\n",
       "      <td>VISTA PHASE 2</td>\n",
       "      <td>20 &amp; 40 Skyview Ranch Landing NE</td>\n",
       "      <td>Skyview</td>\n",
       "      <td>Join Us for Our Virtual Open House on Monday a...</td>\n",
       "      <td>430648</td>\n",
       "      <td>1</td>\n",
       "      <td>0</td>\n",
       "      <td>1</td>\n",
       "      <td>-1</td>\n",
       "      <td>-1</td>\n",
       "      <td>2.0</td>\n",
       "      <td>7.0</td>\n",
       "      <td>9.0</td>\n",
       "      <td>Apartment $1199 $1199 1 bd 1 ba 678 ft2 Unfurn...</td>\n",
       "      <td>2.0</td>\n",
       "      <td>Apartment</td>\n",
       "      <td>678</td>\n",
       "      <td>0</td>\n",
       "      <td>1</td>\n",
       "      <td>1</td>\n",
       "      <td>1199</td>\n",
       "    </tr>\n",
       "    <tr>\n",
       "      <th>13</th>\n",
       "      <td>7</td>\n",
       "      <td>6 BED,LIVING ROOM,FAMILY ROOM,3.5 BATH</td>\n",
       "      <td>216 Arbour Summit Place NW</td>\n",
       "      <td>Arbour Lake</td>\n",
       "      <td>6 Bedrooms, 3.5 Bathrooms, 1 Living Room, 1 Fa...</td>\n",
       "      <td>444203</td>\n",
       "      <td>1</td>\n",
       "      <td>0</td>\n",
       "      <td>1</td>\n",
       "      <td>1992</td>\n",
       "      <td>-1</td>\n",
       "      <td>0.0</td>\n",
       "      <td>13.0</td>\n",
       "      <td>18.0</td>\n",
       "      <td>House $2500 $2500 6 bd 3.5 ba 3000 ft2 Unfurni...</td>\n",
       "      <td>-1.0</td>\n",
       "      <td>House</td>\n",
       "      <td>3000</td>\n",
       "      <td>0</td>\n",
       "      <td>3.5</td>\n",
       "      <td>6</td>\n",
       "      <td>2500</td>\n",
       "    </tr>\n",
       "    <tr>\n",
       "      <th>14</th>\n",
       "      <td>8</td>\n",
       "      <td>2 BED/2 BATH CONTEMPORARY CONDO IN PARKHILL</td>\n",
       "      <td>24 Mission Road Southwest</td>\n",
       "      <td>Parkhill-Stanley Park</td>\n",
       "      <td>Contemporary 2 bedroom / 2 bathroom corner uni...</td>\n",
       "      <td>439237</td>\n",
       "      <td>1</td>\n",
       "      <td>0</td>\n",
       "      <td>1</td>\n",
       "      <td>2007</td>\n",
       "      <td>2014</td>\n",
       "      <td>1.0</td>\n",
       "      <td>11.0</td>\n",
       "      <td>19.0</td>\n",
       "      <td>Condo $1750 $1750 2 bd 2 ba 1000 ft2 Unfurnish...</td>\n",
       "      <td>2.0</td>\n",
       "      <td>Condo</td>\n",
       "      <td>1000</td>\n",
       "      <td>0</td>\n",
       "      <td>2</td>\n",
       "      <td>2</td>\n",
       "      <td>1750</td>\n",
       "    </tr>\n",
       "    <tr>\n",
       "      <th>15</th>\n",
       "      <td>9</td>\n",
       "      <td>MOVE IN NOW AND DON'T PAY UNTIL MAY 1 + GET AP...</td>\n",
       "      <td>1528 16 Ave NW</td>\n",
       "      <td>Capitol Hill</td>\n",
       "      <td>Take a virtual tour of ONE6 Residential and re...</td>\n",
       "      <td>307606</td>\n",
       "      <td>1</td>\n",
       "      <td>0</td>\n",
       "      <td>1</td>\n",
       "      <td>2017</td>\n",
       "      <td>-1</td>\n",
       "      <td>2.0</td>\n",
       "      <td>12.0</td>\n",
       "      <td>18.0</td>\n",
       "      <td>Apartment $1010 $1010 1 bd 1 ba 426 ft2 Unfurn...</td>\n",
       "      <td>2.0</td>\n",
       "      <td>Apartment</td>\n",
       "      <td>426</td>\n",
       "      <td>0</td>\n",
       "      <td>1</td>\n",
       "      <td>1</td>\n",
       "      <td>1010</td>\n",
       "    </tr>\n",
       "    <tr>\n",
       "      <th>16</th>\n",
       "      <td>9</td>\n",
       "      <td>MOVE IN NOW AND DON'T PAY UNTIL MAY 1 + GET AP...</td>\n",
       "      <td>1528 16 Ave NW</td>\n",
       "      <td>Capitol Hill</td>\n",
       "      <td>Take a virtual tour of ONE6 Residential and re...</td>\n",
       "      <td>307606</td>\n",
       "      <td>1</td>\n",
       "      <td>0</td>\n",
       "      <td>1</td>\n",
       "      <td>2017</td>\n",
       "      <td>-1</td>\n",
       "      <td>2.0</td>\n",
       "      <td>12.0</td>\n",
       "      <td>18.0</td>\n",
       "      <td>Apartment $1158 $1158 1 bd 1 ba 421 ft2 Unfurn...</td>\n",
       "      <td>2.0</td>\n",
       "      <td>Apartment</td>\n",
       "      <td>421</td>\n",
       "      <td>0</td>\n",
       "      <td>1</td>\n",
       "      <td>1</td>\n",
       "      <td>1158</td>\n",
       "    </tr>\n",
       "    <tr>\n",
       "      <th>17</th>\n",
       "      <td>9</td>\n",
       "      <td>MOVE IN NOW AND DON'T PAY UNTIL MAY 1 + GET AP...</td>\n",
       "      <td>1528 16 Ave NW</td>\n",
       "      <td>Capitol Hill</td>\n",
       "      <td>Take a virtual tour of ONE6 Residential and re...</td>\n",
       "      <td>307606</td>\n",
       "      <td>1</td>\n",
       "      <td>0</td>\n",
       "      <td>1</td>\n",
       "      <td>2017</td>\n",
       "      <td>-1</td>\n",
       "      <td>2.0</td>\n",
       "      <td>12.0</td>\n",
       "      <td>18.0</td>\n",
       "      <td>Apartment $1172 $1172 1 bd 1 ba 426 ft2 Unfurn...</td>\n",
       "      <td>2.0</td>\n",
       "      <td>Apartment</td>\n",
       "      <td>426</td>\n",
       "      <td>0</td>\n",
       "      <td>1</td>\n",
       "      <td>1</td>\n",
       "      <td>1172</td>\n",
       "    </tr>\n",
       "    <tr>\n",
       "      <th>18</th>\n",
       "      <td>9</td>\n",
       "      <td>MOVE IN NOW AND DON'T PAY UNTIL MAY 1 + GET AP...</td>\n",
       "      <td>1528 16 Ave NW</td>\n",
       "      <td>Capitol Hill</td>\n",
       "      <td>Take a virtual tour of ONE6 Residential and re...</td>\n",
       "      <td>307606</td>\n",
       "      <td>1</td>\n",
       "      <td>0</td>\n",
       "      <td>1</td>\n",
       "      <td>2017</td>\n",
       "      <td>-1</td>\n",
       "      <td>2.0</td>\n",
       "      <td>12.0</td>\n",
       "      <td>18.0</td>\n",
       "      <td>Apartment $1172 $1172 1 bd 1 ba 426 ft2 Unfurn...</td>\n",
       "      <td>2.0</td>\n",
       "      <td>Apartment</td>\n",
       "      <td>426</td>\n",
       "      <td>0</td>\n",
       "      <td>1</td>\n",
       "      <td>1</td>\n",
       "      <td>1172</td>\n",
       "    </tr>\n",
       "    <tr>\n",
       "      <th>19</th>\n",
       "      <td>9</td>\n",
       "      <td>MOVE IN NOW AND DON'T PAY UNTIL MAY 1 + GET AP...</td>\n",
       "      <td>1528 16 Ave NW</td>\n",
       "      <td>Capitol Hill</td>\n",
       "      <td>Take a virtual tour of ONE6 Residential and re...</td>\n",
       "      <td>307606</td>\n",
       "      <td>1</td>\n",
       "      <td>0</td>\n",
       "      <td>1</td>\n",
       "      <td>2017</td>\n",
       "      <td>-1</td>\n",
       "      <td>2.0</td>\n",
       "      <td>12.0</td>\n",
       "      <td>18.0</td>\n",
       "      <td>Apartment $1275 $1275 2 bd 1 ba 593 ft2 Unfurn...</td>\n",
       "      <td>2.0</td>\n",
       "      <td>Apartment</td>\n",
       "      <td>593</td>\n",
       "      <td>0</td>\n",
       "      <td>1</td>\n",
       "      <td>2</td>\n",
       "      <td>1275</td>\n",
       "    </tr>\n",
       "  </tbody>\n",
       "</table>\n",
       "</div>"
      ],
      "text/plain": [
       "    Old_Index                                     Listings_Title  \\\n",
       "0           0                                      VISTA PHASE 1   \n",
       "1           0                                      VISTA PHASE 1   \n",
       "2           0                                      VISTA PHASE 1   \n",
       "3           0                                      VISTA PHASE 1   \n",
       "4           1  LARGE 2 BEDROOMS WITH DEN CONDO AT TARALAKE WA...   \n",
       "5           2  COZY 2 BEDROOM COTTAGE HOUSE WITH HUGE FENCED ...   \n",
       "6           3                          VARSITY TOWERS NORTH WEST   \n",
       "7           4                                      VISTA PHASE 2   \n",
       "8           4                                      VISTA PHASE 2   \n",
       "9           4                                      VISTA PHASE 2   \n",
       "10          4                                      VISTA PHASE 2   \n",
       "11          4                                      VISTA PHASE 2   \n",
       "12          5                                      VISTA PHASE 2   \n",
       "13          7             6 BED,LIVING ROOM,FAMILY ROOM,3.5 BATH   \n",
       "14          8        2 BED/2 BATH CONTEMPORARY CONDO IN PARKHILL   \n",
       "15          9  MOVE IN NOW AND DON'T PAY UNTIL MAY 1 + GET AP...   \n",
       "16          9  MOVE IN NOW AND DON'T PAY UNTIL MAY 1 + GET AP...   \n",
       "17          9  MOVE IN NOW AND DON'T PAY UNTIL MAY 1 + GET AP...   \n",
       "18          9  MOVE IN NOW AND DON'T PAY UNTIL MAY 1 + GET AP...   \n",
       "19          9  MOVE IN NOW AND DON'T PAY UNTIL MAY 1 + GET AP...   \n",
       "\n",
       "                            Location          Neighbourhood  \\\n",
       "0          60 Skyview Ranch Drive NE                Skyview   \n",
       "1          60 Skyview Ranch Drive NE                Skyview   \n",
       "2          60 Skyview Ranch Drive NE                Skyview   \n",
       "3          60 Skyview Ranch Drive NE                Skyview   \n",
       "4           211- 355 Taralake Way NE               Taradale   \n",
       "5         West Hillhurst Calgary, AB         West Hillhurst   \n",
       "6           301 - 4603 Varsity Dr NW                Varsity   \n",
       "7   20 & 40 Skyview Ranch Landing NE                Skyview   \n",
       "8   20 & 40 Skyview Ranch Landing NE                Skyview   \n",
       "9   20 & 40 Skyview Ranch Landing NE                Skyview   \n",
       "10  20 & 40 Skyview Ranch Landing NE                Skyview   \n",
       "11  20 & 40 Skyview Ranch Landing NE                Skyview   \n",
       "12  20 & 40 Skyview Ranch Landing NE                Skyview   \n",
       "13        216 Arbour Summit Place NW            Arbour Lake   \n",
       "14         24 Mission Road Southwest  Parkhill-Stanley Park   \n",
       "15                    1528 16 Ave NW           Capitol Hill   \n",
       "16                    1528 16 Ave NW           Capitol Hill   \n",
       "17                    1528 16 Ave NW           Capitol Hill   \n",
       "18                    1528 16 Ave NW           Capitol Hill   \n",
       "19                    1528 16 Ave NW           Capitol Hill   \n",
       "\n",
       "                                      Fulldescription Listing_ID Pets Smoking  \\\n",
       "0   Join Us for Our Virtual Open House on Monday a...     430647    1       0   \n",
       "1   Join Us for Our Virtual Open House on Monday a...     430647    1       0   \n",
       "2   Join Us for Our Virtual Open House on Monday a...     430647    1       0   \n",
       "3   Join Us for Our Virtual Open House on Monday a...     430647    1       0   \n",
       "4   Large 2 bedroom condo with den ideal for small...     124512    0       0   \n",
       "5   Entire Cozy 2 Bedroom Cottage Bungalow in West...     437801    0       0   \n",
       "6   Luxurious condo living in 8 story concrete bui...     407306    0       0   \n",
       "7   Join Us for Our Virtual Open House on Monday a...     430648    1       0   \n",
       "8   Join Us for Our Virtual Open House on Monday a...     430648    1       0   \n",
       "9   Join Us for Our Virtual Open House on Monday a...     430648    1       0   \n",
       "10  Join Us for Our Virtual Open House on Monday a...     430648    1       0   \n",
       "11  Join Us for Our Virtual Open House on Monday a...     430648    1       0   \n",
       "12  Join Us for Our Virtual Open House on Monday a...     430648    1       0   \n",
       "13  6 Bedrooms, 3.5 Bathrooms, 1 Living Room, 1 Fa...     444203    1       0   \n",
       "14  Contemporary 2 bedroom / 2 bathroom corner uni...     439237    1       0   \n",
       "15  Take a virtual tour of ONE6 Residential and re...     307606    1       0   \n",
       "16  Take a virtual tour of ONE6 Residential and re...     307606    1       0   \n",
       "17  Take a virtual tour of ONE6 Residential and re...     307606    1       0   \n",
       "18  Take a virtual tour of ONE6 Residential and re...     307606    1       0   \n",
       "19  Take a virtual tour of ONE6 Residential and re...     307606    1       0   \n",
       "\n",
       "   Tenant_Parking Year_Built Landlord_On_Rentfaster_Since  Building_features  \\\n",
       "0               1         -1                           -1                2.0   \n",
       "1               1         -1                           -1                2.0   \n",
       "2               1         -1                           -1                2.0   \n",
       "3               1         -1                           -1                2.0   \n",
       "4               1       2013                         2010                2.0   \n",
       "5               0       1947                         2006                0.0   \n",
       "6               0       1975                         2010               22.0   \n",
       "7               1         -1                           -1                2.0   \n",
       "8               1         -1                           -1                2.0   \n",
       "9               1         -1                           -1                2.0   \n",
       "10              1         -1                           -1                2.0   \n",
       "11              1         -1                           -1                2.0   \n",
       "12              1         -1                           -1                2.0   \n",
       "13              1       1992                           -1                0.0   \n",
       "14              1       2007                         2014                1.0   \n",
       "15              1       2017                           -1                2.0   \n",
       "16              1       2017                           -1                2.0   \n",
       "17              1       2017                           -1                2.0   \n",
       "18              1       2017                           -1                2.0   \n",
       "19              1       2017                           -1                2.0   \n",
       "\n",
       "    Property_features  Community_features  \\\n",
       "0                 7.0                 9.0   \n",
       "1                 7.0                 9.0   \n",
       "2                 7.0                 9.0   \n",
       "3                 7.0                 9.0   \n",
       "4                14.0                18.0   \n",
       "5                19.0                21.0   \n",
       "6                15.0                21.0   \n",
       "7                 7.0                 9.0   \n",
       "8                 7.0                 9.0   \n",
       "9                 7.0                 9.0   \n",
       "10                7.0                 9.0   \n",
       "11                7.0                 9.0   \n",
       "12                7.0                 9.0   \n",
       "13               13.0                18.0   \n",
       "14               11.0                19.0   \n",
       "15               12.0                18.0   \n",
       "16               12.0                18.0   \n",
       "17               12.0                18.0   \n",
       "18               12.0                18.0   \n",
       "19               12.0                18.0   \n",
       "\n",
       "                                            Main_info  Utilities_info  \\\n",
       "0   Apartment $1433 $1433 2 bd 1 ba 873 ft2 Unfurn...             2.0   \n",
       "1   Apartment $1499 $1499 2 bd 2 ba 1015 ft2 Unfur...             2.0   \n",
       "2   Apartment $1348 $1348 1 bd 2 ba 946 ft2 Unfurn...             2.0   \n",
       "3   Apartment $1435 $1435 2 bd 1 ba 878 ft2 Unfurn...             2.0   \n",
       "4   Condo $1350 $1350 2 bd + den 2 ba 960 ft2 Unfu...             3.0   \n",
       "5   House $1750 $1750 2 bd 1 ba 800 ft2 Unfurnishe...            -1.0   \n",
       "6   Condo $1500 $1500 1 bd + den 1.5 ba 1100 ft2 F...            -1.0   \n",
       "7   Apartment $1199 $1199 1 bd 1 ba 678 ft2 Unfurn...             2.0   \n",
       "8   Apartment $1350 $1350 2 bd 2 ba 981 ft2 Unfurn...             2.0   \n",
       "9   Apartment $1222 $1222 1 bd 1 ba 676 ft2 Unfurn...             2.0   \n",
       "10  Apartment $1488 $1488 2 bd 2 ba 1021 ft2 Unfur...             2.0   \n",
       "11  Apartment $1707 $1707 3 bd 2 ba 1307 ft2 Unfur...             2.0   \n",
       "12  Apartment $1199 $1199 1 bd 1 ba 678 ft2 Unfurn...             2.0   \n",
       "13  House $2500 $2500 6 bd 3.5 ba 3000 ft2 Unfurni...            -1.0   \n",
       "14  Condo $1750 $1750 2 bd 2 ba 1000 ft2 Unfurnish...             2.0   \n",
       "15  Apartment $1010 $1010 1 bd 1 ba 426 ft2 Unfurn...             2.0   \n",
       "16  Apartment $1158 $1158 1 bd 1 ba 421 ft2 Unfurn...             2.0   \n",
       "17  Apartment $1172 $1172 1 bd 1 ba 426 ft2 Unfurn...             2.0   \n",
       "18  Apartment $1172 $1172 1 bd 1 ba 426 ft2 Unfurn...             2.0   \n",
       "19  Apartment $1275 $1275 2 bd 1 ba 593 ft2 Unfurn...             2.0   \n",
       "\n",
       "   Listing_Type Sq_Feet Furnishing  Baths Beds Rent_Monthly  \n",
       "0     Apartment     873          0     1    2          1433  \n",
       "1     Apartment    1015          0     2    2          1499  \n",
       "2     Apartment     946          0     2    1          1348  \n",
       "3     Apartment     878          0     1    2          1435  \n",
       "4         Condo     960          0     2    2          1350  \n",
       "5         House     800          0     1    2          1750  \n",
       "6         Condo    1100          1   1.5    1          1500  \n",
       "7     Apartment     678          0     1    1          1199  \n",
       "8     Apartment     981          0     2    2          1350  \n",
       "9     Apartment     676          0     1    1          1222  \n",
       "10    Apartment    1021          0     2    2          1488  \n",
       "11    Apartment    1307          0     2    3          1707  \n",
       "12    Apartment     678          0     1    1          1199  \n",
       "13        House    3000          0   3.5    6          2500  \n",
       "14        Condo    1000          0     2    2          1750  \n",
       "15    Apartment     426          0     1    1          1010  \n",
       "16    Apartment     421          0     1    1          1158  \n",
       "17    Apartment     426          0     1    1          1172  \n",
       "18    Apartment     426          0     1    1          1172  \n",
       "19    Apartment     593          0     1    2          1275  "
      ]
     },
     "execution_count": 116,
     "metadata": {},
     "output_type": "execute_result"
    }
   ],
   "source": [
    "# dataframe so far\n",
    "df_explode_norepeat[0:20]"
   ]
  },
  {
   "cell_type": "markdown",
   "metadata": {
    "hidden": true
   },
   "source": [
    "The obtained dataframe looks clean and in the desired format. Dropping columns which would be not required in further analysis down below."
   ]
  },
  {
   "cell_type": "code",
   "execution_count": 117,
   "metadata": {
    "hidden": true
   },
   "outputs": [],
   "source": [
    "df_explode_norepeat.drop(['Location', 'Main_info'], axis=1, inplace=True)"
   ]
  },
  {
   "cell_type": "markdown",
   "metadata": {
    "hidden": true
   },
   "source": [
    "Storing the cleaned file in CSV format."
   ]
  },
  {
   "cell_type": "code",
   "execution_count": 118,
   "metadata": {
    "hidden": true
   },
   "outputs": [],
   "source": [
    "df_explode_norepeat.to_csv(\"/Users/rahulnagial/datascience/rentfasterscraping/rentfaster_scraped_data_cleaned.csv\", index=False)"
   ]
  },
  {
   "cell_type": "markdown",
   "metadata": {
    "hidden": true
   },
   "source": [
    "The preliminary cleaning of the data is complete. Next step would be to run a more thorough exploratory data analysis (EDA) on the cleaned dataset and then build machine learning models on it."
   ]
  },
  {
   "cell_type": "markdown",
   "metadata": {
    "heading_collapsed": true
   },
   "source": [
    "# Next Steps"
   ]
  },
  {
   "cell_type": "markdown",
   "metadata": {
    "hidden": true
   },
   "source": [
    "The cleaned data was stored as CSV file in the end (<a href=\"https://github.com/RahulNagial/Regression_Analysis\" target=\"_blank\">refer \"rentfaster_scraped_data_cleaned.csv\"</a>). This file would be used subsequently for more rigourous exploratory data analysis (EDA) (<a href=\"https://github.com/RahulNagial/Regression_Analysis\" target=\"_blank\">refer .ipynb file titled \"Exploratory_Data_Analysis_and_Data_Cleaning\"</a>). Insights gained from the EDA would be used to clean outliers and select features for model bulding. For more on model building, (<a href=\"https://github.com/RahulNagial/Regression_Analysis\" target=\"_blank\">refer .ipynb file titled \"Model_Building_Tuning_Evaluation\"</a>)"
   ]
  }
 ],
 "metadata": {
  "kernelspec": {
   "display_name": "Python 3",
   "language": "python",
   "name": "python3"
  },
  "language_info": {
   "codemirror_mode": {
    "name": "ipython",
    "version": 3
   },
   "file_extension": ".py",
   "mimetype": "text/x-python",
   "name": "python",
   "nbconvert_exporter": "python",
   "pygments_lexer": "ipython3",
   "version": "3.8.3"
  },
  "toc": {
   "base_numbering": 1,
   "nav_menu": {},
   "number_sections": true,
   "sideBar": true,
   "skip_h1_title": false,
   "title_cell": "Table of Contents",
   "title_sidebar": "Contents",
   "toc_cell": true,
   "toc_position": {
    "height": "calc(100% - 180px)",
    "left": "10px",
    "top": "150px",
    "width": "290px"
   },
   "toc_section_display": true,
   "toc_window_display": true
  }
 },
 "nbformat": 4,
 "nbformat_minor": 4
}
